{
 "cells": [
  {
   "cell_type": "code",
   "execution_count": 1,
   "metadata": {},
   "outputs": [],
   "source": [
    "import pandas as pd\n",
    "import matplotlib.pyplot as plt\n",
    "import numpy as np\n",
    "import os\n",
    "import tifffile\n",
    "import scipy.io as sio\n",
    "import cv2"
   ]
  },
  {
   "cell_type": "code",
   "execution_count": 2,
   "metadata": {},
   "outputs": [],
   "source": [
    "datapath = '/Users/danielysprague/foco_lab/data'"
   ]
  },
  {
   "cell_type": "markdown",
   "metadata": {},
   "source": [
    "### Histogram matching"
   ]
  },
  {
   "cell_type": "code",
   "execution_count": 3,
   "metadata": {},
   "outputs": [],
   "source": [
    "ref_histogram = sio.loadmat('data/ref_histogram.mat')['avg_hist']"
   ]
  },
  {
   "cell_type": "code",
   "execution_count": 4,
   "metadata": {},
   "outputs": [],
   "source": [
    "def hist_match(sample_image, ref_hist):\n",
    "    im_flat = sample_image.reshape(-1, sample_image.shape[-1])\n",
    "\n",
    "    newim = np.zeros(sample_image.shape, 'uint32')\n",
    "\n",
    "    Amax = np.max(sample_image)\n",
    "\n",
    "    M = np.zeros((3, int(Amax+1)), 'uint32')\n",
    "\n",
    "    for l in range(3): # loop through channels\n",
    "        chan_flat = im_flat[:,l]\n",
    "        chan_ref = ref_hist[:,l]\n",
    "\n",
    "        usemax = np.max(chan_flat)\n",
    "\n",
    "        useedges = np.linspace(0, int(usemax+1), int(usemax+2))\n",
    "\n",
    "        histcounts, edges = np.histogram(chan_flat, useedges)\n",
    "\n",
    "        cdf = np.cumsum(histcounts) / chan_flat.size\n",
    "\n",
    "        sumref = np.cumsum(chan_ref)\n",
    "        cdf_ref = sumref / np.max(sumref)\n",
    "\n",
    "        for idx in range(int(usemax+1)):\n",
    "            ind = np.argmin(np.abs(cdf[idx]-cdf_ref))\n",
    "            M[l, idx] = ind\n",
    "\n",
    "        for i in range(sample_image.shape[0]):\n",
    "            for j in range(sample_image.shape[1]):\n",
    "                for k in range(sample_image.shape[2]):\n",
    "                    newim[i,j,k,l] = M[l, sample_image[i,j,k,l]]       \n",
    "    \n",
    "    return newim"
   ]
  },
  {
   "cell_type": "markdown",
   "metadata": {},
   "source": [
    "### Median filtering"
   ]
  },
  {
   "cell_type": "code",
   "execution_count": 5,
   "metadata": {},
   "outputs": [],
   "source": [
    "def median_filter(im, size):\n",
    "    if size:\n",
    "        size = size\n",
    "    else:\n",
    "        size=3\n",
    "\n",
    "    for i in range(im.shape[2]):\n",
    "        for j in range(im.shape[3]):\n",
    "            im[:,:,i,j] = cv2.medianBlur(im[:,:,i,j], size)\n",
    "\n",
    "    return im\n"
   ]
  },
  {
   "cell_type": "markdown",
   "metadata": {},
   "source": [
    "### Save images"
   ]
  },
  {
   "cell_type": "code",
   "execution_count": 6,
   "metadata": {},
   "outputs": [
    {
     "name": "stdout",
     "output_type": "stream",
     "text": [
      "20240626-12-35-05\n",
      "uint16\n",
      "20240626-13-55-40\n",
      "uint16\n",
      "20240629-14-14-08\n",
      "uint16\n",
      "20240629-14-48-32\n",
      "uint16\n",
      "20240629-17-55-55\n",
      "uint16\n",
      "20240629-20-22-10\n",
      "uint16\n"
     ]
    }
   ],
   "source": [
    "for folder in ['20240626-12-35-05', '20240626-13-55-40', '20240629-14-14-08', '20240629-14-48-32', '20240629-17-55-55', '20240629-20-22-10']:\n",
    "\n",
    "    print(folder)\n",
    "\n",
    "    imfile = sio.loadmat(datapath +'/Manual_annotate/'+folder+'/Composite.mat')\n",
    "\n",
    "    data = imfile['data']\n",
    "    channels = [0,1,2,3]\n",
    "    RGBW = np.squeeze(data[:,:,:,channels])\n",
    "\n",
    "    newim = median_filter(RGBW, 3)\n",
    "    newim = hist_match(newim, ref_histogram)\n",
    "\n",
    "    sio.savemat(datapath+ '/Manual_annotate/'+folder+'/hist_med_image.mat', {'Hist_RGBW':newim})\n",
    "\n",
    "    imfile = sio.loadmat(datapath+ '/Manual_annotate/'+folder+'/hist_med_image.mat')\n",
    "    im = np.transpose(imfile['Hist_RGBW'],(2,3,0,1))\n",
    "    im = im.astype('uint16')\n",
    "    print(im.dtype)\n",
    "\n",
    "    tifffile.imwrite(datapath + '/Manual_annotate/'+folder+'/neuroPAL_image.tif', im, imagej = True)\n"
   ]
  },
  {
   "cell_type": "code",
   "execution_count": 20,
   "metadata": {},
   "outputs": [
    {
     "data": {
      "text/plain": [
       "dict_keys(['__header__', '__version__', '__globals__', 'mp_params', 'None', 'version', '__function_workspace__'])"
      ]
     },
     "execution_count": 20,
     "metadata": {},
     "output_type": "execute_result"
    }
   ],
   "source": [
    "sio.loadmat('../data/Manual_annotate/20240629-20-59-45/neuroPAL_image_ID.mat').keys()"
   ]
  },
  {
   "cell_type": "code",
   "execution_count": null,
   "metadata": {},
   "outputs": [],
   "source": []
  }
 ],
 "metadata": {
  "kernelspec": {
   "display_name": "eats-worm",
   "language": "python",
   "name": "python3"
  },
  "language_info": {
   "codemirror_mode": {
    "name": "ipython",
    "version": 3
   },
   "file_extension": ".py",
   "mimetype": "text/x-python",
   "name": "python",
   "nbconvert_exporter": "python",
   "pygments_lexer": "ipython3",
   "version": "3.10.13"
  }
 },
 "nbformat": 4,
 "nbformat_minor": 2
}
