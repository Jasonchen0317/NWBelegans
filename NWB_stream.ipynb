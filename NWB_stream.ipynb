{
 "cells": [
  {
   "cell_type": "code",
   "execution_count": 1,
   "metadata": {},
   "outputs": [],
   "source": [
    "from collections.abc import Iterable\n",
    "import os\n",
    "\n",
    "from dandi.dandiapi import DandiAPIClient\n",
    "from datetime import datetime, timedelta\n",
    "from dateutil import tz\n",
    "import h5py\n",
    "from hdmf.backends.hdf5.h5_utils import H5DataIO\n",
    "from hdmf.container import Container\n",
    "from hdmf.data_utils import DataChunkIterator\n",
    "import matplotlib.pyplot as plt\n",
    "import numpy as np\n",
    "import os\n",
    "import pandas as pd\n",
    "from pynwb import load_namespaces, get_class, register_class, NWBFile, TimeSeries, NWBHDF5IO\n",
    "from pynwb.file import MultiContainerInterface, NWBContainer, Device, Subject\n",
    "from pynwb.ophys import ImageSeries, OnePhotonSeries, OpticalChannel, ImageSegmentation, PlaneSegmentation, Fluorescence, DfOverF, CorrectedImageStack, MotionCorrection, RoiResponseSeries, ImagingPlane\n",
    "from pynwb.core import NWBDataInterface\n",
    "from pynwb.epoch import TimeIntervals\n",
    "from pynwb.behavior import SpatialSeries, Position\n",
    "from pynwb.image import ImageSeries\n",
    "import remfile\n",
    "import scipy.io as sio\n",
    "import skimage.io as skio\n",
    "from tifffile import TiffFile\n",
    "\n",
    "# ndx_mulitchannel_volume is the novel NWB extension for multichannel optophysiology in C. elegans\n",
    "from ndx_multichannel_volume import CElegansSubject, OpticalChannelReferences, OpticalChannelPlus, ImagingVolume, VolumeSegmentation, MultiChannelVolume, MultiChannelVolumeSeries"
   ]
  },
  {
   "cell_type": "code",
   "execution_count": 11,
   "metadata": {},
   "outputs": [],
   "source": [
    "import os\n",
    "import PyQt6.QtCore\n",
    "os.environ[\"QT_API\"] = \"pyqt6\""
   ]
  },
  {
   "cell_type": "code",
   "execution_count": 3,
   "metadata": {},
   "outputs": [
    {
     "name": "stdout",
     "output_type": "stream",
     "text": [
      "20190924_02\n",
      "20190924_01\n",
      "20190925_04\n",
      "20190924_03\n",
      "20190925_01\n",
      "20190928_03\n",
      "20190928_05\n",
      "20190928_01\n",
      "20190928_08\n",
      "20190928_11\n",
      "20190929_02\n",
      "20190928_13\n",
      "20190929_05\n",
      "20190929_03\n",
      "20190928_07\n",
      "20190929_07\n",
      "20191104_10\n",
      "20191030_03\n",
      "20191104_08\n",
      "20190929_06\n",
      "20191030_07\n"
     ]
    },
    {
     "data": {
      "text/plain": [
       "'\\ntraces = np.transpose(fluor)\\nlabels = [\"\".join(label) for label in labels]\\n\\nplt.rcParams.update(plt.rcParamsDefault)\\n\\ndef plot_traces(traces, rate, labels, selected):\\n\\n    plt.rcParams.update({\\'font.size\\':20})\\n\\n    seconds = traces.shape[1]//rate\\n\\n    fig, axs = plt.subplots(len(selected),1, figsize=(5,6))\\n\\n    for i, neuron in enumerate(selected):\\n        index = np.argwhere(np.asarray(labels)==neuron)\\n        trace = traces[np.squeeze(index),:]\\n\\n        axs[i].plot(np.linspace(0,seconds,traces.shape[1]), trace)\\n        axs[i].set_ylabel(r\\'$\\\\Delta$F/F\\')\\n        axs[i].set_xlim(0,seconds)\\n        axs[i].set_yticks([])\\n        axs[i].set_title(neuron, loc=\\'left\\')\\n\\n        axs[i].spines[\\'right\\'].set_visible(False)\\n        axs[i].spines[\\'top\\'].set_visible(False)\\n\\n    axs[4].set_xlabel(\\'time (seconds)\\')\\n\\n    plt.tight_layout()\\n    plt.show()\\n\\nplot_traces(traces, rate, labels, [\\'AVAR\\', \\'SMDVR\\', \\'AWCR\\',\\'RID\\', \\'ASHR\\'])\\n'"
      ]
     },
     "execution_count": 3,
     "metadata": {},
     "output_type": "execute_result"
    }
   ],
   "source": [
    "dandi_id = '000541' #EY dataset\n",
    "\n",
    "AVA_traces = []\n",
    "SMDV_traces = []\n",
    "AWC_traces = []\n",
    "ASH_traces = []\n",
    "RID_traces = []\n",
    "\n",
    "with DandiAPIClient() as client:\n",
    "    dandiset = client.get_dandiset(dandi_id, 'draft')\n",
    "    for asset in dandiset.get_assets():\n",
    "        s3_url = asset.get_content_url(follow_redirects=1, strip_query=True)\n",
    "        file = remfile.File(s3_url)\n",
    "\n",
    "        with h5py.File(file, 'r') as f:\n",
    "            with NWBHDF5IO(file=f, mode='r', load_namespaces=True) as io:\n",
    "                read_nwb = io.read()\n",
    "                identifier = read_nwb.identifier\n",
    "                print(identifier)\n",
    "                seg = read_nwb.processing['NeuroPAL']['NeuroPALSegmentation']['NeuroPALNeurons'].voxel_mask[:]\n",
    "                labels = read_nwb.processing['NeuroPAL']['NeuroPALSegmentation']['NeuroPALNeurons']['ID_labels'][:]\n",
    "                rate = read_nwb.acquisition['CalciumImageSeries'].rate\n",
    "                fluor = read_nwb.processing['CalciumActivity']['SignalRawFluor']['SignalCalciumImResponseSeries'].data[:]\n",
    "                calc_labels = read_nwb.processing['CalciumActivity']['NeuronIDs'].labels[:]\n",
    "\n",
    "        index_AVA = np.argwhere((np.asarray(calc_labels)=='AVAR') | (np.asarray(calc_labels)=='AVAL'))\n",
    "        index_SMDV = np.argwhere((np.asarray(calc_labels)=='SMDVR') | (np.asarray(calc_labels)=='SMDVL'))\n",
    "        index_AWC = np.argwhere((np.asarray(calc_labels)=='AWCR') | (np.asarray(calc_labels)=='AWCL'))\n",
    "        index_ASH = np.argwhere((np.asarray(calc_labels)=='ASHR') | (np.asarray(calc_labels)=='ASHL'))\n",
    "        index_RID = np.argwhere(np.asarray(calc_labels)=='RID')\n",
    "        AVA_traces = AVA_traces + [np.squeeze(fluor[:,index]/np.mean(fluor[:,index])) for index in index_AVA if index is not None]\n",
    "        SMDV_traces = SMDV_traces + [np.squeeze(fluor[:,index]/np.mean(fluor[:,index])) for index in index_SMDV if index is not None]\n",
    "        AWC_traces = AWC_traces + [np.squeeze(fluor[:, index]/np.mean(fluor[:,index])) for index in index_AWC if index is not None]\n",
    "        ASH_traces = ASH_traces + [np.squeeze(fluor[:,index]/np.mean(fluor[:,index])) for index in index_ASH if index is not None]\n",
    "        RID_traces = RID_traces + [np.squeeze(fluor[:,index]/np.mean(fluor[:,index])) for index in index_RID if index is not None]\n",
    "    "
   ]
  },
  {
   "cell_type": "code",
   "execution_count": 18,
   "metadata": {},
   "outputs": [
    {
     "name": "stderr",
     "output_type": "stream",
     "text": [
      "/Applications/anaconda3/envs/NWB-dev/lib/python3.11/site-packages/matplotlib/cbook/__init__.py:1340: ComplexWarning: Casting complex values to real discards the imaginary part\n",
      "  return np.asarray(x, float)\n"
     ]
    }
   ],
   "source": [
    "%matplotlib qt\n",
    "\n",
    "def plot_traces_fourier(traces, labels, rate):\n",
    "\n",
    "    fig, axs = plt.subplots(len(traces),2)\n",
    "\n",
    "    for i, neuron_trace in enumerate(traces):\n",
    "        for j, trace in enumerate(neuron_trace):\n",
    "            trace_cropped = trace[:936] #truncate so all traces have the same length\n",
    "            time_steps = np.linspace(0,936/4.0,936)\n",
    "            axs[i,0].plot(time_steps,trace_cropped, alpha=0.5)\n",
    "\n",
    "            n = len(trace_cropped)\n",
    "            yf = np.fft.rfft(trace_cropped)\n",
    "            xf = np.fft.rfftfreq(n, d=1/rate)\n",
    "\n",
    "            axs[i,1].plot(xf, yf, alpha=0.5)\n",
    "        \n",
    "        axs[i,0].set_title('Time domain - '+labels[i])\n",
    "        axs[i,1].set_title('Frequency domain - '+labels[i])\n",
    "\n",
    "traces = [AVA_traces, SMDV_traces, AWC_traces, ASH_traces, RID_traces]\n",
    "labels = ['AVA', 'SMDV', 'AWC', 'ASH', 'RID']\n",
    "plot_traces_fourier(traces, labels, rate)"
   ]
  },
  {
   "cell_type": "code",
   "execution_count": null,
   "metadata": {},
   "outputs": [],
   "source": []
  }
 ],
 "metadata": {
  "kernelspec": {
   "display_name": "NWB-dev",
   "language": "python",
   "name": "nwb-dev"
  },
  "language_info": {
   "codemirror_mode": {
    "name": "ipython",
    "version": 3
   },
   "file_extension": ".py",
   "mimetype": "text/x-python",
   "name": "python",
   "nbconvert_exporter": "python",
   "pygments_lexer": "ipython3",
   "version": "3.11.4"
  }
 },
 "nbformat": 4,
 "nbformat_minor": 2
}
