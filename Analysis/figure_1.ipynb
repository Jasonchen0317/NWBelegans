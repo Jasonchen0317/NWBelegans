{
 "cells": [
  {
   "cell_type": "code",
   "execution_count": 1,
   "metadata": {},
   "outputs": [],
   "source": [
    "from collections.abc import Iterable\n",
    "import os\n",
    "\n",
    "from adjustText import adjust_text\n",
    "from datetime import datetime, timedelta\n",
    "from dateutil import tz\n",
    "from hdmf.backends.hdf5.h5_utils import H5DataIO\n",
    "from hdmf.container import Container\n",
    "from hdmf.data_utils import DataChunkIterator\n",
    "import latex\n",
    "import matplotlib.pyplot as plt\n",
    "from matplotlib.patches import Ellipse\n",
    "import matplotlib.transforms as transforms\n",
    "import numpy as np\n",
    "import os\n",
    "import pandas as pd\n",
    "import pickle\n",
    "from pynwb import load_namespaces, get_class, register_class, NWBFile, TimeSeries, NWBHDF5IO\n",
    "from pynwb.file import MultiContainerInterface, NWBContainer, Device, Subject\n",
    "from pynwb.ophys import ImageSeries, OnePhotonSeries, OpticalChannel, ImageSegmentation, PlaneSegmentation, Fluorescence, DfOverF, CorrectedImageStack, MotionCorrection, RoiResponseSeries, ImagingPlane\n",
    "from pynwb.core import NWBDataInterface\n",
    "from pynwb.epoch import TimeIntervals\n",
    "from pynwb.behavior import SpatialSeries, Position\n",
    "from pynwb.image import ImageSeries\n",
    "import pywt\n",
    "import scipy.io as sio\n",
    "import scipy\n",
    "from scipy.stats import multivariate_normal\n",
    "from scipy.optimize import linear_sum_assignment\n",
    "import seaborn as sns\n",
    "import skimage.io as skio\n",
    "from sklearn.neighbors import NearestNeighbors\n",
    "from sklearn.decomposition import PCA\n",
    "from tifffile import TiffFile\n",
    "import tifffile\n",
    "\n",
    "from networkx import kamada_kawai_layout\n",
    "\n",
    "from atlas import loadmat, NPAtlas, NWBAtlas\n",
    "from process_file import get_nwb_neurons, get_dataset_neurons, get_dataset_online, combine_datasets, get_pairings, get_color_discrim, get_neur_nums\n",
    "from stats import get_summary_stats, analyze_pairs, get_accuracy\n",
    "from visualization import plot_num_heatmap, plot_std_heatmap, plot_summary_stats, plot_color_discrim, plot_accuracies, plot_visualizations_atlas, plot_visualizations_data, plot_atlas2d_super\n",
    "from utils import covar_to_coord, convert_coordinates, maha_dist, run_linear_assignment\n",
    "\n",
    "# ndx_mulitchannel_volume is the novel NWB extension for multichannel optophysiology in C. elegans\n",
    "from ndx_multichannel_volume import CElegansSubject, OpticalChannelReferences, OpticalChannelPlus, ImagingVolume, VolumeSegmentation, MultiChannelVolume, MultiChannelVolumeSeries"
   ]
  },
  {
   "cell_type": "code",
   "execution_count": 2,
   "metadata": {},
   "outputs": [],
   "source": [
    "#Optional import if you want to open figures in a separate window, add %matplotlib qt to top of any code box if you want figures to open in a separate window \n",
    "import PyQt6.QtCore\n",
    "os.environ[\"QT_API\"] = \"pyqt6\""
   ]
  },
  {
   "cell_type": "markdown",
   "metadata": {},
   "source": [
    "# Figure 1: Visualizations of NWB file contents\n",
    "\n",
    "Figure 1 contains three ways to visualize the data stored in an NWB file. First, we train the statistical atlas on the corpus of data and generate point clouds aligned to the common atlas space. Trained atlases and aligned point clouds can be downloaded from this link https://ucsf.box.com/s/8kbdfywefcfsn4pfextrzcr25az1vmuj. Download this folder and move it into the root of this repository. You can also run the StatAtlas code provided in this repository to generate new atlases and aligned point clouds."
   ]
  },
  {
   "cell_type": "code",
   "execution_count": 3,
   "metadata": {},
   "outputs": [],
   "source": [
    "NWB_atlas = NWBAtlas(atlas_file = '../data/atlases/2024_03_11_match_full_nosplit.pkl', ganglia='../data/neuron_ganglia.csv') #Load the fully trained Atlas"
   ]
  },
  {
   "cell_type": "code",
   "execution_count": 4,
   "metadata": {},
   "outputs": [],
   "source": [
    "def plot_data_unrolled(df_data, atlas, vRecenter = [0,0,0]): #Unrolled butterfly plot (1a)\n",
    "    \"\"\"df needs: x/y/zcyl, ganglion, h, theta \"\"\"\n",
    "\n",
    "    xyz = np.asarray(df_data[['X','Y','Z']])\n",
    "\n",
    "    xyz = atlas.project_atlas_components(xyz)\n",
    "\n",
    "    df_data['X'] = xyz[:,0]\n",
    "    df_data['Y'] = xyz[:,1]\n",
    "    df_data['Z'] = xyz[:,2]\n",
    "\n",
    "    df_data = convert_coordinates(df_data, vRecenter=vRecenter)\n",
    "\n",
    "    rgb_data = np.asarray(df_data[['R', 'G', 'B']])\n",
    "\n",
    "    marker_size = 20\n",
    "\n",
    "    colors_min = np.amin(rgb_data, axis=0)\n",
    "    colors_max = np.amax(rgb_data, axis=0)\n",
    "    color_norm = np.divide(rgb_data-colors_min, colors_max-colors_min)\n",
    "\n",
    "    sns.set_theme(style='white')\n",
    "    fig = plt.figure()\n",
    "    fig.set_figheight(10)\n",
    "    fig.set_figwidth(6)\n",
    "\n",
    "    ax1 = plt.subplot2grid(shape=(10,6), loc=(0,0), colspan=6, rowspan=10)\n",
    "    atlas_df = atlas.get_df(vRecenter=[60, 10, -10])\n",
    "\n",
    "    ax1.scatter(df_data['theta'], df_data['h'], c=color_norm, s=marker_size)\n",
    "\n",
    "    ax1.axvspan(-135, -45, edgecolor=None, color='lightgrey', alpha=0.4, zorder=0, lw=0)\n",
    "    ax1.axvspan(45, 135, edgecolor=None, color='lightgrey', alpha=0.4, zorder=0, lw=0)\n",
    "    ax1.axvline(-180, ls='--', color='grey')\n",
    "    ax1.axvline(180, ls='--', color='grey')\n",
    "    ax1.set_xlabel('theta')\n",
    "    ax1.set_ylabel('Distance along AP axis')\n",
    "    ax1.legend(fontsize=10)\n",
    "\n",
    "    ax1.spines['right'].set_visible(False)\n",
    "    ax1.spines['left'].set_visible(False)\n",
    "\n",
    "\n",
    "    plt.tight_layout()\n",
    "    plt.show()"
   ]
  },
  {
   "cell_type": "code",
   "execution_count": 5,
   "metadata": {},
   "outputs": [],
   "source": [
    "def plot_data_2d(df_data, atlas): #XZ and XY projections of the data (1b)\n",
    "    plt.rcParams.update({'font.size':30})\n",
    "\n",
    "    xyz = np.asarray(df_data[['X','Y','Z']])\n",
    "\n",
    "    xyz = atlas.project_atlas_components(xyz)\n",
    "\n",
    "    df_data['X'] = xyz[:,0]\n",
    "    df_data['Y'] = xyz[:,1]\n",
    "    df_data['Z'] = xyz[:,2]\n",
    "\n",
    "    rgb_data = np.asarray(df_data[['R', 'G', 'B']])\n",
    "\n",
    "    marker_size = 20\n",
    "\n",
    "    colors_min = np.amin(rgb_data, axis=0)\n",
    "    colors_max = np.amax(rgb_data, axis=0)\n",
    "    color_norm = np.divide(rgb_data-colors_min, colors_max-colors_min)\n",
    "\n",
    "    fig, axs = plt.subplots(2,1,sharex=True)\n",
    "\n",
    "    axs[0].scatter(df_data['X'], df_data['Z'], c=color_norm, s=marker_size)\n",
    "    axs[1].scatter(df_data['X'], df_data['Y'], c=color_norm, s=marker_size)\n",
    "        \n",
    "    axs[0].grid()\n",
    "    axs[0].set_ylabel('Z')\n",
    "    #axs[4].set_ylim((-15,15))\n",
    "    axs[0].set_xticks([])\n",
    "    axs[0].set_yticks([])\n",
    "    axs[0].invert_yaxis()\n",
    "    #axs[0].set_xlim((-5,180))\n",
    "    axs[0].autoscale_view()\n",
    "\n",
    "    axs[1].grid()\n",
    "    axs[1].set_xlabel('X')\n",
    "    axs[1].set_ylabel('Y')\n",
    "    #axs[5].set_ylim((-15,15))\n",
    "    axs[1].set_xticks([])\n",
    "    axs[1].set_yticks([])\n",
    "    #axs[1].set_xlim((-5,180))\n",
    "    axs[1].autoscale_view()\n",
    "\n",
    "    axs[0].spines['right'].set_visible(False)\n",
    "    axs[0].spines['top'].set_visible(False)\n",
    "    axs[1].spines['right'].set_visible(False)\n",
    "    axs[1].spines['top'].set_visible(False)\n",
    "\n",
    "    axs[0].grid(False)\n",
    "    axs[1].grid(False)\n",
    "\n",
    "    plt.show()\n",
    "\n"
   ]
  },
  {
   "cell_type": "code",
   "execution_count": 7,
   "metadata": {},
   "outputs": [],
   "source": [
    "def plot_data_color(df_data, atlas): #2D projections of color space of each neuron (1b)\n",
    "\n",
    "    rgb_data = np.asarray(df_data[['R', 'G', 'B']])\n",
    "\n",
    "    marker_size = 20\n",
    "\n",
    "    colors_min = np.amin(rgb_data, axis=0)\n",
    "    colors_max = np.amax(rgb_data, axis=0)\n",
    "    color_norm = np.divide(rgb_data-colors_min, colors_max-colors_min)\n",
    "\n",
    "    fig, axs = plt.subplots(3,1, sharex=True)\n",
    "\n",
    "    for ax in axs:\n",
    "        #ax.set_aspect('equal')\n",
    "        #ax.set_xlim(-5,35)\n",
    "        #ax.set_ylim(-5,35)\n",
    "        ax.set_xticks([])\n",
    "        ax.set_yticks([])\n",
    "\n",
    "    axs[0].scatter(rgb_data[:,0], rgb_data[:,1], c=color_norm, s=marker_size)\n",
    "    axs[1].scatter(rgb_data[:,0], rgb_data[:,2], c=color_norm, s=marker_size)\n",
    "    axs[2].scatter(rgb_data[:,1], rgb_data[:,2], c=color_norm, s=marker_size)\n",
    "\n",
    "    axs[0].set_xlabel('red')\n",
    "    axs[0].set_ylabel('green')\n",
    "    axs[1].set_xlabel('red')\n",
    "    axs[1].set_ylabel('blue')\n",
    "    axs[2].set_xlabel('green')\n",
    "    axs[2].set_ylabel('blue')\n",
    "\n",
    "    axs[0].set_xlabel('Z-score red')\n",
    "    axs[0].set_ylabel('Z-score green')\n",
    "    axs[1].set_xlabel('Z-score red')\n",
    "    axs[1].set_ylabel('Z-score blue')\n",
    "    axs[2].set_xlabel('Z-score green')\n",
    "    axs[2].set_ylabel('Z-score blue')\n",
    "\n",
    "    axs[0].spines['right'].set_visible(False)\n",
    "    axs[0].spines['top'].set_visible(False)\n",
    "    axs[1].spines['right'].set_visible(False)\n",
    "    axs[1].spines['top'].set_visible(False)\n",
    "    axs[2].spines['right'].set_visible(False)\n",
    "    axs[2].spines['top'].set_visible(False)\n",
    "    \n",
    "    plt.show()"
   ]
  },
  {
   "cell_type": "code",
   "execution_count": 8,
   "metadata": {},
   "outputs": [
    {
     "name": "stderr",
     "output_type": "stream",
     "text": [
      "2024-06-04 19:29:09.082 python[74945:201488785] +[CATransaction synchronize] called within transaction\n",
      "2024-06-04 19:29:09.088 python[74945:201488785] +[CATransaction synchronize] called within transaction\n",
      "2024-06-04 19:29:12.410 python[74945:201488785] +[CATransaction synchronize] called within transaction\n"
     ]
    }
   ],
   "source": [
    "%matplotlib qt\n",
    "\n",
    "df_data = pd.read_csv('../data/aligned_heads/aligned_full/2022-02-12-w01-NP1.csv') #Load data\n",
    "df_data = df_data.rename(columns={\"real_X\":\"X\",\"real_Y\":\"Y\",\"real_Z\":\"Z\", \"aligned_R\":\"R\", \"aligned_G\":\"G\", \"aligned_B\":\"B\"}) #Change column names to just XYZRGB\n",
    "\n",
    "#plot_data_unrolled(df_data, NWB_atlas, vRecenter = [60, 10, -10]) #If using a different atlas, might need to play around with vRecenter a bit to get proper visualization\n",
    "plot_data_2d(df_data, NWB_atlas)\n",
    "#plot_data_color(df_data, NWB_atlas)"
   ]
  },
  {
   "cell_type": "code",
   "execution_count": 10,
   "metadata": {},
   "outputs": [
    {
     "name": "stderr",
     "output_type": "stream",
     "text": [
      "No artists with labels found to put in legend.  Note that artists whose label start with an underscore are ignored when legend() is called with no argument.\n"
     ]
    },
    {
     "name": "stderr",
     "output_type": "stream",
     "text": [
      "/Applications/anaconda3/envs/nwb-test/lib/python3.12/site-packages/ipykernel/eventloops.py:145: UserWarning: Tight layout not applied. tight_layout cannot make axes width small enough to accommodate all axes decorations\n",
      "  el.exec() if hasattr(el, \"exec\") else el.exec_()\n",
      "2024-06-04 19:39:54.085 python[74945:201488785] +[CATransaction synchronize] called within transaction\n",
      "2024-06-04 19:40:03.604 python[74945:201488785] +[CATransaction synchronize] called within transaction\n",
      "2024-06-04 19:40:04.631 python[74945:201488785] +[CATransaction synchronize] called within transaction\n",
      "2024-06-04 19:40:04.895 python[74945:201488785] +[CATransaction synchronize] called within transaction\n",
      "The cached device pixel ratio value was stale on window expose.  Please file a QTBUG which explains how to reproduce.\n",
      "The cached device pixel ratio value was stale on window expose.  Please file a QTBUG which explains how to reproduce.\n",
      "The cached device pixel ratio value was stale on window expose.  Please file a QTBUG which explains how to reproduce.\n"
     ]
    },
    {
     "ename": "",
     "evalue": "",
     "output_type": "error",
     "traceback": [
      "\u001b[1;31mThe Kernel crashed while executing code in the current cell or a previous cell. \n",
      "\u001b[1;31mPlease review the code in the cell(s) to identify a possible cause of the failure. \n",
      "\u001b[1;31mClick <a href='https://aka.ms/vscodeJupyterKernelCrash'>here</a> for more info. \n",
      "\u001b[1;31mView Jupyter <a href='command:jupyter.viewOutput'>log</a> for further details."
     ]
    }
   ],
   "source": [
    "%matplotlib qt\n",
    "\n",
    "df_data = pd.read_csv('../data/aligned_heads/aligned_full/2022-02-12-w01-NP1.csv') #Load data\n",
    "df_data = df_data.rename(columns={\"aligned_x\":\"X\",\"aligned_y\":\"Y\",\"aligned_z\":\"Z\", \"aligned_R\":\"R\", \"aligned_G\":\"G\", \"aligned_B\":\"B\"}) #Change column names to just XYZRGB\n",
    "\n",
    "plot_data_unrolled(df_data, NWB_atlas, vRecenter = [60, 10, -10]) #If using a different atlas, might need to play around with vRecenter a bit to get proper visualization\n",
    "plot_data_2d(df_data, NWB_atlas)\n",
    "plot_data_color(df_data, NWB_atlas)"
   ]
  },
  {
   "cell_type": "code",
   "execution_count": null,
   "metadata": {},
   "outputs": [],
   "source": []
  }
 ],
 "metadata": {
  "kernelspec": {
   "display_name": "nwb-test",
   "language": "python",
   "name": "python3"
  },
  "language_info": {
   "codemirror_mode": {
    "name": "ipython",
    "version": 3
   },
   "file_extension": ".py",
   "mimetype": "text/x-python",
   "name": "python",
   "nbconvert_exporter": "python",
   "pygments_lexer": "ipython3",
   "version": "3.12.2"
  }
 },
 "nbformat": 4,
 "nbformat_minor": 2
}
