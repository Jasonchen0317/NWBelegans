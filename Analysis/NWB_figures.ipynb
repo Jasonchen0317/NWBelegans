{
 "cells": [
  {
   "cell_type": "code",
   "execution_count": 1,
   "metadata": {},
   "outputs": [],
   "source": [
    "from collections.abc import Iterable\n",
    "import os\n",
    "\n",
    "from datetime import datetime, timedelta\n",
    "from dateutil import tz\n",
    "from hdmf.backends.hdf5.h5_utils import H5DataIO\n",
    "from hdmf.container import Container\n",
    "from hdmf.data_utils import DataChunkIterator\n",
    "import matplotlib.pyplot as plt\n",
    "from matplotlib.patches import Ellipse\n",
    "import matplotlib.transforms as transforms\n",
    "import numpy as np\n",
    "import pandas as pd\n",
    "import pickle\n",
    "from pynwb import load_namespaces, get_class, register_class, NWBFile, TimeSeries, NWBHDF5IO\n",
    "from pynwb.file import MultiContainerInterface, NWBContainer, Device, Subject\n",
    "from pynwb.ophys import ImageSeries, OnePhotonSeries, OpticalChannel, ImageSegmentation, PlaneSegmentation, Fluorescence, DfOverF, CorrectedImageStack, MotionCorrection, RoiResponseSeries, ImagingPlane\n",
    "from pynwb.core import NWBDataInterface\n",
    "from pynwb.epoch import TimeIntervals\n",
    "from pynwb.behavior import SpatialSeries, Position\n",
    "from pynwb.image import ImageSeries\n",
    "import scipy.io as sio\n",
    "from scipy.stats import multivariate_normal\n",
    "from scipy.optimize import linear_sum_assignment\n",
    "import seaborn as sns\n",
    "import skimage.io as skio\n",
    "from sklearn.neighbors import NearestNeighbors\n",
    "from sklearn.decomposition import PCA\n",
    "from tifffile import TiffFile\n",
    "\n",
    "from atlas import loadmat, NPAtlas, NWBAtlas\n",
    "from process_file import get_nwb_neurons, get_dataset_neurons, get_dataset_online, combine_datasets, get_pairings, get_color_discrim, get_neur_nums\n",
    "from stats import get_summary_stats, analyze_pairs, get_accuracy\n",
    "from visualization import plot_num_heatmap, plot_std_heatmap, plot_summary_stats, plot_color_discrim, plot_accuracies, plot_visualizations_atlas, plot_visualizations_data, plot_atlas2d_super\n",
    "from utils import covar_to_coord, convert_coordinates, maha_dist, run_linear_assignment\n",
    "\n",
    "# ndx_mulitchannel_volume is the novel NWB extension for multichannel optophysiology in C. elegans\n",
    "from ndx_multichannel_volume import CElegansSubject, OpticalChannelReferences, OpticalChannelPlus, ImagingVolume, VolumeSegmentation, MultiChannelVolume, MultiChannelVolumeSeries"
   ]
  },
  {
   "cell_type": "code",
   "execution_count": 2,
   "metadata": {},
   "outputs": [],
   "source": [
    "import os\n",
    "import PyQt6.QtCore\n",
    "os.environ[\"QT_API\"] = \"pyqt6\"\n"
   ]
  },
  {
   "attachments": {},
   "cell_type": "markdown",
   "metadata": {},
   "source": [
    "## Figure 1: Visualizations of NWB file contents\n",
    "\n",
    "This will probably be an illustrator created visual which shows all of the different objects that go into the NWB file and how they interplay with each other. Similar to how it is shown in the NWB tutorails"
   ]
  },
  {
   "cell_type": "code",
   "execution_count": 3,
   "metadata": {},
   "outputs": [],
   "source": [
    "NWB_atlas = NWBAtlas(atlas_file = '/Users/danielysprague/foco_lab/data/atlases/2023_11_02_1.pkl') #Atlas trained on all datasets"
   ]
  },
  {
   "cell_type": "code",
   "execution_count": 4,
   "metadata": {},
   "outputs": [],
   "source": [
    "NWB_atlas_kimura = NWBAtlas(atlas_file = '/Users/danielysprague/foco_lab/data/atlases/2023_11_14_1_full.pkl') #Atlas trained on all datasets"
   ]
  },
  {
   "cell_type": "code",
   "execution_count": 5,
   "metadata": {},
   "outputs": [],
   "source": [
    "NP_atlas = NWBAtlas(atlas_file = '/Users/danielysprague/foco_lab/data/atlases/NP_original.pkl') #Atlas trained on just original 10 NeuroPAL datasets"
   ]
  },
  {
   "cell_type": "code",
   "execution_count": 37,
   "metadata": {},
   "outputs": [],
   "source": [
    "%matplotlib qt\n",
    "'''\n",
    "Plot unrolled, color plots, and XY/XZ projections of atlas\n",
    "'''\n",
    "\n",
    "plot_visualizations_atlas(NWB_atlas_kimura)\n",
    "plot_visualizations_atlas(NWB_atlas)\n",
    "plot_visualizations_atlas(NP_atlas)"
   ]
  },
  {
   "cell_type": "code",
   "execution_count": 29,
   "metadata": {},
   "outputs": [
    {
     "name": "stderr",
     "output_type": "stream",
     "text": [
      "No artists with labels found to put in legend.  Note that artists whose label start with an underscore are ignored when legend() is called with no argument.\n"
     ]
    },
    {
     "name": "stderr",
     "output_type": "stream",
     "text": [
      "2023-11-13 16:12:39.699 python[36665:36551415] +[CATransaction synchronize] called within transaction\n"
     ]
    }
   ],
   "source": [
    "'''\n",
    "Plot unrolled, color plots, and XY/XZ projections of individual dataset\n",
    "'''\n",
    "\n",
    "df_data = pd.read_csv('/Users/danielysprague/foco_lab/data/aligned_NP/7_YAaLR.csv')\n",
    "df_data = df_data.rename(columns={\"aligned_x\":\"X\",\"aligned_y\":\"Y\",\"aligned_z\":\"Z\", \"aligned_R\":\"R\", \"aligned_G\":\"G\", \"aligned_B\":\"B\"})\n",
    "\n",
    "plot_visualizations_data(df_data, NP_atlas, vRecenter = [60,10,-10])"
   ]
  },
  {
   "cell_type": "code",
   "execution_count": 19,
   "metadata": {},
   "outputs": [],
   "source": [
    "%matplotlib qt\n",
    "\n",
    "'''\n",
    "Plot dataset point cloud super-imposed onto atlas with both XY and XZ projections\n",
    "'''\n",
    "\n",
    "df_data = pd.read_csv('/Users/danielysprague/foco_lab/data/aligned_NP/38_YAaLR.csv')\n",
    "df_data = df_data.rename(columns={\"aligned_x\":\"X\",\"aligned_y\":\"Y\",\"aligned_z\":\"Z\", \"aligned_R\":\"R\", \"aligned_G\":\"G\", \"aligned_B\":\"B\"})\n",
    "\n",
    "plot_atlas2d_super(df_data, NP_atlas)\n"
   ]
  },
  {
   "attachments": {},
   "cell_type": "markdown",
   "metadata": {},
   "source": [
    "## Figure 2: C. elegans extension and NWB architecture"
   ]
  },
  {
   "attachments": {},
   "cell_type": "markdown",
   "metadata": {},
   "source": [
    "\n",
    "## Table 1: Summary of collected datasetes\n",
    "\n",
    "Columns will be: source paper, lab, number of worms, NP/GCaMP/both, average num segmented neurons, average num ID labels, notes"
   ]
  },
  {
   "cell_type": "markdown",
   "metadata": {},
   "source": []
  },
  {
   "attachments": {},
   "cell_type": "markdown",
   "metadata": {},
   "source": [
    "## Figure 3: Software pipelines for working with NWB"
   ]
  },
  {
   "attachments": {},
   "cell_type": "markdown",
   "metadata": {},
   "source": [
    "## Figure 4: Benchmarking performance of curated datasets on different atlases"
   ]
  },
  {
   "cell_type": "code",
   "execution_count": 6,
   "metadata": {},
   "outputs": [
    {
     "name": "stderr",
     "output_type": "stream",
     "text": [
      "/Applications/anaconda3/envs/NWB-dev/lib/python3.11/site-packages/hdmf/spec/namespace.py:531: UserWarning: Ignoring cached namespace 'hdmf-common' version 1.7.0 because version 1.8.0 is already loaded.\n",
      "  warn(\"Ignoring cached namespace '%s' version %s because version %s is already loaded.\"\n",
      "/Applications/anaconda3/envs/NWB-dev/lib/python3.11/site-packages/hdmf/spec/namespace.py:531: UserWarning: Ignoring cached namespace 'hdmf-experimental' version 0.4.0 because version 0.5.0 is already loaded.\n",
      "  warn(\"Ignoring cached namespace '%s' version %s because version %s is already loaded.\"\n",
      "/Applications/anaconda3/envs/NWB-dev/lib/python3.11/site-packages/hdmf/spec/namespace.py:531: UserWarning: Ignoring cached namespace 'ndx-multichannel-volume' version 0.1.7 because version 0.1.9 is already loaded.\n",
      "  warn(\"Ignoring cached namespace '%s' version %s because version %s is already loaded.\"\n",
      "/Applications/anaconda3/envs/NWB-dev/lib/python3.11/site-packages/hdmf/spec/namespace.py:531: UserWarning: Ignoring cached namespace 'hdmf-common' version 1.7.0 because version 1.8.0 is already loaded.\n",
      "  warn(\"Ignoring cached namespace '%s' version %s because version %s is already loaded.\"\n",
      "/Applications/anaconda3/envs/NWB-dev/lib/python3.11/site-packages/hdmf/spec/namespace.py:531: UserWarning: Ignoring cached namespace 'hdmf-experimental' version 0.4.0 because version 0.5.0 is already loaded.\n",
      "  warn(\"Ignoring cached namespace '%s' version %s because version %s is already loaded.\"\n",
      "/Applications/anaconda3/envs/NWB-dev/lib/python3.11/site-packages/hdmf/spec/namespace.py:531: UserWarning: Ignoring cached namespace 'ndx-multichannel-volume' version 0.1.7 because version 0.1.9 is already loaded.\n",
      "  warn(\"Ignoring cached namespace '%s' version %s because version %s is already loaded.\"\n",
      "/Applications/anaconda3/envs/NWB-dev/lib/python3.11/site-packages/hdmf/spec/namespace.py:531: UserWarning: Ignoring cached namespace 'hdmf-common' version 1.7.0 because version 1.8.0 is already loaded.\n",
      "  warn(\"Ignoring cached namespace '%s' version %s because version %s is already loaded.\"\n",
      "/Applications/anaconda3/envs/NWB-dev/lib/python3.11/site-packages/hdmf/spec/namespace.py:531: UserWarning: Ignoring cached namespace 'hdmf-experimental' version 0.4.0 because version 0.5.0 is already loaded.\n",
      "  warn(\"Ignoring cached namespace '%s' version %s because version %s is already loaded.\"\n",
      "/Applications/anaconda3/envs/NWB-dev/lib/python3.11/site-packages/hdmf/spec/namespace.py:531: UserWarning: Ignoring cached namespace 'ndx-multichannel-volume' version 0.1.7 because version 0.1.9 is already loaded.\n",
      "  warn(\"Ignoring cached namespace '%s' version %s because version %s is already loaded.\"\n",
      "/Applications/anaconda3/envs/NWB-dev/lib/python3.11/site-packages/hdmf/spec/namespace.py:531: UserWarning: Ignoring cached namespace 'hdmf-common' version 1.7.0 because version 1.8.0 is already loaded.\n",
      "  warn(\"Ignoring cached namespace '%s' version %s because version %s is already loaded.\"\n",
      "/Applications/anaconda3/envs/NWB-dev/lib/python3.11/site-packages/hdmf/spec/namespace.py:531: UserWarning: Ignoring cached namespace 'hdmf-experimental' version 0.4.0 because version 0.5.0 is already loaded.\n",
      "  warn(\"Ignoring cached namespace '%s' version %s because version %s is already loaded.\"\n",
      "/Applications/anaconda3/envs/NWB-dev/lib/python3.11/site-packages/hdmf/spec/namespace.py:531: UserWarning: Ignoring cached namespace 'ndx-multichannel-volume' version 0.1.7 because version 0.1.9 is already loaded.\n",
      "  warn(\"Ignoring cached namespace '%s' version %s because version %s is already loaded.\"\n",
      "/Applications/anaconda3/envs/NWB-dev/lib/python3.11/site-packages/hdmf/spec/namespace.py:531: UserWarning: Ignoring cached namespace 'hdmf-common' version 1.7.0 because version 1.8.0 is already loaded.\n",
      "  warn(\"Ignoring cached namespace '%s' version %s because version %s is already loaded.\"\n",
      "/Applications/anaconda3/envs/NWB-dev/lib/python3.11/site-packages/hdmf/spec/namespace.py:531: UserWarning: Ignoring cached namespace 'hdmf-experimental' version 0.4.0 because version 0.5.0 is already loaded.\n",
      "  warn(\"Ignoring cached namespace '%s' version %s because version %s is already loaded.\"\n",
      "/Applications/anaconda3/envs/NWB-dev/lib/python3.11/site-packages/hdmf/spec/namespace.py:531: UserWarning: Ignoring cached namespace 'ndx-multichannel-volume' version 0.1.7 because version 0.1.9 is already loaded.\n",
      "  warn(\"Ignoring cached namespace '%s' version %s because version %s is already loaded.\"\n",
      "/Applications/anaconda3/envs/NWB-dev/lib/python3.11/site-packages/hdmf/spec/namespace.py:531: UserWarning: Ignoring cached namespace 'hdmf-common' version 1.7.0 because version 1.8.0 is already loaded.\n",
      "  warn(\"Ignoring cached namespace '%s' version %s because version %s is already loaded.\"\n",
      "/Applications/anaconda3/envs/NWB-dev/lib/python3.11/site-packages/hdmf/spec/namespace.py:531: UserWarning: Ignoring cached namespace 'hdmf-experimental' version 0.4.0 because version 0.5.0 is already loaded.\n",
      "  warn(\"Ignoring cached namespace '%s' version %s because version %s is already loaded.\"\n",
      "/Applications/anaconda3/envs/NWB-dev/lib/python3.11/site-packages/hdmf/spec/namespace.py:531: UserWarning: Ignoring cached namespace 'ndx-multichannel-volume' version 0.1.7 because version 0.1.9 is already loaded.\n",
      "  warn(\"Ignoring cached namespace '%s' version %s because version %s is already loaded.\"\n",
      "/Applications/anaconda3/envs/NWB-dev/lib/python3.11/site-packages/hdmf/spec/namespace.py:531: UserWarning: Ignoring cached namespace 'hdmf-common' version 1.7.0 because version 1.8.0 is already loaded.\n",
      "  warn(\"Ignoring cached namespace '%s' version %s because version %s is already loaded.\"\n",
      "/Applications/anaconda3/envs/NWB-dev/lib/python3.11/site-packages/hdmf/spec/namespace.py:531: UserWarning: Ignoring cached namespace 'hdmf-experimental' version 0.4.0 because version 0.5.0 is already loaded.\n",
      "  warn(\"Ignoring cached namespace '%s' version %s because version %s is already loaded.\"\n",
      "/Applications/anaconda3/envs/NWB-dev/lib/python3.11/site-packages/hdmf/spec/namespace.py:531: UserWarning: Ignoring cached namespace 'ndx-multichannel-volume' version 0.1.7 because version 0.1.9 is already loaded.\n",
      "  warn(\"Ignoring cached namespace '%s' version %s because version %s is already loaded.\"\n",
      "/Applications/anaconda3/envs/NWB-dev/lib/python3.11/site-packages/hdmf/spec/namespace.py:531: UserWarning: Ignoring cached namespace 'hdmf-common' version 1.7.0 because version 1.8.0 is already loaded.\n",
      "  warn(\"Ignoring cached namespace '%s' version %s because version %s is already loaded.\"\n",
      "/Applications/anaconda3/envs/NWB-dev/lib/python3.11/site-packages/hdmf/spec/namespace.py:531: UserWarning: Ignoring cached namespace 'hdmf-experimental' version 0.4.0 because version 0.5.0 is already loaded.\n",
      "  warn(\"Ignoring cached namespace '%s' version %s because version %s is already loaded.\"\n",
      "/Applications/anaconda3/envs/NWB-dev/lib/python3.11/site-packages/hdmf/spec/namespace.py:531: UserWarning: Ignoring cached namespace 'ndx-multichannel-volume' version 0.1.7 because version 0.1.9 is already loaded.\n",
      "  warn(\"Ignoring cached namespace '%s' version %s because version %s is already loaded.\"\n",
      "/Applications/anaconda3/envs/NWB-dev/lib/python3.11/site-packages/hdmf/spec/namespace.py:531: UserWarning: Ignoring cached namespace 'hdmf-common' version 1.7.0 because version 1.8.0 is already loaded.\n",
      "  warn(\"Ignoring cached namespace '%s' version %s because version %s is already loaded.\"\n",
      "/Applications/anaconda3/envs/NWB-dev/lib/python3.11/site-packages/hdmf/spec/namespace.py:531: UserWarning: Ignoring cached namespace 'hdmf-experimental' version 0.4.0 because version 0.5.0 is already loaded.\n",
      "  warn(\"Ignoring cached namespace '%s' version %s because version %s is already loaded.\"\n",
      "/Applications/anaconda3/envs/NWB-dev/lib/python3.11/site-packages/hdmf/spec/namespace.py:531: UserWarning: Ignoring cached namespace 'ndx-multichannel-volume' version 0.1.7 because version 0.1.9 is already loaded.\n",
      "  warn(\"Ignoring cached namespace '%s' version %s because version %s is already loaded.\"\n",
      "/Applications/anaconda3/envs/NWB-dev/lib/python3.11/site-packages/hdmf/spec/namespace.py:531: UserWarning: Ignoring cached namespace 'hdmf-common' version 1.7.0 because version 1.8.0 is already loaded.\n",
      "  warn(\"Ignoring cached namespace '%s' version %s because version %s is already loaded.\"\n",
      "/Applications/anaconda3/envs/NWB-dev/lib/python3.11/site-packages/hdmf/spec/namespace.py:531: UserWarning: Ignoring cached namespace 'hdmf-experimental' version 0.4.0 because version 0.5.0 is already loaded.\n",
      "  warn(\"Ignoring cached namespace '%s' version %s because version %s is already loaded.\"\n",
      "/Applications/anaconda3/envs/NWB-dev/lib/python3.11/site-packages/hdmf/spec/namespace.py:531: UserWarning: Ignoring cached namespace 'ndx-multichannel-volume' version 0.1.7 because version 0.1.9 is already loaded.\n",
      "  warn(\"Ignoring cached namespace '%s' version %s because version %s is already loaded.\"\n",
      "/Applications/anaconda3/envs/NWB-dev/lib/python3.11/site-packages/hdmf/spec/namespace.py:531: UserWarning: Ignoring cached namespace 'hdmf-common' version 1.7.0 because version 1.8.0 is already loaded.\n",
      "  warn(\"Ignoring cached namespace '%s' version %s because version %s is already loaded.\"\n",
      "/Applications/anaconda3/envs/NWB-dev/lib/python3.11/site-packages/hdmf/spec/namespace.py:531: UserWarning: Ignoring cached namespace 'hdmf-experimental' version 0.4.0 because version 0.5.0 is already loaded.\n",
      "  warn(\"Ignoring cached namespace '%s' version %s because version %s is already loaded.\"\n",
      "/Applications/anaconda3/envs/NWB-dev/lib/python3.11/site-packages/hdmf/spec/namespace.py:531: UserWarning: Ignoring cached namespace 'ndx-multichannel-volume' version 0.1.7 because version 0.1.9 is already loaded.\n",
      "  warn(\"Ignoring cached namespace '%s' version %s because version %s is already loaded.\"\n",
      "/Applications/anaconda3/envs/NWB-dev/lib/python3.11/site-packages/hdmf/spec/namespace.py:531: UserWarning: Ignoring cached namespace 'hdmf-common' version 1.7.0 because version 1.8.0 is already loaded.\n",
      "  warn(\"Ignoring cached namespace '%s' version %s because version %s is already loaded.\"\n",
      "/Applications/anaconda3/envs/NWB-dev/lib/python3.11/site-packages/hdmf/spec/namespace.py:531: UserWarning: Ignoring cached namespace 'hdmf-experimental' version 0.4.0 because version 0.5.0 is already loaded.\n",
      "  warn(\"Ignoring cached namespace '%s' version %s because version %s is already loaded.\"\n",
      "/Applications/anaconda3/envs/NWB-dev/lib/python3.11/site-packages/hdmf/spec/namespace.py:531: UserWarning: Ignoring cached namespace 'ndx-multichannel-volume' version 0.1.7 because version 0.1.9 is already loaded.\n",
      "  warn(\"Ignoring cached namespace '%s' version %s because version %s is already loaded.\"\n",
      "/Applications/anaconda3/envs/NWB-dev/lib/python3.11/site-packages/hdmf/spec/namespace.py:531: UserWarning: Ignoring cached namespace 'hdmf-common' version 1.7.0 because version 1.8.0 is already loaded.\n",
      "  warn(\"Ignoring cached namespace '%s' version %s because version %s is already loaded.\"\n",
      "/Applications/anaconda3/envs/NWB-dev/lib/python3.11/site-packages/hdmf/spec/namespace.py:531: UserWarning: Ignoring cached namespace 'hdmf-experimental' version 0.4.0 because version 0.5.0 is already loaded.\n",
      "  warn(\"Ignoring cached namespace '%s' version %s because version %s is already loaded.\"\n",
      "/Applications/anaconda3/envs/NWB-dev/lib/python3.11/site-packages/hdmf/spec/namespace.py:531: UserWarning: Ignoring cached namespace 'ndx-multichannel-volume' version 0.1.7 because version 0.1.9 is already loaded.\n",
      "  warn(\"Ignoring cached namespace '%s' version %s because version %s is already loaded.\"\n",
      "/Applications/anaconda3/envs/NWB-dev/lib/python3.11/site-packages/hdmf/spec/namespace.py:531: UserWarning: Ignoring cached namespace 'hdmf-common' version 1.7.0 because version 1.8.0 is already loaded.\n",
      "  warn(\"Ignoring cached namespace '%s' version %s because version %s is already loaded.\"\n",
      "/Applications/anaconda3/envs/NWB-dev/lib/python3.11/site-packages/hdmf/spec/namespace.py:531: UserWarning: Ignoring cached namespace 'hdmf-experimental' version 0.4.0 because version 0.5.0 is already loaded.\n",
      "  warn(\"Ignoring cached namespace '%s' version %s because version %s is already loaded.\"\n",
      "/Applications/anaconda3/envs/NWB-dev/lib/python3.11/site-packages/hdmf/spec/namespace.py:531: UserWarning: Ignoring cached namespace 'ndx-multichannel-volume' version 0.1.7 because version 0.1.9 is already loaded.\n",
      "  warn(\"Ignoring cached namespace '%s' version %s because version %s is already loaded.\"\n",
      "/Applications/anaconda3/envs/NWB-dev/lib/python3.11/site-packages/hdmf/spec/namespace.py:531: UserWarning: Ignoring cached namespace 'hdmf-common' version 1.7.0 because version 1.8.0 is already loaded.\n",
      "  warn(\"Ignoring cached namespace '%s' version %s because version %s is already loaded.\"\n",
      "/Applications/anaconda3/envs/NWB-dev/lib/python3.11/site-packages/hdmf/spec/namespace.py:531: UserWarning: Ignoring cached namespace 'hdmf-experimental' version 0.4.0 because version 0.5.0 is already loaded.\n",
      "  warn(\"Ignoring cached namespace '%s' version %s because version %s is already loaded.\"\n",
      "/Applications/anaconda3/envs/NWB-dev/lib/python3.11/site-packages/hdmf/spec/namespace.py:531: UserWarning: Ignoring cached namespace 'ndx-multichannel-volume' version 0.1.7 because version 0.1.9 is already loaded.\n",
      "  warn(\"Ignoring cached namespace '%s' version %s because version %s is already loaded.\"\n",
      "/Applications/anaconda3/envs/NWB-dev/lib/python3.11/site-packages/hdmf/spec/namespace.py:531: UserWarning: Ignoring cached namespace 'hdmf-common' version 1.7.0 because version 1.8.0 is already loaded.\n",
      "  warn(\"Ignoring cached namespace '%s' version %s because version %s is already loaded.\"\n",
      "/Applications/anaconda3/envs/NWB-dev/lib/python3.11/site-packages/hdmf/spec/namespace.py:531: UserWarning: Ignoring cached namespace 'hdmf-experimental' version 0.4.0 because version 0.5.0 is already loaded.\n",
      "  warn(\"Ignoring cached namespace '%s' version %s because version %s is already loaded.\"\n",
      "/Applications/anaconda3/envs/NWB-dev/lib/python3.11/site-packages/hdmf/spec/namespace.py:531: UserWarning: Ignoring cached namespace 'ndx-multichannel-volume' version 0.1.7 because version 0.1.9 is already loaded.\n",
      "  warn(\"Ignoring cached namespace '%s' version %s because version %s is already loaded.\"\n",
      "/Applications/anaconda3/envs/NWB-dev/lib/python3.11/site-packages/hdmf/spec/namespace.py:531: UserWarning: Ignoring cached namespace 'hdmf-common' version 1.7.0 because version 1.8.0 is already loaded.\n",
      "  warn(\"Ignoring cached namespace '%s' version %s because version %s is already loaded.\"\n",
      "/Applications/anaconda3/envs/NWB-dev/lib/python3.11/site-packages/hdmf/spec/namespace.py:531: UserWarning: Ignoring cached namespace 'hdmf-experimental' version 0.4.0 because version 0.5.0 is already loaded.\n",
      "  warn(\"Ignoring cached namespace '%s' version %s because version %s is already loaded.\"\n",
      "/Applications/anaconda3/envs/NWB-dev/lib/python3.11/site-packages/hdmf/spec/namespace.py:531: UserWarning: Ignoring cached namespace 'ndx-multichannel-volume' version 0.1.7 because version 0.1.9 is already loaded.\n",
      "  warn(\"Ignoring cached namespace '%s' version %s because version %s is already loaded.\"\n",
      "/Applications/anaconda3/envs/NWB-dev/lib/python3.11/site-packages/hdmf/spec/namespace.py:531: UserWarning: Ignoring cached namespace 'hdmf-common' version 1.7.0 because version 1.8.0 is already loaded.\n",
      "  warn(\"Ignoring cached namespace '%s' version %s because version %s is already loaded.\"\n",
      "/Applications/anaconda3/envs/NWB-dev/lib/python3.11/site-packages/hdmf/spec/namespace.py:531: UserWarning: Ignoring cached namespace 'hdmf-experimental' version 0.4.0 because version 0.5.0 is already loaded.\n",
      "  warn(\"Ignoring cached namespace '%s' version %s because version %s is already loaded.\"\n",
      "/Applications/anaconda3/envs/NWB-dev/lib/python3.11/site-packages/hdmf/spec/namespace.py:531: UserWarning: Ignoring cached namespace 'ndx-multichannel-volume' version 0.1.7 because version 0.1.9 is already loaded.\n",
      "  warn(\"Ignoring cached namespace '%s' version %s because version %s is already loaded.\"\n",
      "/Applications/anaconda3/envs/NWB-dev/lib/python3.11/site-packages/hdmf/spec/namespace.py:531: UserWarning: Ignoring cached namespace 'hdmf-common' version 1.7.0 because version 1.8.0 is already loaded.\n",
      "  warn(\"Ignoring cached namespace '%s' version %s because version %s is already loaded.\"\n",
      "/Applications/anaconda3/envs/NWB-dev/lib/python3.11/site-packages/hdmf/spec/namespace.py:531: UserWarning: Ignoring cached namespace 'hdmf-experimental' version 0.4.0 because version 0.5.0 is already loaded.\n",
      "  warn(\"Ignoring cached namespace '%s' version %s because version %s is already loaded.\"\n",
      "/Applications/anaconda3/envs/NWB-dev/lib/python3.11/site-packages/hdmf/spec/namespace.py:531: UserWarning: Ignoring cached namespace 'ndx-multichannel-volume' version 0.1.7 because version 0.1.9 is already loaded.\n",
      "  warn(\"Ignoring cached namespace '%s' version %s because version %s is already loaded.\"\n",
      "/Applications/anaconda3/envs/NWB-dev/lib/python3.11/site-packages/hdmf/spec/namespace.py:531: UserWarning: Ignoring cached namespace 'hdmf-common' version 1.7.0 because version 1.8.0 is already loaded.\n",
      "  warn(\"Ignoring cached namespace '%s' version %s because version %s is already loaded.\"\n",
      "/Applications/anaconda3/envs/NWB-dev/lib/python3.11/site-packages/hdmf/spec/namespace.py:531: UserWarning: Ignoring cached namespace 'hdmf-experimental' version 0.4.0 because version 0.5.0 is already loaded.\n",
      "  warn(\"Ignoring cached namespace '%s' version %s because version %s is already loaded.\"\n",
      "/Applications/anaconda3/envs/NWB-dev/lib/python3.11/site-packages/hdmf/spec/namespace.py:531: UserWarning: Ignoring cached namespace 'ndx-multichannel-volume' version 0.1.7 because version 0.1.9 is already loaded.\n",
      "  warn(\"Ignoring cached namespace '%s' version %s because version %s is already loaded.\"\n",
      "/Applications/anaconda3/envs/NWB-dev/lib/python3.11/site-packages/hdmf/spec/namespace.py:531: UserWarning: Ignoring cached namespace 'hdmf-common' version 1.7.0 because version 1.8.0 is already loaded.\n",
      "  warn(\"Ignoring cached namespace '%s' version %s because version %s is already loaded.\"\n",
      "/Applications/anaconda3/envs/NWB-dev/lib/python3.11/site-packages/hdmf/spec/namespace.py:531: UserWarning: Ignoring cached namespace 'hdmf-experimental' version 0.4.0 because version 0.5.0 is already loaded.\n",
      "  warn(\"Ignoring cached namespace '%s' version %s because version %s is already loaded.\"\n",
      "/Applications/anaconda3/envs/NWB-dev/lib/python3.11/site-packages/hdmf/spec/namespace.py:531: UserWarning: Ignoring cached namespace 'ndx-multichannel-volume' version 0.1.7 because version 0.1.9 is already loaded.\n",
      "  warn(\"Ignoring cached namespace '%s' version %s because version %s is already loaded.\"\n",
      "/Applications/anaconda3/envs/NWB-dev/lib/python3.11/site-packages/hdmf/spec/namespace.py:531: UserWarning: Ignoring cached namespace 'hdmf-common' version 1.7.0 because version 1.8.0 is already loaded.\n",
      "  warn(\"Ignoring cached namespace '%s' version %s because version %s is already loaded.\"\n",
      "/Applications/anaconda3/envs/NWB-dev/lib/python3.11/site-packages/hdmf/spec/namespace.py:531: UserWarning: Ignoring cached namespace 'hdmf-experimental' version 0.4.0 because version 0.5.0 is already loaded.\n",
      "  warn(\"Ignoring cached namespace '%s' version %s because version %s is already loaded.\"\n",
      "/Applications/anaconda3/envs/NWB-dev/lib/python3.11/site-packages/hdmf/spec/namespace.py:531: UserWarning: Ignoring cached namespace 'ndx-multichannel-volume' version 0.1.7 because version 0.1.9 is already loaded.\n",
      "  warn(\"Ignoring cached namespace '%s' version %s because version %s is already loaded.\"\n",
      "/Applications/anaconda3/envs/NWB-dev/lib/python3.11/site-packages/hdmf/spec/namespace.py:531: UserWarning: Ignoring cached namespace 'hdmf-common' version 1.7.0 because version 1.8.0 is already loaded.\n",
      "  warn(\"Ignoring cached namespace '%s' version %s because version %s is already loaded.\"\n",
      "/Applications/anaconda3/envs/NWB-dev/lib/python3.11/site-packages/hdmf/spec/namespace.py:531: UserWarning: Ignoring cached namespace 'hdmf-experimental' version 0.4.0 because version 0.5.0 is already loaded.\n",
      "  warn(\"Ignoring cached namespace '%s' version %s because version %s is already loaded.\"\n",
      "/Applications/anaconda3/envs/NWB-dev/lib/python3.11/site-packages/hdmf/spec/namespace.py:531: UserWarning: Ignoring cached namespace 'ndx-multichannel-volume' version 0.1.7 because version 0.1.9 is already loaded.\n",
      "  warn(\"Ignoring cached namespace '%s' version %s because version %s is already loaded.\"\n",
      "/Applications/anaconda3/envs/NWB-dev/lib/python3.11/site-packages/hdmf/spec/namespace.py:531: UserWarning: Ignoring cached namespace 'hdmf-common' version 1.7.0 because version 1.8.0 is already loaded.\n",
      "  warn(\"Ignoring cached namespace '%s' version %s because version %s is already loaded.\"\n",
      "/Applications/anaconda3/envs/NWB-dev/lib/python3.11/site-packages/hdmf/spec/namespace.py:531: UserWarning: Ignoring cached namespace 'hdmf-experimental' version 0.4.0 because version 0.5.0 is already loaded.\n",
      "  warn(\"Ignoring cached namespace '%s' version %s because version %s is already loaded.\"\n",
      "/Applications/anaconda3/envs/NWB-dev/lib/python3.11/site-packages/hdmf/spec/namespace.py:531: UserWarning: Ignoring cached namespace 'ndx-multichannel-volume' version 0.1.7 because version 0.1.9 is already loaded.\n",
      "  warn(\"Ignoring cached namespace '%s' version %s because version %s is already loaded.\"\n",
      "/Applications/anaconda3/envs/NWB-dev/lib/python3.11/site-packages/hdmf/spec/namespace.py:531: UserWarning: Ignoring cached namespace 'hdmf-common' version 1.7.0 because version 1.8.0 is already loaded.\n",
      "  warn(\"Ignoring cached namespace '%s' version %s because version %s is already loaded.\"\n",
      "/Applications/anaconda3/envs/NWB-dev/lib/python3.11/site-packages/hdmf/spec/namespace.py:531: UserWarning: Ignoring cached namespace 'hdmf-experimental' version 0.4.0 because version 0.5.0 is already loaded.\n",
      "  warn(\"Ignoring cached namespace '%s' version %s because version %s is already loaded.\"\n",
      "/Applications/anaconda3/envs/NWB-dev/lib/python3.11/site-packages/hdmf/spec/namespace.py:531: UserWarning: Ignoring cached namespace 'ndx-multichannel-volume' version 0.1.7 because version 0.1.9 is already loaded.\n",
      "  warn(\"Ignoring cached namespace '%s' version %s because version %s is already loaded.\"\n",
      "/Applications/anaconda3/envs/NWB-dev/lib/python3.11/site-packages/hdmf/spec/namespace.py:531: UserWarning: Ignoring cached namespace 'hdmf-common' version 1.7.0 because version 1.8.0 is already loaded.\n",
      "  warn(\"Ignoring cached namespace '%s' version %s because version %s is already loaded.\"\n",
      "/Applications/anaconda3/envs/NWB-dev/lib/python3.11/site-packages/hdmf/spec/namespace.py:531: UserWarning: Ignoring cached namespace 'hdmf-experimental' version 0.4.0 because version 0.5.0 is already loaded.\n",
      "  warn(\"Ignoring cached namespace '%s' version %s because version %s is already loaded.\"\n",
      "/Applications/anaconda3/envs/NWB-dev/lib/python3.11/site-packages/hdmf/spec/namespace.py:531: UserWarning: Ignoring cached namespace 'ndx-multichannel-volume' version 0.1.7 because version 0.1.9 is already loaded.\n",
      "  warn(\"Ignoring cached namespace '%s' version %s because version %s is already loaded.\"\n",
      "/Applications/anaconda3/envs/NWB-dev/lib/python3.11/site-packages/hdmf/spec/namespace.py:531: UserWarning: Ignoring cached namespace 'hdmf-common' version 1.7.0 because version 1.8.0 is already loaded.\n",
      "  warn(\"Ignoring cached namespace '%s' version %s because version %s is already loaded.\"\n",
      "/Applications/anaconda3/envs/NWB-dev/lib/python3.11/site-packages/hdmf/spec/namespace.py:531: UserWarning: Ignoring cached namespace 'hdmf-experimental' version 0.4.0 because version 0.5.0 is already loaded.\n",
      "  warn(\"Ignoring cached namespace '%s' version %s because version %s is already loaded.\"\n",
      "/Applications/anaconda3/envs/NWB-dev/lib/python3.11/site-packages/hdmf/spec/namespace.py:531: UserWarning: Ignoring cached namespace 'ndx-multichannel-volume' version 0.1.7 because version 0.1.9 is already loaded.\n",
      "  warn(\"Ignoring cached namespace '%s' version %s because version %s is already loaded.\"\n",
      "/Applications/anaconda3/envs/NWB-dev/lib/python3.11/site-packages/hdmf/spec/namespace.py:531: UserWarning: Ignoring cached namespace 'hdmf-common' version 1.7.0 because version 1.8.0 is already loaded.\n",
      "  warn(\"Ignoring cached namespace '%s' version %s because version %s is already loaded.\"\n",
      "/Applications/anaconda3/envs/NWB-dev/lib/python3.11/site-packages/hdmf/spec/namespace.py:531: UserWarning: Ignoring cached namespace 'hdmf-experimental' version 0.4.0 because version 0.5.0 is already loaded.\n",
      "  warn(\"Ignoring cached namespace '%s' version %s because version %s is already loaded.\"\n",
      "/Applications/anaconda3/envs/NWB-dev/lib/python3.11/site-packages/hdmf/spec/namespace.py:531: UserWarning: Ignoring cached namespace 'ndx-multichannel-volume' version 0.1.7 because version 0.1.9 is already loaded.\n",
      "  warn(\"Ignoring cached namespace '%s' version %s because version %s is already loaded.\"\n",
      "/Applications/anaconda3/envs/NWB-dev/lib/python3.11/site-packages/hdmf/spec/namespace.py:531: UserWarning: Ignoring cached namespace 'hdmf-common' version 1.7.0 because version 1.8.0 is already loaded.\n",
      "  warn(\"Ignoring cached namespace '%s' version %s because version %s is already loaded.\"\n",
      "/Applications/anaconda3/envs/NWB-dev/lib/python3.11/site-packages/hdmf/spec/namespace.py:531: UserWarning: Ignoring cached namespace 'hdmf-experimental' version 0.4.0 because version 0.5.0 is already loaded.\n",
      "  warn(\"Ignoring cached namespace '%s' version %s because version %s is already loaded.\"\n",
      "/Applications/anaconda3/envs/NWB-dev/lib/python3.11/site-packages/hdmf/spec/namespace.py:531: UserWarning: Ignoring cached namespace 'ndx-multichannel-volume' version 0.1.7 because version 0.1.9 is already loaded.\n",
      "  warn(\"Ignoring cached namespace '%s' version %s because version %s is already loaded.\"\n",
      "/Applications/anaconda3/envs/NWB-dev/lib/python3.11/site-packages/hdmf/spec/namespace.py:531: UserWarning: Ignoring cached namespace 'hdmf-common' version 1.7.0 because version 1.8.0 is already loaded.\n",
      "  warn(\"Ignoring cached namespace '%s' version %s because version %s is already loaded.\"\n",
      "/Applications/anaconda3/envs/NWB-dev/lib/python3.11/site-packages/hdmf/spec/namespace.py:531: UserWarning: Ignoring cached namespace 'hdmf-experimental' version 0.4.0 because version 0.5.0 is already loaded.\n",
      "  warn(\"Ignoring cached namespace '%s' version %s because version %s is already loaded.\"\n",
      "/Applications/anaconda3/envs/NWB-dev/lib/python3.11/site-packages/hdmf/spec/namespace.py:531: UserWarning: Ignoring cached namespace 'ndx-multichannel-volume' version 0.1.7 because version 0.1.9 is already loaded.\n",
      "  warn(\"Ignoring cached namespace '%s' version %s because version %s is already loaded.\"\n",
      "/Applications/anaconda3/envs/NWB-dev/lib/python3.11/site-packages/hdmf/spec/namespace.py:531: UserWarning: Ignoring cached namespace 'hdmf-common' version 1.7.0 because version 1.8.0 is already loaded.\n",
      "  warn(\"Ignoring cached namespace '%s' version %s because version %s is already loaded.\"\n",
      "/Applications/anaconda3/envs/NWB-dev/lib/python3.11/site-packages/hdmf/spec/namespace.py:531: UserWarning: Ignoring cached namespace 'hdmf-experimental' version 0.4.0 because version 0.5.0 is already loaded.\n",
      "  warn(\"Ignoring cached namespace '%s' version %s because version %s is already loaded.\"\n",
      "/Applications/anaconda3/envs/NWB-dev/lib/python3.11/site-packages/hdmf/spec/namespace.py:531: UserWarning: Ignoring cached namespace 'ndx-multichannel-volume' version 0.1.7 because version 0.1.9 is already loaded.\n",
      "  warn(\"Ignoring cached namespace '%s' version %s because version %s is already loaded.\"\n",
      "/Applications/anaconda3/envs/NWB-dev/lib/python3.11/site-packages/hdmf/spec/namespace.py:531: UserWarning: Ignoring cached namespace 'hdmf-common' version 1.7.0 because version 1.8.0 is already loaded.\n",
      "  warn(\"Ignoring cached namespace '%s' version %s because version %s is already loaded.\"\n",
      "/Applications/anaconda3/envs/NWB-dev/lib/python3.11/site-packages/hdmf/spec/namespace.py:531: UserWarning: Ignoring cached namespace 'hdmf-experimental' version 0.4.0 because version 0.5.0 is already loaded.\n",
      "  warn(\"Ignoring cached namespace '%s' version %s because version %s is already loaded.\"\n",
      "/Applications/anaconda3/envs/NWB-dev/lib/python3.11/site-packages/hdmf/spec/namespace.py:531: UserWarning: Ignoring cached namespace 'ndx-multichannel-volume' version 0.1.7 because version 0.1.9 is already loaded.\n",
      "  warn(\"Ignoring cached namespace '%s' version %s because version %s is already loaded.\"\n",
      "/Applications/anaconda3/envs/NWB-dev/lib/python3.11/site-packages/hdmf/spec/namespace.py:531: UserWarning: Ignoring cached namespace 'hdmf-common' version 1.7.0 because version 1.8.0 is already loaded.\n",
      "  warn(\"Ignoring cached namespace '%s' version %s because version %s is already loaded.\"\n",
      "/Applications/anaconda3/envs/NWB-dev/lib/python3.11/site-packages/hdmf/spec/namespace.py:531: UserWarning: Ignoring cached namespace 'hdmf-experimental' version 0.4.0 because version 0.5.0 is already loaded.\n",
      "  warn(\"Ignoring cached namespace '%s' version %s because version %s is already loaded.\"\n",
      "/Applications/anaconda3/envs/NWB-dev/lib/python3.11/site-packages/hdmf/spec/namespace.py:531: UserWarning: Ignoring cached namespace 'ndx-multichannel-volume' version 0.1.7 because version 0.1.9 is already loaded.\n",
      "  warn(\"Ignoring cached namespace '%s' version %s because version %s is already loaded.\"\n",
      "/Applications/anaconda3/envs/NWB-dev/lib/python3.11/site-packages/hdmf/spec/namespace.py:531: UserWarning: Ignoring cached namespace 'hdmf-common' version 1.7.0 because version 1.8.0 is already loaded.\n",
      "  warn(\"Ignoring cached namespace '%s' version %s because version %s is already loaded.\"\n",
      "/Applications/anaconda3/envs/NWB-dev/lib/python3.11/site-packages/hdmf/spec/namespace.py:531: UserWarning: Ignoring cached namespace 'hdmf-experimental' version 0.4.0 because version 0.5.0 is already loaded.\n",
      "  warn(\"Ignoring cached namespace '%s' version %s because version %s is already loaded.\"\n",
      "/Applications/anaconda3/envs/NWB-dev/lib/python3.11/site-packages/hdmf/spec/namespace.py:531: UserWarning: Ignoring cached namespace 'ndx-multichannel-volume' version 0.1.7 because version 0.1.9 is already loaded.\n",
      "  warn(\"Ignoring cached namespace '%s' version %s because version %s is already loaded.\"\n",
      "/Applications/anaconda3/envs/NWB-dev/lib/python3.11/site-packages/hdmf/spec/namespace.py:531: UserWarning: Ignoring cached namespace 'hdmf-common' version 1.7.0 because version 1.8.0 is already loaded.\n",
      "  warn(\"Ignoring cached namespace '%s' version %s because version %s is already loaded.\"\n",
      "/Applications/anaconda3/envs/NWB-dev/lib/python3.11/site-packages/hdmf/spec/namespace.py:531: UserWarning: Ignoring cached namespace 'hdmf-experimental' version 0.4.0 because version 0.5.0 is already loaded.\n",
      "  warn(\"Ignoring cached namespace '%s' version %s because version %s is already loaded.\"\n",
      "/Applications/anaconda3/envs/NWB-dev/lib/python3.11/site-packages/hdmf/spec/namespace.py:531: UserWarning: Ignoring cached namespace 'ndx-multichannel-volume' version 0.1.7 because version 0.1.9 is already loaded.\n",
      "  warn(\"Ignoring cached namespace '%s' version %s because version %s is already loaded.\"\n",
      "/Applications/anaconda3/envs/NWB-dev/lib/python3.11/site-packages/hdmf/spec/namespace.py:531: UserWarning: Ignoring cached namespace 'hdmf-common' version 1.7.0 because version 1.8.0 is already loaded.\n",
      "  warn(\"Ignoring cached namespace '%s' version %s because version %s is already loaded.\"\n",
      "/Applications/anaconda3/envs/NWB-dev/lib/python3.11/site-packages/hdmf/spec/namespace.py:531: UserWarning: Ignoring cached namespace 'hdmf-experimental' version 0.4.0 because version 0.5.0 is already loaded.\n",
      "  warn(\"Ignoring cached namespace '%s' version %s because version %s is already loaded.\"\n",
      "/Applications/anaconda3/envs/NWB-dev/lib/python3.11/site-packages/hdmf/spec/namespace.py:531: UserWarning: Ignoring cached namespace 'ndx-multichannel-volume' version 0.1.7 because version 0.1.9 is already loaded.\n",
      "  warn(\"Ignoring cached namespace '%s' version %s because version %s is already loaded.\"\n",
      "/Applications/anaconda3/envs/NWB-dev/lib/python3.11/site-packages/hdmf/spec/namespace.py:531: UserWarning: Ignoring cached namespace 'hdmf-common' version 1.7.0 because version 1.8.0 is already loaded.\n",
      "  warn(\"Ignoring cached namespace '%s' version %s because version %s is already loaded.\"\n",
      "/Applications/anaconda3/envs/NWB-dev/lib/python3.11/site-packages/hdmf/spec/namespace.py:531: UserWarning: Ignoring cached namespace 'hdmf-experimental' version 0.4.0 because version 0.5.0 is already loaded.\n",
      "  warn(\"Ignoring cached namespace '%s' version %s because version %s is already loaded.\"\n",
      "/Applications/anaconda3/envs/NWB-dev/lib/python3.11/site-packages/hdmf/spec/namespace.py:531: UserWarning: Ignoring cached namespace 'ndx-multichannel-volume' version 0.1.7 because version 0.1.9 is already loaded.\n",
      "  warn(\"Ignoring cached namespace '%s' version %s because version %s is already loaded.\"\n",
      "/Applications/anaconda3/envs/NWB-dev/lib/python3.11/site-packages/hdmf/spec/namespace.py:531: UserWarning: Ignoring cached namespace 'hdmf-common' version 1.7.0 because version 1.8.0 is already loaded.\n",
      "  warn(\"Ignoring cached namespace '%s' version %s because version %s is already loaded.\"\n",
      "/Applications/anaconda3/envs/NWB-dev/lib/python3.11/site-packages/hdmf/spec/namespace.py:531: UserWarning: Ignoring cached namespace 'hdmf-experimental' version 0.4.0 because version 0.5.0 is already loaded.\n",
      "  warn(\"Ignoring cached namespace '%s' version %s because version %s is already loaded.\"\n",
      "/Applications/anaconda3/envs/NWB-dev/lib/python3.11/site-packages/hdmf/spec/namespace.py:531: UserWarning: Ignoring cached namespace 'ndx-multichannel-volume' version 0.1.7 because version 0.1.9 is already loaded.\n",
      "  warn(\"Ignoring cached namespace '%s' version %s because version %s is already loaded.\"\n",
      "/Applications/anaconda3/envs/NWB-dev/lib/python3.11/site-packages/hdmf/spec/namespace.py:531: UserWarning: Ignoring cached namespace 'hdmf-common' version 1.7.0 because version 1.8.0 is already loaded.\n",
      "  warn(\"Ignoring cached namespace '%s' version %s because version %s is already loaded.\"\n",
      "/Applications/anaconda3/envs/NWB-dev/lib/python3.11/site-packages/hdmf/spec/namespace.py:531: UserWarning: Ignoring cached namespace 'hdmf-experimental' version 0.4.0 because version 0.5.0 is already loaded.\n",
      "  warn(\"Ignoring cached namespace '%s' version %s because version %s is already loaded.\"\n",
      "/Applications/anaconda3/envs/NWB-dev/lib/python3.11/site-packages/hdmf/spec/namespace.py:531: UserWarning: Ignoring cached namespace 'ndx-multichannel-volume' version 0.1.7 because version 0.1.9 is already loaded.\n",
      "  warn(\"Ignoring cached namespace '%s' version %s because version %s is already loaded.\"\n",
      "/Applications/anaconda3/envs/NWB-dev/lib/python3.11/site-packages/hdmf/spec/namespace.py:531: UserWarning: Ignoring cached namespace 'hdmf-common' version 1.7.0 because version 1.8.0 is already loaded.\n",
      "  warn(\"Ignoring cached namespace '%s' version %s because version %s is already loaded.\"\n",
      "/Applications/anaconda3/envs/NWB-dev/lib/python3.11/site-packages/hdmf/spec/namespace.py:531: UserWarning: Ignoring cached namespace 'hdmf-experimental' version 0.4.0 because version 0.5.0 is already loaded.\n",
      "  warn(\"Ignoring cached namespace '%s' version %s because version %s is already loaded.\"\n",
      "/Applications/anaconda3/envs/NWB-dev/lib/python3.11/site-packages/hdmf/spec/namespace.py:531: UserWarning: Ignoring cached namespace 'ndx-multichannel-volume' version 0.1.7 because version 0.1.9 is already loaded.\n",
      "  warn(\"Ignoring cached namespace '%s' version %s because version %s is already loaded.\"\n",
      "/Applications/anaconda3/envs/NWB-dev/lib/python3.11/site-packages/hdmf/spec/namespace.py:531: UserWarning: Ignoring cached namespace 'hdmf-common' version 1.7.0 because version 1.8.0 is already loaded.\n",
      "  warn(\"Ignoring cached namespace '%s' version %s because version %s is already loaded.\"\n",
      "/Applications/anaconda3/envs/NWB-dev/lib/python3.11/site-packages/hdmf/spec/namespace.py:531: UserWarning: Ignoring cached namespace 'hdmf-experimental' version 0.4.0 because version 0.5.0 is already loaded.\n",
      "  warn(\"Ignoring cached namespace '%s' version %s because version %s is already loaded.\"\n",
      "/Applications/anaconda3/envs/NWB-dev/lib/python3.11/site-packages/hdmf/spec/namespace.py:531: UserWarning: Ignoring cached namespace 'ndx-multichannel-volume' version 0.1.7 because version 0.1.9 is already loaded.\n",
      "  warn(\"Ignoring cached namespace '%s' version %s because version %s is already loaded.\"\n",
      "A newer version (0.58.0) of dandi/dandi-cli is available. You are using 0.56.0\n",
      "/Applications/anaconda3/envs/NWB-dev/lib/python3.11/site-packages/hdmf/spec/namespace.py:531: UserWarning: Ignoring cached namespace 'ndx-multichannel-volume' version 0.1.11 because version 0.1.9 is already loaded.\n",
      "  warn(\"Ignoring cached namespace '%s' version %s because version %s is already loaded.\"\n"
     ]
    },
    {
     "name": "stdout",
     "output_type": "stream",
     "text": [
      "dict_keys(['name', 'labels', 'description', 'ImageSegmentation', 'MCVSegmentation', 'MCVSeriesSegmentation'])\n"
     ]
    },
    {
     "name": "stderr",
     "output_type": "stream",
     "text": [
      "/Applications/anaconda3/envs/NWB-dev/lib/python3.11/site-packages/hdmf/spec/namespace.py:531: UserWarning: Ignoring cached namespace 'ndx-multichannel-volume' version 0.1.11 because version 0.1.9 is already loaded.\n",
      "  warn(\"Ignoring cached namespace '%s' version %s because version %s is already loaded.\"\n"
     ]
    },
    {
     "name": "stdout",
     "output_type": "stream",
     "text": [
      "dict_keys(['name', 'labels', 'description', 'ImageSegmentation', 'MCVSegmentation', 'MCVSeriesSegmentation'])\n"
     ]
    },
    {
     "name": "stderr",
     "output_type": "stream",
     "text": [
      "/Applications/anaconda3/envs/NWB-dev/lib/python3.11/site-packages/hdmf/spec/namespace.py:531: UserWarning: Ignoring cached namespace 'ndx-multichannel-volume' version 0.1.11 because version 0.1.9 is already loaded.\n",
      "  warn(\"Ignoring cached namespace '%s' version %s because version %s is already loaded.\"\n"
     ]
    },
    {
     "name": "stdout",
     "output_type": "stream",
     "text": [
      "dict_keys(['name', 'labels', 'description', 'ImageSegmentation', 'MCVSegmentation', 'MCVSeriesSegmentation'])\n"
     ]
    },
    {
     "name": "stderr",
     "output_type": "stream",
     "text": [
      "/Applications/anaconda3/envs/NWB-dev/lib/python3.11/site-packages/hdmf/spec/namespace.py:531: UserWarning: Ignoring cached namespace 'ndx-multichannel-volume' version 0.1.11 because version 0.1.9 is already loaded.\n",
      "  warn(\"Ignoring cached namespace '%s' version %s because version %s is already loaded.\"\n"
     ]
    },
    {
     "name": "stdout",
     "output_type": "stream",
     "text": [
      "dict_keys(['name', 'labels', 'description', 'ImageSegmentation', 'MCVSegmentation', 'MCVSeriesSegmentation'])\n"
     ]
    },
    {
     "name": "stderr",
     "output_type": "stream",
     "text": [
      "/Applications/anaconda3/envs/NWB-dev/lib/python3.11/site-packages/hdmf/spec/namespace.py:531: UserWarning: Ignoring cached namespace 'ndx-multichannel-volume' version 0.1.11 because version 0.1.9 is already loaded.\n",
      "  warn(\"Ignoring cached namespace '%s' version %s because version %s is already loaded.\"\n"
     ]
    },
    {
     "name": "stdout",
     "output_type": "stream",
     "text": [
      "dict_keys(['name', 'labels', 'description', 'ImageSegmentation', 'MCVSegmentation', 'MCVSeriesSegmentation'])\n"
     ]
    },
    {
     "name": "stderr",
     "output_type": "stream",
     "text": [
      "/Applications/anaconda3/envs/NWB-dev/lib/python3.11/site-packages/hdmf/spec/namespace.py:531: UserWarning: Ignoring cached namespace 'ndx-multichannel-volume' version 0.1.11 because version 0.1.9 is already loaded.\n",
      "  warn(\"Ignoring cached namespace '%s' version %s because version %s is already loaded.\"\n"
     ]
    },
    {
     "name": "stdout",
     "output_type": "stream",
     "text": [
      "dict_keys(['name', 'labels', 'description', 'ImageSegmentation', 'MCVSegmentation', 'MCVSeriesSegmentation'])\n"
     ]
    },
    {
     "name": "stderr",
     "output_type": "stream",
     "text": [
      "/Applications/anaconda3/envs/NWB-dev/lib/python3.11/site-packages/hdmf/spec/namespace.py:531: UserWarning: Ignoring cached namespace 'ndx-multichannel-volume' version 0.1.11 because version 0.1.9 is already loaded.\n",
      "  warn(\"Ignoring cached namespace '%s' version %s because version %s is already loaded.\"\n"
     ]
    },
    {
     "name": "stdout",
     "output_type": "stream",
     "text": [
      "dict_keys(['name', 'labels', 'description', 'ImageSegmentation', 'MCVSegmentation', 'MCVSeriesSegmentation'])\n"
     ]
    },
    {
     "name": "stderr",
     "output_type": "stream",
     "text": [
      "/Applications/anaconda3/envs/NWB-dev/lib/python3.11/site-packages/hdmf/spec/namespace.py:531: UserWarning: Ignoring cached namespace 'ndx-multichannel-volume' version 0.1.11 because version 0.1.9 is already loaded.\n",
      "  warn(\"Ignoring cached namespace '%s' version %s because version %s is already loaded.\"\n"
     ]
    },
    {
     "name": "stdout",
     "output_type": "stream",
     "text": [
      "dict_keys(['name', 'labels', 'description', 'ImageSegmentation', 'MCVSegmentation', 'MCVSeriesSegmentation'])\n"
     ]
    },
    {
     "name": "stderr",
     "output_type": "stream",
     "text": [
      "/Applications/anaconda3/envs/NWB-dev/lib/python3.11/site-packages/hdmf/spec/namespace.py:531: UserWarning: Ignoring cached namespace 'ndx-multichannel-volume' version 0.1.11 because version 0.1.9 is already loaded.\n",
      "  warn(\"Ignoring cached namespace '%s' version %s because version %s is already loaded.\"\n"
     ]
    },
    {
     "name": "stdout",
     "output_type": "stream",
     "text": [
      "dict_keys(['name', 'labels', 'description', 'ImageSegmentation', 'MCVSegmentation', 'MCVSeriesSegmentation'])\n"
     ]
    }
   ],
   "source": [
    "'''\n",
    "Call get_dataset_neurons for each data source folder that you want to process. Returns a df with all blobs across\n",
    "all files in the source folder, with an additional column to show which file that blob came from\n",
    "\n",
    "Call get_summary_stats and plot_summary_stats to get the number of segmented and IDd neurons by dataset and plot\n",
    "on bar plot\n",
    "'''\n",
    "\n",
    "Yem_dataset = get_dataset_neurons('/Users/danielysprague/foco_lab/data/Yemini_NWB')\n",
    "FOCO_dataset = get_dataset_neurons('/Users/danielysprague/foco_lab/data/NWB_Ray')\n",
    "NP_dataset = get_dataset_neurons('/Users/danielysprague/foco_lab/data/NP_nwb')\n",
    "old_FOCO_dataset = get_dataset_neurons('/Users/danielysprague/foco_lab/data/NWB_foco')\n",
    "chaud_dataset = get_dataset_neurons('/Users/danielysprague/foco_lab/data/NWB_chaudhary')\n",
    "kimura_dataset = get_dataset_online('000692')"
   ]
  },
  {
   "cell_type": "code",
   "execution_count": 7,
   "metadata": {},
   "outputs": [],
   "source": [
    "def run_linear_assignment(df_data, atlas):\n",
    "    #df_data should have columns 'X', 'Y', 'Z', 'R', 'G', 'B', 'ID' \n",
    "\n",
    "    df_assigns = df_data.copy()\n",
    "\n",
    "    mu = atlas.mu\n",
    "    sigma = atlas.sigma\n",
    "    neurons = np.asarray(atlas.neurons)\n",
    "\n",
    "    xyzrgb = np.asarray(df_data[['X','Y','Z','R','G','B']])\n",
    "    gt_labels = np.asarray(df_data['ID'])\n",
    "\n",
    "    assigns = np.empty((xyzrgb.shape[0],5),np.dtype('U100'))\n",
    "\n",
    "    cost_mat = np.zeros((xyzrgb.shape[0], mu.shape[0]))\n",
    "\n",
    "    for i in range(xyzrgb.shape[0]):\n",
    "        for j in range(mu.shape[0]):\n",
    "            cost = maha_dist(xyzrgb[i,:], mu[j,:], sigma[:,:,j])\n",
    "\n",
    "            cost_mat[i,j] = cost\n",
    "\n",
    "    for k in range(5):\n",
    "\n",
    "        row_inds, col_inds = linear_sum_assignment(cost_mat)\n",
    "\n",
    "        assigns[row_inds,k] = np.asarray(neurons[col_inds])\n",
    "\n",
    "        cost_mat[row_inds, col_inds] = np.inf\n",
    "\n",
    "    #figure out case where more rows than columns \n",
    "\n",
    "    df_assigns['assign_1'] = assigns[:,0]\n",
    "    df_assigns['assign_2'] = assigns[:,1]\n",
    "    df_assigns['assign_3'] = assigns[:,2]\n",
    "    df_assigns['assign_4'] = assigns[:,3]\n",
    "    df_assigns['assign_5'] = assigns[:,4]\n",
    "\n",
    "    return df_assigns"
   ]
  },
  {
   "cell_type": "code",
   "execution_count": 8,
   "metadata": {},
   "outputs": [],
   "source": [
    "def get_accuracies(folder, atlas):\n",
    "    acc_df = pd.DataFrame(columns=['Percent_IDd', 'Percent_top1', 'Percent_top2', 'Percent_top3', 'Percent_top4', 'Percent_top5', 'Filename'])\n",
    "    for file in os.listdir(folder):\n",
    "        if not file[-4:] == '.csv':\n",
    "            continue\n",
    "\n",
    "        df_data = pd.read_csv(folder + '/'+file)\n",
    "        df_data = df_data.rename(columns={\"aligned_x\":\"X\",\"aligned_y\":\"Y\",\"aligned_z\":\"Z\", \"aligned_R\":\"R\", \"aligned_G\":\"G\", \"aligned_B\":\"B\"})\n",
    "\n",
    "        df = run_linear_assignment(df_data, atlas)\n",
    "\n",
    "        IDd = df[~df['ID'].isnull()]\n",
    "\n",
    "        corr1 = df.loc[df['ID']==df['assign_1']]\n",
    "        corr2 = df.loc[df['ID']==df['assign_2']]\n",
    "        corr3 = df.loc[df['ID']==df['assign_3']]\n",
    "        corr4 = df.loc[df['ID']==df['assign_4']]\n",
    "        corr5 = df.loc[df['ID']==df['assign_5']]\n",
    "            \n",
    "        corr_cum_2 = pd.concat([corr1,corr2]).drop_duplicates().reset_index(drop=True)\n",
    "        corr_cum_3 = pd.concat([corr_cum_2,corr3]).drop_duplicates().reset_index(drop=True)\n",
    "        corr_cum_4 = pd.concat([corr_cum_3,corr4]).drop_duplicates().reset_index(drop=True)\n",
    "        corr_cum_5 = pd.concat([corr_cum_4, corr5]).drop_duplicates().reset_index(drop=True)\n",
    "\n",
    "        per_ID = len(IDd.index)/len(df.index)\n",
    "\n",
    "        per_corr_1 = len(corr1.index)/len(IDd.index)\n",
    "        per_corr_2 = len(corr_cum_2.index)/len(IDd.index)\n",
    "        per_corr_3 = len(corr_cum_3.index)/len(IDd.index)\n",
    "        per_corr_4 = len(corr_cum_4.index)/len(IDd.index)\n",
    "        per_corr_5 = len(corr_cum_5.index)/len(IDd.index)\n",
    "\n",
    "        acc_df.loc[len(acc_df.index)] = [per_ID, per_corr_1, per_corr_2, per_corr_3, per_corr_4, per_corr_5, file[:-4]]\n",
    "\n",
    "    return acc_df"
   ]
  },
  {
   "cell_type": "code",
   "execution_count": 9,
   "metadata": {},
   "outputs": [],
   "source": [
    "'''\n",
    "Pass folder containing atlas aligned values and trained atlas\n",
    "Atlas training/alignment approach uses the histogram matched data\n",
    "\n",
    "Outputs dataframe with columns 'Percent_IDd', 'Percent_top1', 'Percent_top2', 'Percent_top3', 'Percent_top4', 'Percent_top5', 'Filename'\n",
    "'''\n",
    "\n",
    "accs_NP = get_accuracies('/Users/danielysprague/foco_lab/data/aligned_NP', NP_atlas)\n",
    "accs_full = get_accuracies('/Users/danielysprague/foco_lab/data/aligned_full', NWB_atlas_kimura)"
   ]
  },
  {
   "cell_type": "code",
   "execution_count": null,
   "metadata": {},
   "outputs": [],
   "source": [
    "#TODO: Code for comparing histogram matching approaches. \n",
    "#Will be three paired violin plots showing assignment accuracy for each approach"
   ]
  },
  {
   "cell_type": "code",
   "execution_count": 11,
   "metadata": {},
   "outputs": [],
   "source": [
    "%matplotlib qt\n",
    "def plot_accuracies(datasets, accs_NP, accs_full, labels):\n",
    "\n",
    "    df_dataset = pd.DataFrame(columns=['Atlas', 'Dataset', 'Accuracy'])\n",
    "    df_ranks = pd.DataFrame(columns= ['Atlas', 'Rank', 'Accuracy'])\n",
    "\n",
    "    for i, dataset in enumerate(datasets):\n",
    "        for key in dataset.keys():\n",
    "            acc_NP = accs_NP.loc[accs_NP['Filename']==key]\n",
    "            acc_full = accs_full.loc[accs_full['Filename']==key]\n",
    "\n",
    "            df_dataset.loc[len(df_dataset.index)] = ['NP', labels[i], acc_NP.iloc[0]['Percent_top1']]\n",
    "            df_dataset.loc[len(df_dataset.index)] = ['Consolidated', labels[i], acc_full.iloc[0]['Percent_top1']]\n",
    "\n",
    "            df_ranks.loc[len(df_ranks.index)] = ['NP', 'top', acc_NP.iloc[0]['Percent_top1']]\n",
    "            df_ranks.loc[len(df_ranks.index)] = ['Consolidated', 'top', acc_full.iloc[0]['Percent_top1']]\n",
    "            df_ranks.loc[len(df_ranks.index)] = ['NP', 'top2', acc_NP.iloc[0]['Percent_top2']]\n",
    "            df_ranks.loc[len(df_ranks.index)] = ['Consolidated', 'top2', acc_full.iloc[0]['Percent_top2']]\n",
    "            df_ranks.loc[len(df_ranks.index)] = ['NP', 'top3', acc_NP.iloc[0]['Percent_top3']]\n",
    "            df_ranks.loc[len(df_ranks.index)] = ['Consolidated', 'top3', acc_full.iloc[0]['Percent_top3']]\n",
    "            df_ranks.loc[len(df_ranks.index)] = ['NP', 'top4', acc_NP.iloc[0]['Percent_top4']]\n",
    "            df_ranks.loc[len(df_ranks.index)] = ['Consolidated', 'top4', acc_full.iloc[0]['Percent_top4']]\n",
    "            df_ranks.loc[len(df_ranks.index)] = ['NP', 'top5', acc_NP.iloc[0]['Percent_top5']]\n",
    "            df_ranks.loc[len(df_ranks.index)] = ['Consolidated', 'top5', acc_full.iloc[0]['Percent_top5']]\n",
    "\n",
    "    fig, axs = plt.subplots(1,2)\n",
    "\n",
    "    sns.violinplot(ax= axs[0], data = df_dataset, x = 'Dataset', y='Accuracy', hue='Atlas', gap=0.5, palette=['purple','pink'], orient='v', split=True, cut=0, inner='quart', density_norm='width') \n",
    "    \n",
    "    for i, dataset in enumerate(labels):\n",
    "        NP_vals = df_dataset[(df_dataset['Dataset']==dataset)&(df_dataset['Atlas']=='NP')]['Accuracy']\n",
    "        consol_vals = df_dataset[(df_dataset['Dataset']==dataset)&(df_dataset['Atlas']=='Consolidated')]['Accuracy']\n",
    "\n",
    "        for a, b in zip(NP_vals, consol_vals):\n",
    "            axs[0].plot([i-0.1,i+0.1], [a,b], color='black', linewidth=0.5)\n",
    "\n",
    "    sns.violinplot(ax= axs[1], data = df_ranks, x = 'Rank', y='Accuracy', hue='Atlas', gap=0.5, palette=['purple', 'pink'], orient='v', split=True, cut=0, inner='quart', density_norm='width') \n",
    "\n",
    "    ranks = ['top', 'top2', 'top3', 'top4', 'top5']\n",
    "\n",
    "    for j, rank in enumerate(ranks):\n",
    "        NP_vals_rank = df_ranks[(df_ranks['Rank']==rank)&(df_ranks['Atlas']=='NP')]['Accuracy']\n",
    "        consol_vals_rank = df_ranks[(df_ranks['Rank']==rank)&(df_ranks['Atlas']=='Consolidated')]['Accuracy']\n",
    "\n",
    "        for a, b in zip(NP_vals_rank, consol_vals_rank):\n",
    "            axs[1].plot([j-0.1,j+0.1], [a,b], color='black', linewidth=0.5)\n",
    "\n",
    "    axs[0].set_ylim((0,1))\n",
    "    axs[1].set_ylim((0,1))\n",
    "    \n",
    "    axs[0].set_title('Accuracy by dataset')\n",
    "    axs[1].set_title('Cumulative accuracy of top n assignments')\n",
    "\n",
    "    plt.show()\n",
    "    \n",
    "plot_accuracies([NP_dataset, chaud_dataset, Yem_dataset, old_FOCO_dataset, FOCO_dataset, kimura_dataset], accs_NP, accs_full, ['NP', 'Chaudhary', 'Yemini', 'Old FOCO', 'New FOCO', 'Kimura'])"
   ]
  },
  {
   "attachments": {},
   "cell_type": "markdown",
   "metadata": {},
   "source": [
    "## Figure 5: Summary statistics of datasets\n",
    "\n",
    "Unprocessed data from each dataset run through NP software, box-whisker plot, plus additional box for performance of consolidated dataset"
   ]
  },
  {
   "cell_type": "code",
   "execution_count": 33,
   "metadata": {},
   "outputs": [
    {
     "name": "stdout",
     "output_type": "stream",
     "text": [
      "dict_keys(['20190928_08', '20190929_02', '20190929_03', '20190925_01', '20191030_07', '20190925_04', '20191030_03', '20190929_05', '20190929_07', '20190929_06', '20191104_10', '20191104_08', '20190924_01', '20190928_01', '20190928_03', '20190924_03', '20190924_02', '20190928_13', '20190928_07', '20190928_11', '20190928_05', '20230412-20-15-17', '20230506-14-24-57', '20230510-13-25-46', '20230322-22-43-03', '20221106-21-47-31', '20230506-12-56-00', '20221106-21-00-09', '20230322-20-16-50', '20221028-18-48-00', '20230506-13-32-08', '20230510-16-36-46', '20230506-15-33-51', '20230510-15-49-47', '20221215-20-02-49', '20230322-21-41-10', '20221106-21-23-19', '20230506-15-01-45', '20230510-12-53-34', '20221215-22-02-55', '20230322-18-57-04', '56_YAaDV', '38_YAaDV', '76_YAaDV', '11_YAaLR', '64_YAaDV', '70_YAaLR', '55_YAaDV', '7_YAaLR', '62_YAaLR', '20_YAaLR', '2021-12-03-w00-NP1', '2022-03-05-w00-NP1', '2022-02-12-w00-NP1', '2022-02-22-w04-NP1', '2022-02-11-w03-NP1', '2022-02-12-w01-NP1', '2022-01-22-w04-NP1', '2022-04-26-w01-NP1', '2022-04-26-w00-NP1', '2022-04-01-w00-NP1', '2', '3', '1', '4', '5', '7', '6', '8', '9'])\n"
     ]
    }
   ],
   "source": [
    "'''\n",
    "Pass datasets generated by get_dataset_neurons to combine datasetes. Can pass any number of datasets as \n",
    "list elements. This will preserve which file each neuron comes from but not which original folder\n",
    "'''\n",
    "\n",
    "tot_dataset = combine_datasets([Yem_dataset, FOCO_dataset, NP_dataset, old_FOCO_dataset, chaud_dataset, kimura_dataset])\n",
    "print(tot_dataset.keys())"
   ]
  },
  {
   "cell_type": "code",
   "execution_count": 34,
   "metadata": {},
   "outputs": [],
   "source": [
    "pair_NP = get_pairings(NP_dataset)\n",
    "pair_tot = get_pairings(tot_dataset)"
   ]
  },
  {
   "cell_type": "code",
   "execution_count": 207,
   "metadata": {},
   "outputs": [],
   "source": [
    "def get_neur_nums(tot_dataset, atlas):\n",
    "\n",
    "    neur_IDs = atlas.df['ID']\n",
    "\n",
    "    num_datasets = len(tot_dataset.keys())\n",
    "    neurons = {k:0 for k in neur_IDs}\n",
    "\n",
    "    for dataset in tot_dataset.keys():\n",
    "        blobs = tot_dataset[dataset]\n",
    "\n",
    "        for i, row in blobs.iterrows():\n",
    "            ID = row['ID']\n",
    "            if ID == '':\n",
    "                continue\n",
    "\n",
    "            if not ID in neurons:\n",
    "                neurons[ID] = 1\n",
    "\n",
    "            else:\n",
    "                neurons[ID] += 1\n",
    "\n",
    "    return neurons, num_datasets\n",
    "\n",
    "def plot_neur_nums(neurons, num_datasets, atlas):\n",
    "\n",
    "    neur_df = atlas.df[['ID', 'ganglion']]\n",
    "\n",
    "    dict_df = pd.DataFrame(list(neurons.items()), columns = ['ID', 'num'])\n",
    "    dict_df['frac'] = dict_df['num']/num_datasets\n",
    " \n",
    "    merged = pd.merge(neur_df, dict_df, on='ID') #this will preserve the order of neurons from neur_df which is sorted by ganglion and then distance along x axis\n",
    "\n",
    "    sns.set(style='whitegrid')\n",
    "\n",
    "    plt.figure(figsize=(12,8))\n",
    "    sns.barplot(x='ID', y='frac', hue='ganglion', data=merged)\n",
    "\n",
    "    plt.xlabel('Neuron IDs')\n",
    "    plt.ylabel('Fraction of datasets with ground truth labeled neuron')\n",
    "\n",
    "    plt.xticks(rotation=60, ha='right', fontsize=6)\n",
    "\n",
    "    bar_width = 1\n",
    "\n",
    "    for patch in plt.gca().patches:\n",
    "        current_width = patch.get_width()\n",
    "        diff = current_width - bar_width\n",
    "\n",
    "        # Change the bar width\n",
    "        patch.set_width(bar_width)\n",
    "\n",
    "        # Recenter the bar\n",
    "        patch.set_x(patch.get_x() + diff * .5)\n",
    "\n",
    "    # Show the plot\n",
    "    plt.legend(title='ganglion', loc='upper right')\n",
    "\n",
    "    plt.show()\n",
    "\n",
    "\n"
   ]
  },
  {
   "cell_type": "code",
   "execution_count": 208,
   "metadata": {},
   "outputs": [],
   "source": [
    "'''\n",
    "Plot the fraction of datasets with ground truth label for each neuron\n",
    "'''\n",
    "\n",
    "neurons, num = get_neur_nums(tot_dataset, NWB_atlas)\n",
    "plot_neur_nums(neurons, num, NWB_atlas)"
   ]
  },
  {
   "cell_type": "code",
   "execution_count": 211,
   "metadata": {},
   "outputs": [],
   "source": [
    "'''\n",
    "Plot the heatmap of pairwise standard deviations for the whole dataset\n",
    "\n",
    "TODO: possibly add plot for just the NP atlas original data to show comparison \n",
    "'''\n",
    "\n",
    "df = NWB_atlas.get_df()\n",
    "\n",
    "num_pair, num_heatmap, total_std_heatmap = analyze_pairs(pair_tot, df, len(tot_dataset.keys()))\n",
    "plot_std_heatmap(num_heatmap, total_std_heatmap, df)\n",
    "plot_num_heatmap(num_heatmap, df)\n",
    "\n",
    "num_pair_NP, num_heatmap_NP, total_std_heatmap_NP = analyze_pairs(pair_NP, df, len(NP_dataset.keys()))\n",
    "plot_std_heatmap(num_heatmap_NP, total_std_heatmap_NP, df)\n",
    "plot_num_heatmap(num_heatmap_NP, df)"
   ]
  },
  {
   "cell_type": "code",
   "execution_count": 30,
   "metadata": {},
   "outputs": [
    {
     "ename": "NameError",
     "evalue": "name 'pair_tot' is not defined",
     "output_type": "error",
     "traceback": [
      "\u001b[0;31m---------------------------------------------------------------------------\u001b[0m",
      "\u001b[0;31mNameError\u001b[0m                                 Traceback (most recent call last)",
      "Cell \u001b[0;32mIn[30], line 45\u001b[0m\n\u001b[1;32m     41\u001b[0m                 visited_pair\u001b[39m.\u001b[39mappend(pair)\n\u001b[1;32m     43\u001b[0m     \u001b[39mreturn\u001b[39;00m ganglia\n\u001b[0;32m---> 45\u001b[0m ganglia \u001b[39m=\u001b[39m get_ganglia_variance(NWB_atlas\u001b[39m.\u001b[39mget_df(), pair_tot, \u001b[39m10\u001b[39m)\n",
      "\u001b[0;31mNameError\u001b[0m: name 'pair_tot' is not defined"
     ]
    }
   ],
   "source": [
    "def get_ganglia_variance(atlas_df, pairs, num_neighbors):\n",
    "\n",
    "    ganglia = {}\n",
    "    visited_pair = []\n",
    "    X = np.asarray(atlas_df[['X','Y','Z']])\n",
    "    neighbors = NearestNeighbors(n_neighbors=num_neighbors, algorithm='auto')\n",
    "\n",
    "    neighbors.fit(X)\n",
    "\n",
    "    neighbor_dists, neighbor_index = neighbors.kneighbors(X=X, return_distance = True)\n",
    "\n",
    "    for i, row in atlas_df.iterrows():\n",
    "        neighbors = neighbor_index[i,1:]\n",
    "        neighb_dists = neighbor_dists[i, 1:]\n",
    "        ID = row['ID']\n",
    "        ganglion = row['ganglion']\n",
    "        for j, neighbor in enumerate(neighbors):\n",
    "            n_ID = atlas_df.loc[neighbor, 'ID']\n",
    "            n_gang = atlas_df.loc[neighbor, 'ganglion']\n",
    "            if ganglion < n_gang:\n",
    "                gang_pair = ganglion + '-' + n_gang\n",
    "            else:\n",
    "                gang_pair = n_gang + '-' + ganglion\n",
    "\n",
    "            if ID == n_ID:\n",
    "                break\n",
    "            elif ID < n_ID:\n",
    "                pair = ID + '-' + n_ID\n",
    "            else:\n",
    "                pair = n_ID + '-' + ID\n",
    "\n",
    "            if pair in pairs.keys() and pair not in visited_pair:\n",
    "                pair_dists = pairs[pair]\n",
    "                pair_std = np.std(pair_dists)\n",
    "\n",
    "                if not gang_pair in ganglia.keys():\n",
    "                    ganglia[gang_pair] = [pair_std]\n",
    "                else:\n",
    "                    ganglia[gang_pair].append(pair_std)\n",
    "\n",
    "                visited_pair.append(pair)\n",
    "\n",
    "    return ganglia\n",
    "\n",
    "ganglia = get_ganglia_variance(NWB_atlas.get_df(), pair_tot, 10)"
   ]
  },
  {
   "cell_type": "code",
   "execution_count": null,
   "metadata": {},
   "outputs": [],
   "source": [
    "def plot_ganglion_variance(ganglia):\n",
    "\n",
    "    abbrevs = {'Anterior Pharyngeal Bulb':'AntBulb', 'Anterior Ganglion':'Ant', 'Dorsal Ganglion':'Dors', 'Lateral Ganglion':'Lat', 'Ventral Ganglion':'Vent', 'Retro Vesicular Ganglion':'RVG', 'Posterior Pharyngeal Bulb':'PostBulb','other':'Oth'}\n",
    "    order = ['AntBulb-AntBulb', 'Ant-Ant', 'Dors-Dors', 'Lat-Lat', 'Vent-Vent', 'RVG-RVG', 'PostBulb-PostBulb', 'Ant-AntBulb', 'Ant-Vent','Dors-Lat', 'Lat-Vent','Lat-RVG','Lat-PostBulb', 'RVG-Vent', 'PostBulb-Vent']\n",
    "\n",
    "    data = {'abbrev':[], 'ganglion1':[], 'ganglion2':[], 'value':[], 'intra':[]}\n",
    "\n",
    "    for key,values in ganglia.items():\n",
    "        ganglion1, ganglion2 = key.split('-')\n",
    "\n",
    "        if len(values)<5:\n",
    "            continue\n",
    "\n",
    "        for value in values:\n",
    "            if ganglion1 =='other' or ganglion2 =='other':\n",
    "                continue\n",
    "            data['abbrev'].append(abbrevs[ganglion1] + '-' +abbrevs[ganglion2])\n",
    "            data['ganglion1'].append(ganglion1)\n",
    "            data['ganglion2'].append(ganglion2)\n",
    "            data['value'].append(value)\n",
    "            data['intra'].append(ganglion1 == ganglion2)\n",
    "\n",
    "\n",
    "\n",
    "    df = pd.DataFrame(data)\n",
    "    \n",
    "    print(df.head())\n",
    "\n",
    "    sns.set(style='whitegrid')\n",
    "    fig, axs = plt.subplots(figsize=(20,6))\n",
    "\n",
    "    g1 = sns.barplot(ax=axs, data= df, order=order, x='abbrev', y='value', hue='intra', dodge=False, alpha=0.5, errorbar=None)\n",
    "    g2 = sns.stripplot(ax=axs, data=df, order=order,x='abbrev',y='value', hue='intra', dodge=False, legend=False)\n",
    "    axs.set_ylabel('Standard Deviation in um')\n",
    "    axs.set_xlabel(None)\n",
    "    plt.xticks(rotation='vertical')\n",
    "    plt.title('Intra and inter ganglion standard deviation of 10 closest atlas neighbors')\n",
    "    plt.tight_layout()\n",
    "\n",
    "    plt.show()\n",
    "\n",
    "plot_ganglion_variance(ganglia)    "
   ]
  },
  {
   "cell_type": "code",
   "execution_count": null,
   "metadata": {},
   "outputs": [],
   "source": [
    "def plot_sum_heatmap(heatmap,df):\n",
    "\n",
    "    avg_std = np.sum(heatmap,axis=0)/heatmap.shape[0]\n",
    "\n",
    "    new_df = df.copy()\n",
    "\n",
    "    new_df['std'] = avg_std\n",
    "    print(len(avg_std))\n",
    "    print(len(np.asarray(new_df['ganglion'])))\n",
    "\n",
    "    bar = sns.catplot(data=new_df, y='ID', x='std', hue='ganglion', kind='bar',orient='h', dodge=False)\n",
    "\n",
    "    bar.set(yticklabels=[])\n",
    "\n",
    "    #plt.legend([],[], frameon=False)\n",
    "    plt.legend(bbox_to_anchor=(1.05, 1), loc='upper left', borderaxespad=0)\n",
    "\n",
    "    plt.show()\n",
    "\n",
    "    return np.asarray(new_df['std'])\n",
    "    \n",
    "\n",
    "stds = plot_sum_heatmap(total_std_heatmap, atlas.get_df())"
   ]
  },
  {
   "attachments": {},
   "cell_type": "markdown",
   "metadata": {},
   "source": [
    "## Lineage plots"
   ]
  },
  {
   "cell_type": "code",
   "execution_count": 114,
   "metadata": {},
   "outputs": [
    {
     "data": {
      "text/html": [
       "<div>\n",
       "<style scoped>\n",
       "    .dataframe tbody tr th:only-of-type {\n",
       "        vertical-align: middle;\n",
       "    }\n",
       "\n",
       "    .dataframe tbody tr th {\n",
       "        vertical-align: top;\n",
       "    }\n",
       "\n",
       "    .dataframe thead th {\n",
       "        text-align: right;\n",
       "    }\n",
       "</style>\n",
       "<table border=\"1\" class=\"dataframe\">\n",
       "  <thead>\n",
       "    <tr style=\"text-align: right;\">\n",
       "      <th></th>\n",
       "      <th>#cellName</th>\n",
       "      <th>linealName</th>\n",
       "      <th>parentLinealName</th>\n",
       "      <th>birthTimeInMin</th>\n",
       "      <th>deathTimeInMin</th>\n",
       "      <th>cellType</th>\n",
       "      <th>description</th>\n",
       "      <th>sex</th>\n",
       "    </tr>\n",
       "  </thead>\n",
       "  <tbody>\n",
       "    <tr>\n",
       "      <th>0</th>\n",
       "      <td>ABa</td>\n",
       "      <td>ABa</td>\n",
       "      <td>AB</td>\n",
       "      <td>17</td>\n",
       "      <td>\\N</td>\n",
       "      <td>NaN</td>\n",
       "      <td>NaN</td>\n",
       "      <td>herm</td>\n",
       "    </tr>\n",
       "    <tr>\n",
       "      <th>1</th>\n",
       "      <td>ABal</td>\n",
       "      <td>ABal</td>\n",
       "      <td>ABa</td>\n",
       "      <td>35</td>\n",
       "      <td>\\N</td>\n",
       "      <td>NaN</td>\n",
       "      <td>NaN</td>\n",
       "      <td>herm</td>\n",
       "    </tr>\n",
       "    <tr>\n",
       "      <th>2</th>\n",
       "      <td>ABala</td>\n",
       "      <td>ABala</td>\n",
       "      <td>ABal</td>\n",
       "      <td>50</td>\n",
       "      <td>\\N</td>\n",
       "      <td>NaN</td>\n",
       "      <td>NaN</td>\n",
       "      <td>herm</td>\n",
       "    </tr>\n",
       "    <tr>\n",
       "      <th>3</th>\n",
       "      <td>ABalaa</td>\n",
       "      <td>ABalaa</td>\n",
       "      <td>ABala</td>\n",
       "      <td>68</td>\n",
       "      <td>\\N</td>\n",
       "      <td>NaN</td>\n",
       "      <td>NaN</td>\n",
       "      <td>herm</td>\n",
       "    </tr>\n",
       "    <tr>\n",
       "      <th>4</th>\n",
       "      <td>ABalaaa</td>\n",
       "      <td>ABalaaa</td>\n",
       "      <td>ABalaa</td>\n",
       "      <td>94</td>\n",
       "      <td>\\N</td>\n",
       "      <td>NaN</td>\n",
       "      <td>NaN</td>\n",
       "      <td>herm</td>\n",
       "    </tr>\n",
       "  </tbody>\n",
       "</table>\n",
       "</div>"
      ],
      "text/plain": [
       "  #cellName linealName parentLinealName birthTimeInMin deathTimeInMin  \\\n",
       "0       ABa        ABa               AB             17             \\N   \n",
       "1      ABal       ABal              ABa             35             \\N   \n",
       "2     ABala      ABala             ABal             50             \\N   \n",
       "3    ABalaa     ABalaa            ABala             68             \\N   \n",
       "4   ABalaaa    ABalaaa           ABalaa             94             \\N   \n",
       "\n",
       "  cellType description   sex  \n",
       "0      NaN         NaN  herm  \n",
       "1      NaN         NaN  herm  \n",
       "2      NaN         NaN  herm  \n",
       "3      NaN         NaN  herm  \n",
       "4      NaN         NaN  herm  "
      ]
     },
     "execution_count": 114,
     "metadata": {},
     "output_type": "execute_result"
    }
   ],
   "source": [
    "lin_df = pd.read_csv('/Users/danielysprague/foco_lab/data/worm_lineage.csv')\n",
    "lin_df.loc[lin_df['#cellName']=='hmc', '#cellName'] = 'HMC'\n",
    "lin_df.loc[lin_df['#cellName']=='AMsoR', '#cellName'] = 'AMSOR'\n",
    "lin_df.loc[lin_df['#cellName']=='AMsoL', '#cellName'] = 'AMSOL'\n",
    "lin_df.head()"
   ]
  },
  {
   "cell_type": "code",
   "execution_count": 115,
   "metadata": {},
   "outputs": [
    {
     "name": "stdout",
     "output_type": "stream",
     "text": [
      "3020\n"
     ]
    }
   ],
   "source": [
    "print(max(np.asarray(lin_df.loc[lin_df['#cellName']!='P0']['birthTimeInMin']).astype('int')))"
   ]
  },
  {
   "cell_type": "code",
   "execution_count": 116,
   "metadata": {},
   "outputs": [],
   "source": [
    "def find_last_shared_neuron(neuron1, neuron2, lin_df):\n",
    "    # Find the last shared neuron in the lineage between two neurons\n",
    "    linealName1 = lin_df.loc[lin_df['#cellName']==neuron1]['linealName'].iloc[0]\n",
    "    linealName2 = lin_df.loc[lin_df['#cellName']==neuron2]['linealName'].iloc[0]\n",
    "\n",
    "    min_len = min(len(linealName1), len(linealName2))\n",
    "\n",
    "    # Iterate through the characters until a mismatch is found\n",
    "    last_shared = ''\n",
    "    for i in range(min_len):\n",
    "        if linealName1[i] == linealName2[i]:\n",
    "            last_shared += linealName1[i]\n",
    "        else:\n",
    "            break\n",
    "\n",
    "    if linealName1==linealName2:\n",
    "        last_shared_birth = max(np.asarray(lin_df.loc[lin_df['#cellName']!='P0']['birthTimeInMin']).astype('int')) #if same neuron, set birht time to max\n",
    "    elif len(last_shared)==0 or last_shared=='AB': #AB is original embryo cell so will have birth time 0\n",
    "        last_shared_birth=0\n",
    "    elif last_shared =='G': \n",
    "        last_shared = 'ABp'\n",
    "        last_shared_birth = lin_df.loc[lin_df['linealName']==last_shared]['birthTimeInMin'].iloc[0]\n",
    "    elif not (lin_df['linealName']==last_shared).any(): #For G1 and G2, cell name is referenced rather than lineal name of parent\n",
    "        last_shared_birth = lin_df.loc[lin_df['#cellName']==last_shared]['birthTimeInMin'].iloc[0]\n",
    "    else:\n",
    "        last_shared_birth = lin_df.loc[lin_df['linealName']==last_shared]['birthTimeInMin'].iloc[0]\n",
    "\n",
    "    return last_shared, last_shared_birth\n"
   ]
  },
  {
   "cell_type": "code",
   "execution_count": 117,
   "metadata": {},
   "outputs": [
    {
     "name": "stdout",
     "output_type": "stream",
     "text": [
      "0\n"
     ]
    }
   ],
   "source": [
    "last_shared, last_shared_birth = find_last_shared_neuron('I1R', 'HMC', lin_df)\n",
    "print(last_shared_birth)"
   ]
  },
  {
   "cell_type": "code",
   "execution_count": 118,
   "metadata": {},
   "outputs": [
    {
     "name": "stdout",
     "output_type": "stream",
     "text": [
      "G1l\n",
      "G1r\n",
      "G1\n"
     ]
    }
   ],
   "source": [
    "linealName1 = lin_df.loc[lin_df['#cellName']=='RMHL']['linealName'].iloc[0]\n",
    "linealName2 = lin_df.loc[lin_df['#cellName']=='RMHR']['linealName'].iloc[0]\n",
    "\n",
    "print(linealName1)\n",
    "print(linealName2)\n",
    "\n",
    "min_len = min(len(linealName1), len(linealName2))\n",
    "\n",
    "last_shared=''\n",
    "for i in range(min_len):\n",
    "    if linealName1[i] == linealName2[i]:\n",
    "        last_shared += linealName1[i]\n",
    "    else:\n",
    "        break\n",
    "\n",
    "print(last_shared)"
   ]
  },
  {
   "cell_type": "code",
   "execution_count": 119,
   "metadata": {},
   "outputs": [
    {
     "ename": "NameError",
     "evalue": "name 'norm_stds' is not defined",
     "output_type": "error",
     "traceback": [
      "\u001b[0;31m---------------------------------------------------------------------------\u001b[0m",
      "\u001b[0;31mNameError\u001b[0m                                 Traceback (most recent call last)",
      "Cell \u001b[0;32mIn[119], line 1\u001b[0m\n\u001b[0;32m----> 1\u001b[0m \u001b[39mprint\u001b[39m(\u001b[39mlen\u001b[39m(norm_stds))\n",
      "\u001b[0;31mNameError\u001b[0m: name 'norm_stds' is not defined"
     ]
    }
   ],
   "source": [
    "print(len(norm_stds))"
   ]
  },
  {
   "cell_type": "code",
   "execution_count": null,
   "metadata": {},
   "outputs": [
    {
     "name": "stdout",
     "output_type": "stream",
     "text": [
      "False\n"
     ]
    }
   ],
   "source": [
    "print(norm_stds[0]=='nan')"
   ]
  },
  {
   "cell_type": "code",
   "execution_count": null,
   "metadata": {},
   "outputs": [],
   "source": [
    "norm_stds[norm_stds = 'nan']"
   ]
  },
  {
   "cell_type": "code",
   "execution_count": 120,
   "metadata": {},
   "outputs": [
    {
     "data": {
      "text/html": [
       "<div>\n",
       "<style scoped>\n",
       "    .dataframe tbody tr th:only-of-type {\n",
       "        vertical-align: middle;\n",
       "    }\n",
       "\n",
       "    .dataframe tbody tr th {\n",
       "        vertical-align: top;\n",
       "    }\n",
       "\n",
       "    .dataframe thead th {\n",
       "        text-align: right;\n",
       "    }\n",
       "</style>\n",
       "<table border=\"1\" class=\"dataframe\">\n",
       "  <thead>\n",
       "    <tr style=\"text-align: right;\">\n",
       "      <th></th>\n",
       "      <th>Pair</th>\n",
       "      <th>neuron1</th>\n",
       "      <th>neuron2</th>\n",
       "      <th>Mean_dist</th>\n",
       "      <th>Std_dist</th>\n",
       "      <th>Norm_std</th>\n",
       "      <th>last_shared</th>\n",
       "      <th>lin_dist</th>\n",
       "      <th>birth_dists</th>\n",
       "    </tr>\n",
       "  </thead>\n",
       "  <tbody>\n",
       "    <tr>\n",
       "      <th>0</th>\n",
       "      <td>I1R-I1R</td>\n",
       "      <td>I1R</td>\n",
       "      <td>I1R</td>\n",
       "      <td>0.000000</td>\n",
       "      <td>0.000000</td>\n",
       "      <td>0.000000</td>\n",
       "      <td>ABarapappaa</td>\n",
       "      <td>11.0</td>\n",
       "      <td>3020.0</td>\n",
       "    </tr>\n",
       "    <tr>\n",
       "      <th>1</th>\n",
       "      <td>I1R-I1L</td>\n",
       "      <td>I1R</td>\n",
       "      <td>I1L</td>\n",
       "      <td>7.897923</td>\n",
       "      <td>1.379100</td>\n",
       "      <td>0.174616</td>\n",
       "      <td>ABa</td>\n",
       "      <td>3.0</td>\n",
       "      <td>17.0</td>\n",
       "    </tr>\n",
       "    <tr>\n",
       "      <th>2</th>\n",
       "      <td>I1L-I1R</td>\n",
       "      <td>I1L</td>\n",
       "      <td>I1R</td>\n",
       "      <td>7.897923</td>\n",
       "      <td>1.379100</td>\n",
       "      <td>0.174616</td>\n",
       "      <td>ABa</td>\n",
       "      <td>3.0</td>\n",
       "      <td>17.0</td>\n",
       "    </tr>\n",
       "    <tr>\n",
       "      <th>3</th>\n",
       "      <td>I1R-I2R</td>\n",
       "      <td>I1R</td>\n",
       "      <td>I2R</td>\n",
       "      <td>15.198950</td>\n",
       "      <td>1.658236</td>\n",
       "      <td>0.109102</td>\n",
       "      <td>ABarapap</td>\n",
       "      <td>8.0</td>\n",
       "      <td>135.0</td>\n",
       "    </tr>\n",
       "    <tr>\n",
       "      <th>4</th>\n",
       "      <td>I2R-I1R</td>\n",
       "      <td>I2R</td>\n",
       "      <td>I1R</td>\n",
       "      <td>15.198950</td>\n",
       "      <td>1.658236</td>\n",
       "      <td>0.109102</td>\n",
       "      <td>ABarapap</td>\n",
       "      <td>8.0</td>\n",
       "      <td>135.0</td>\n",
       "    </tr>\n",
       "  </tbody>\n",
       "</table>\n",
       "</div>"
      ],
      "text/plain": [
       "      Pair neuron1 neuron2  Mean_dist  Std_dist  Norm_std  last_shared  \\\n",
       "0  I1R-I1R     I1R     I1R   0.000000  0.000000  0.000000  ABarapappaa   \n",
       "1  I1R-I1L     I1R     I1L   7.897923  1.379100  0.174616          ABa   \n",
       "2  I1L-I1R     I1L     I1R   7.897923  1.379100  0.174616          ABa   \n",
       "3  I1R-I2R     I1R     I2R  15.198950  1.658236  0.109102     ABarapap   \n",
       "4  I2R-I1R     I2R     I1R  15.198950  1.658236  0.109102     ABarapap   \n",
       "\n",
       "   lin_dist  birth_dists  \n",
       "0      11.0       3020.0  \n",
       "1       3.0         17.0  \n",
       "2       3.0         17.0  \n",
       "3       8.0        135.0  \n",
       "4       8.0        135.0  "
      ]
     },
     "execution_count": 120,
     "metadata": {},
     "output_type": "execute_result"
    }
   ],
   "source": [
    "pair_tot.keys()\n",
    "pairs = np.asarray([key for key in pair_tot.keys()])\n",
    "means = np.asarray([np.mean(value) for key, value in pair_tot.items()])\n",
    "stds = np.asarray([np.std(value) for key, value in pair_tot.items()])\n",
    "norm_stds = np.divide(stds, means, out=np.zeros_like(stds), where=means!=0)\n",
    "norm_stds\n",
    "\n",
    "last_shared_list = ['']*len(pairs)\n",
    "first_neurs = ['']*len(pairs)\n",
    "second_neurs = ['']*len(pairs)\n",
    "lineal_dists = np.zeros(len(pairs))\n",
    "birth_dists = np.zeros(len(pairs))\n",
    "\n",
    "for i, pair in enumerate(pairs):\n",
    "    neuron1 = pair.split('-')[0]\n",
    "    neuron2 = pair.split('-')[1]\n",
    "\n",
    "    if neuron1[-1] =='?':\n",
    "        neuron1 = neuron1[:-1]\n",
    "    if neuron2[-1] == '?':\n",
    "        neuron2 = neuron2[:-1]\n",
    "\n",
    "    first_neurs[i] = neuron1\n",
    "    second_neurs[i] = neuron2\n",
    "    last_shared, last_shared_birth = find_last_shared_neuron(neuron1, neuron2, lin_df)\n",
    "    last_shared_list[i] = last_shared\n",
    "    lineal_dists[i] = len(last_shared)\n",
    "    birth_dists[i] = last_shared_birth\n",
    "\n",
    "lin_dist_vals = np.transpose(np.vstack((pairs, first_neurs, second_neurs, means, stds, norm_stds, last_shared_list, lineal_dists, birth_dists)))\n",
    "\n",
    "lin_dist_df = pd.DataFrame(lin_dist_vals, columns = ['Pair', 'neuron1', 'neuron2', 'Mean_dist', 'Std_dist', 'Norm_std', 'last_shared', 'lin_dist', 'birth_dists'])\n",
    "lin_dist_df[['Mean_dist','Std_dist','Norm_std', 'lin_dist', 'birth_dists']] = lin_dist_df[['Mean_dist','Std_dist','Norm_std', 'lin_dist', 'birth_dists']].astype('float')\n",
    "lin_dist_df.to_csv('/Users/danielysprague/foco_lab/data/lin_dist.csv')\n",
    "lin_dist_df.head()"
   ]
  },
  {
   "cell_type": "code",
   "execution_count": null,
   "metadata": {},
   "outputs": [
    {
     "data": {
      "text/html": [
       "<div>\n",
       "<style scoped>\n",
       "    .dataframe tbody tr th:only-of-type {\n",
       "        vertical-align: middle;\n",
       "    }\n",
       "\n",
       "    .dataframe tbody tr th {\n",
       "        vertical-align: top;\n",
       "    }\n",
       "\n",
       "    .dataframe thead th {\n",
       "        text-align: right;\n",
       "    }\n",
       "</style>\n",
       "<table border=\"1\" class=\"dataframe\">\n",
       "  <thead>\n",
       "    <tr style=\"text-align: right;\">\n",
       "      <th></th>\n",
       "      <th>Pair</th>\n",
       "      <th>Mean_dist</th>\n",
       "      <th>Std_dist</th>\n",
       "      <th>Norm_std</th>\n",
       "      <th>last_shared</th>\n",
       "      <th>lin_dist</th>\n",
       "      <th>birth_dists</th>\n",
       "    </tr>\n",
       "  </thead>\n",
       "  <tbody>\n",
       "    <tr>\n",
       "      <th>0</th>\n",
       "      <td>I1R-I1R</td>\n",
       "      <td>0.0</td>\n",
       "      <td>0.0</td>\n",
       "      <td>0.0</td>\n",
       "      <td>A</td>\n",
       "      <td>11.0</td>\n",
       "      <td>3020.0</td>\n",
       "    </tr>\n",
       "    <tr>\n",
       "      <th>1</th>\n",
       "      <td>I1R-I1L</td>\n",
       "      <td>7.897922517916821</td>\n",
       "      <td>1.3790999025474482</td>\n",
       "      <td>0.1746155269843295</td>\n",
       "      <td>A</td>\n",
       "      <td>3.0</td>\n",
       "      <td>17.0</td>\n",
       "    </tr>\n",
       "    <tr>\n",
       "      <th>2</th>\n",
       "      <td>I1L-I1R</td>\n",
       "      <td>7.897922517916821</td>\n",
       "      <td>1.3790999025474482</td>\n",
       "      <td>0.1746155269843295</td>\n",
       "      <td>A</td>\n",
       "      <td>3.0</td>\n",
       "      <td>17.0</td>\n",
       "    </tr>\n",
       "    <tr>\n",
       "      <th>3</th>\n",
       "      <td>I1R-I2R</td>\n",
       "      <td>15.198950252590324</td>\n",
       "      <td>1.658235630279911</td>\n",
       "      <td>0.10910198419771139</td>\n",
       "      <td>A</td>\n",
       "      <td>8.0</td>\n",
       "      <td>135.0</td>\n",
       "    </tr>\n",
       "    <tr>\n",
       "      <th>4</th>\n",
       "      <td>I2R-I1R</td>\n",
       "      <td>15.198950252590324</td>\n",
       "      <td>1.658235630279911</td>\n",
       "      <td>0.10910198419771139</td>\n",
       "      <td>A</td>\n",
       "      <td>8.0</td>\n",
       "      <td>135.0</td>\n",
       "    </tr>\n",
       "    <tr>\n",
       "      <th>...</th>\n",
       "      <td>...</td>\n",
       "      <td>...</td>\n",
       "      <td>...</td>\n",
       "      <td>...</td>\n",
       "      <td>...</td>\n",
       "      <td>...</td>\n",
       "      <td>...</td>\n",
       "    </tr>\n",
       "    <tr>\n",
       "      <th>42735</th>\n",
       "      <td>NSMR-AVJL?</td>\n",
       "      <td>54.01022910523522</td>\n",
       "      <td>0.0</td>\n",
       "      <td>0.0</td>\n",
       "      <td>A</td>\n",
       "      <td>3.0</td>\n",
       "      <td>17.0</td>\n",
       "    </tr>\n",
       "    <tr>\n",
       "      <th>42736</th>\n",
       "      <td>AVJL?-MCL</td>\n",
       "      <td>52.634483419142605</td>\n",
       "      <td>0.0</td>\n",
       "      <td>0.0</td>\n",
       "      <td>A</td>\n",
       "      <td>4.0</td>\n",
       "      <td>35.0</td>\n",
       "    </tr>\n",
       "    <tr>\n",
       "      <th>42737</th>\n",
       "      <td>MCL-AVJL?</td>\n",
       "      <td>52.634483419142605</td>\n",
       "      <td>0.0</td>\n",
       "      <td>0.0</td>\n",
       "      <td>A</td>\n",
       "      <td>4.0</td>\n",
       "      <td>35.0</td>\n",
       "    </tr>\n",
       "    <tr>\n",
       "      <th>42738</th>\n",
       "      <td>AVJL?-MCR</td>\n",
       "      <td>54.521990679724816</td>\n",
       "      <td>0.0</td>\n",
       "      <td>0.0</td>\n",
       "      <td>A</td>\n",
       "      <td>3.0</td>\n",
       "      <td>17.0</td>\n",
       "    </tr>\n",
       "    <tr>\n",
       "      <th>42739</th>\n",
       "      <td>MCR-AVJL?</td>\n",
       "      <td>54.521990679724816</td>\n",
       "      <td>0.0</td>\n",
       "      <td>0.0</td>\n",
       "      <td>A</td>\n",
       "      <td>3.0</td>\n",
       "      <td>17.0</td>\n",
       "    </tr>\n",
       "  </tbody>\n",
       "</table>\n",
       "<p>42740 rows × 7 columns</p>\n",
       "</div>"
      ],
      "text/plain": [
       "             Pair           Mean_dist            Std_dist  \\\n",
       "0         I1R-I1R                 0.0                 0.0   \n",
       "1         I1R-I1L   7.897922517916821  1.3790999025474482   \n",
       "2         I1L-I1R   7.897922517916821  1.3790999025474482   \n",
       "3         I1R-I2R  15.198950252590324   1.658235630279911   \n",
       "4         I2R-I1R  15.198950252590324   1.658235630279911   \n",
       "...           ...                 ...                 ...   \n",
       "42735  NSMR-AVJL?   54.01022910523522                 0.0   \n",
       "42736   AVJL?-MCL  52.634483419142605                 0.0   \n",
       "42737   MCL-AVJL?  52.634483419142605                 0.0   \n",
       "42738   AVJL?-MCR  54.521990679724816                 0.0   \n",
       "42739   MCR-AVJL?  54.521990679724816                 0.0   \n",
       "\n",
       "                  Norm_std last_shared lin_dist birth_dists  \n",
       "0                      0.0           A     11.0      3020.0  \n",
       "1       0.1746155269843295           A      3.0        17.0  \n",
       "2       0.1746155269843295           A      3.0        17.0  \n",
       "3      0.10910198419771139           A      8.0       135.0  \n",
       "4      0.10910198419771139           A      8.0       135.0  \n",
       "...                    ...         ...      ...         ...  \n",
       "42735                  0.0           A      3.0        17.0  \n",
       "42736                  0.0           A      4.0        35.0  \n",
       "42737                  0.0           A      4.0        35.0  \n",
       "42738                  0.0           A      3.0        17.0  \n",
       "42739                  0.0           A      3.0        17.0  \n",
       "\n",
       "[42740 rows x 7 columns]"
      ]
     },
     "execution_count": 234,
     "metadata": {},
     "output_type": "execute_result"
    }
   ],
   "source": [
    "lin_dist_df"
   ]
  },
  {
   "cell_type": "code",
   "execution_count": null,
   "metadata": {},
   "outputs": [
    {
     "data": {
      "text/plain": [
       "0        3020.0\n",
       "1          17.0\n",
       "2          17.0\n",
       "3         135.0\n",
       "4         135.0\n",
       "          ...  \n",
       "42735      17.0\n",
       "42736      35.0\n",
       "42737      35.0\n",
       "42738      17.0\n",
       "42739      17.0\n",
       "Name: birth_dists, Length: 42740, dtype: object"
      ]
     },
     "execution_count": 240,
     "metadata": {},
     "output_type": "execute_result"
    }
   ],
   "source": [
    "lin_dist_df['birth_dists']"
   ]
  },
  {
   "cell_type": "code",
   "execution_count": null,
   "metadata": {},
   "outputs": [],
   "source": [
    "lin_dist_plot.to_csv('/Users/danielysprague/foco_lab/data/lin_dist_plot.csv')"
   ]
  },
  {
   "cell_type": "code",
   "execution_count": 140,
   "metadata": {},
   "outputs": [],
   "source": [
    "%matplotlib qt\n",
    "\n",
    "lin_dist_plot = lin_dist_df.loc[lin_dist_df['neuron1']!=lin_dist_df['neuron2']]\n",
    "lin_dist_plot = lin_dist_plot.loc[lin_dist_df['birth_dists']<800]\n",
    "\n",
    "plt.clf()\n",
    "fig = plt.figure()\n",
    "\n",
    "fontsize=16\n",
    "\n",
    "birth_dists = np.asarray(lin_dist_plot['birth_dists'])\n",
    "norm_std = np.asarray(lin_dist_plot['Norm_std'])\n",
    "\n",
    "#pearson_coef\n",
    "\n",
    "sns.regplot(data=lin_dist_plot, x='birth_dists',y='Std_dist')\n",
    "#sns.scatterplot(ax=axs[1], data=lin_dist_plot, x='lin_dist', y='Norm_std')\n",
    "plt.title('Standard deviation of pairwise physical distance and pairwise distance in cell lineage', fontsize=fontsize)\n",
    "plt.ylabel('Standard deviation in um', fontsize=fontsize)\n",
    "plt.xlabel('Time of birth of last shared parent cell between pair in min', fontsize=fontsize)\n",
    "\n",
    "plt.show()"
   ]
  },
  {
   "cell_type": "code",
   "execution_count": 143,
   "metadata": {},
   "outputs": [],
   "source": [
    "%matplotlib qt\n",
    "\n",
    "lin_dist_plot = lin_dist_df.loc[lin_dist_df['neuron1']!=lin_dist_df['neuron2']]\n",
    "lin_dist_plot = lin_dist_plot.loc[lin_dist_df['birth_dists']<800]\n",
    "\n",
    "plt.clf()\n",
    "fig = plt.figure()\n",
    "\n",
    "fontsize=16\n",
    "\n",
    "birth_dists = np.asarray(lin_dist_plot['birth_dists'])\n",
    "norm_std = np.asarray(lin_dist_plot['Norm_std'])\n",
    "\n",
    "#pearson_coef\n",
    "\n",
    "sns.regplot(data=lin_dist_plot, x='birth_dists',y='Norm_std')\n",
    "#sns.scatterplot(ax=axs[1], data=lin_dist_plot, x='lin_dist', y='Norm_std')\n",
    "plt.title('Standard deviation of pairwise physical distance and pairwise distance in cell lineage', fontsize=fontsize)\n",
    "plt.ylabel('Nomralized standard deviation in um', fontsize=fontsize)\n",
    "plt.xlabel('Time of birth of last shared parent cell between pair in min', fontsize=fontsize)\n",
    "\n",
    "plt.show()"
   ]
  },
  {
   "cell_type": "code",
   "execution_count": 139,
   "metadata": {},
   "outputs": [],
   "source": [
    "%matplotlib qt\n",
    "\n",
    "lin_dist_plot = lin_dist_df.loc[lin_dist_df['neuron1']!=lin_dist_df['neuron2']]\n",
    "lin_dist_plot = lin_dist_df.loc[lin_dist_df['birth_dists']<800]\n",
    "\n",
    "plt.clf()\n",
    "fig = plt.figure()\n",
    "\n",
    "fontsize=16\n",
    "\n",
    "birth_dists = np.asarray(lin_dist_plot['birth_dists'])\n",
    "norm_std = np.asarray(lin_dist_plot['Norm_std'])\n",
    "\n",
    "#pearson_coef\n",
    "\n",
    "sns.regplot(data=lin_dist_plot, x='birth_dists',y='Mean_dist')\n",
    "#sns.scatterplot(ax=axs[1], data=lin_dist_plot, x='lin_dist', y='Norm_std')\n",
    "plt.title('Mean of pairwise physical distance and pairwise distance in cell lineage', fontsize=fontsize)\n",
    "plt.ylabel('Mean distance in um', fontsize=fontsize)\n",
    "plt.xlabel('Time of birth of last shared parent cell between pair in min', fontsize=fontsize)\n",
    "plt.show()"
   ]
  },
  {
   "cell_type": "code",
   "execution_count": 21,
   "metadata": {},
   "outputs": [],
   "source": [
    "order = ['AntBulb-AntBulb', 'Ant-Ant', 'Dors-Dors', 'Lat-Lat', 'Vent-Vent', 'RVG-RVG', 'PostBulb-PostBulb', 'Ant-AntBulb', 'Ant-Dors', 'Ant-Lat', 'Dors-Lat', 'Lat-Vent','Lat-RVG','Lat-PostBulb', 'RVG-Vent', 'PostBulb-Vent','Postbulb-RVG']"
   ]
  },
  {
   "cell_type": "code",
   "execution_count": 22,
   "metadata": {},
   "outputs": [
    {
     "name": "stdout",
     "output_type": "stream",
     "text": [
      "Anterior Ganglion-Anterior Ganglion\n",
      "191\n",
      "Anterior Ganglion-Anterior Pharyngeal Bulb\n",
      "23\n",
      "Anterior Ganglion-Dorsal Ganglion\n",
      "1\n",
      "Anterior Ganglion-Lateral Ganglion\n",
      "1\n",
      "Anterior Ganglion-Ventral Ganglion\n",
      "9\n",
      "Anterior Pharyngeal Bulb-Anterior Pharyngeal Bulb\n",
      "59\n",
      "Anterior Pharyngeal Bulb-other\n",
      "16\n",
      "Dorsal Ganglion-Dorsal Ganglion\n",
      "11\n",
      "Dorsal Ganglion-Lateral Ganglion\n",
      "26\n",
      "Dorsal Ganglion-other\n",
      "5\n",
      "Lateral Ganglion-Lateral Ganglion\n",
      "312\n",
      "Lateral Ganglion-Posterior Pharyngeal Bulb\n",
      "41\n",
      "Lateral Ganglion-Retro Vesicular Ganglion\n",
      "27\n",
      "Lateral Ganglion-Ventral Ganglion\n",
      "53\n",
      "Lateral Ganglion-other\n",
      "5\n",
      "Posterior Pharyngeal Bulb-Posterior Pharyngeal Bulb\n",
      "11\n",
      "Posterior Pharyngeal Bulb-Retro Vesicular Ganglion\n",
      "1\n",
      "Posterior Pharyngeal Bulb-Ventral Ganglion\n",
      "12\n",
      "Retro Vesicular Ganglion-Retro Vesicular Ganglion\n",
      "82\n",
      "Retro Vesicular Ganglion-Ventral Ganglion\n",
      "22\n",
      "Ventral Ganglion-Ventral Ganglion\n",
      "135\n",
      "other-other\n",
      "1\n"
     ]
    }
   ],
   "source": [
    "df = pd.DataFrame()\n",
    "\n",
    "for key, value in sorted(ganglia.items()):\n",
    "    print(key)\n",
    "    print(len(value))"
   ]
  },
  {
   "cell_type": "code",
   "execution_count": 70,
   "metadata": {},
   "outputs": [
    {
     "ename": "NameError",
     "evalue": "name 'pair_tot' is not defined",
     "output_type": "error",
     "traceback": [
      "\u001b[0;31m---------------------------------------------------------------------------\u001b[0m",
      "\u001b[0;31mNameError\u001b[0m                                 Traceback (most recent call last)",
      "Cell \u001b[0;32mIn[70], line 1\u001b[0m\n\u001b[0;32m----> 1\u001b[0m pair_tot\u001b[39m.\u001b[39mkeys()\n",
      "\u001b[0;31mNameError\u001b[0m: name 'pair_tot' is not defined"
     ]
    }
   ],
   "source": [
    "pair_tot.keys()"
   ]
  },
  {
   "cell_type": "code",
   "execution_count": 50,
   "metadata": {},
   "outputs": [
    {
     "name": "stdout",
     "output_type": "stream",
     "text": [
      "195\n",
      "195\n"
     ]
    },
    {
     "name": "stderr",
     "output_type": "stream",
     "text": [
      "/Applications/anaconda3/envs/NWB-dev/lib/python3.11/site-packages/seaborn/axisgrid.py:118: UserWarning: The figure layout has changed to tight\n",
      "  self._figure.tight_layout(*args, **kwargs)\n"
     ]
    },
    {
     "name": "stdout",
     "output_type": "stream",
     "text": [
      "[ 7.35021984  7.37779418  7.37917024  7.58371214  7.46648696  7.35877721\n",
      "  7.56117333  7.51954825  7.42527281  7.52868348  7.42544929  7.37018792\n",
      "  7.09117403  7.34283962  7.01179667  7.27322859  6.98630889  6.41504512\n",
      "  7.02295394  6.31087751  6.51495223  6.28152382  7.22172004  8.22488768\n",
      "  6.48501021  6.75422492 10.14236377  6.53640539  6.57915787  6.66645742\n",
      "  8.90912599  7.00606816  6.38252311  9.3534393   6.85752644  6.67147653\n",
      "  6.68297503  6.87132233  7.38145097  6.94317022  6.53805959  8.10209795\n",
      "  7.10874219  7.27221781  6.45871708  7.69189893  8.69086502  8.3889739\n",
      "  9.80289967  9.83173464  8.90922597  6.89406138  6.45387668  6.52480117\n",
      "  6.57338168  7.04201834  6.61489832  8.70578144 11.18081307  8.94245637\n",
      " 11.05075049 10.26146701 10.48499423  9.86489821 10.04224634  9.07366227\n",
      "  9.53897917  9.3062682  10.51251012  8.20173422  9.67268922  7.47151278\n",
      "  8.11859683  7.63756089  8.27766487  7.5869618   8.65786313  8.61258432\n",
      " 11.20290541  7.69867533  7.8523391  13.06797431  7.84782098  8.3617168\n",
      "  7.1392944   8.11219677  6.91435671  8.62368812  7.49817203  7.29727465\n",
      "  7.2601055   7.54668538  7.05056712  6.6152957   6.66303617  6.97382401\n",
      "  7.53843695  6.68030833  6.82211903  6.88265999  6.82899508  6.50444296\n",
      "  6.95597751  6.569431    7.01294636  7.0434253   7.214851    6.66090934\n",
      "  7.67788268  6.42700052  6.41801323  6.71178943  6.38049227  6.70071136\n",
      "  6.40055713  6.50530964  6.6565739   6.70781219  6.3953379   6.42550056\n",
      "  6.41114387  6.45981177  6.32931149  6.6707105   7.29737663  6.24847173\n",
      "  6.73527759  6.54767106  6.58971183  6.48084871  9.01440894 13.77472305\n",
      " 12.59318526 16.66387012 15.07440045 10.35591724 13.87281094 10.37464146\n",
      "  9.62638022 10.43567508 10.50730915 10.04965244  7.72819567 11.57964845\n",
      "  7.99267705  8.31675945  8.90415382  7.84527453  8.05667458  8.0177382\n",
      "  9.28151827  7.28843258 10.88373428  8.47655765  7.25362544  8.38839272\n",
      "  8.30148594  9.74723123 12.63436758 11.13831954  7.74285631  8.36642493\n",
      "  2.44536997  2.67301038  6.15353074  6.97348225  4.7103822  11.14200715\n",
      "  8.48795187  7.73929218  9.81725749 14.02078111 12.99024684 10.11009925\n",
      "  9.03362118 12.23523556 12.29226332 12.67705267 12.57871104 13.1495861\n",
      " 11.94655478 12.46353778  5.77043495  5.57321593  6.1037749   6.88435382\n",
      "  5.67749406  5.69889372  5.73492698  0.          0.          0.\n",
      " 12.37974663  4.78931924  4.15142909]\n"
     ]
    }
   ],
   "source": []
  },
  {
   "attachments": {},
   "cell_type": "markdown",
   "metadata": {},
   "source": [
    "### Color statistics of datasets"
   ]
  },
  {
   "cell_type": "code",
   "execution_count": 27,
   "metadata": {},
   "outputs": [],
   "source": [
    "def get_color_stats(folder):\n",
    "\n",
    "    rgbhist = np.zeros((32,3))\n",
    "\n",
    "    neur_colors = {}\n",
    "\n",
    "    for file in os.listdir(folder):\n",
    "        if not file[-4:] == '.nwb':\n",
    "            continue\n",
    "\n",
    "        print(file)\n",
    "\n",
    "        blobs, rgb_data = get_nwb_neurons(folder+'/'+file)\n",
    "\n",
    "        color_norm = (rgb_data - np.min(rgb_data, axis=(0,1,2))) / (np.max(rgb_data, axis=(0,1,2))- np.min(rgb_data, axis=(0,1,2)))\n",
    "\n",
    "        blobs[['Rnorm', 'Gnorm','Bnorm']] = np.nan\n",
    "\n",
    "        for i, row in blobs.iterrows():\n",
    "            colors = color_norm[max(row['x']-2,0):min(row['x']+2,rgb_data.shape[0]-1),max(row['y']-2,0):min(row['y']+2,rgb_data.shape[1]-1),max(row['z']-1,0):min(row['z']+1,rgb_data.shape[2]-1),:]\n",
    "\n",
    "            flat_colors = colors.reshape(-1, colors.shape[-1])\n",
    "            \n",
    "            Rnorm = np.median(flat_colors[0])\n",
    "            Gnorm = np.median(flat_colors[1])\n",
    "            Bnorm = np.median(flat_colors[2])\n",
    "\n",
    "            blobs.loc[i, 'Rnorm'] = Rnorm\n",
    "            blobs.loc[i, 'Gnorm'] = Gnorm\n",
    "            blobs.loc[i, 'Bnorm'] = Bnorm\n",
    "\n",
    "        IDd = blobs[blobs['ID']!='']\n",
    "\n",
    "        for i, row in IDd.iterrows():\n",
    "            ID = row['ID']\n",
    "            colors = np.asarray(row[['Rnorm', 'Gnorm', 'Bnorm']])\n",
    "            if not ID in neur_colors:\n",
    "                neur_colors[ID] = [colors]\n",
    "            else:\n",
    "                neur_colors[ID].append(colors)\n",
    "            \n",
    "        image = np.asarray(color_norm)\n",
    "        im_flat = image.reshape(-1, image.shape[-1])\n",
    "\n",
    "        rhist, bins = np.histogram(im_flat[:,0], bins=32, range=(0,1))\n",
    "        ghist, bins = np.histogram(im_flat[:,1], bins=32, range=(0,1))\n",
    "        bhist, bins = np.histogram(im_flat[:,2], bins=32, range=(0,1))\n",
    "\n",
    "        rgbhist[:,0] += rhist\n",
    "        rgbhist[:,1] += ghist\n",
    "        rgbhist[:,2] += bhist\n",
    "    \n",
    "    rgbhist[:,0] = rgbhist[:,0]/np.sum(rgbhist[:,0])\n",
    "    rgbhist[:,1] = rgbhist[:,1]/np.sum(rgbhist[:,1])\n",
    "    rgbhist[:,2] = rgbhist[:,2]/np.sum(rgbhist[:,2])\n",
    "\n",
    "    return rgbhist, neur_colors"
   ]
  },
  {
   "cell_type": "code",
   "execution_count": 28,
   "metadata": {},
   "outputs": [
    {
     "name": "stdout",
     "output_type": "stream",
     "text": [
      "20230412-20-15-17.nwb\n"
     ]
    },
    {
     "name": "stderr",
     "output_type": "stream",
     "text": [
      "/Applications/anaconda3/envs/NWB-dev/lib/python3.11/site-packages/hdmf/spec/namespace.py:531: UserWarning: Ignoring cached namespace 'hdmf-common' version 1.7.0 because version 1.8.0 is already loaded.\n",
      "  warn(\"Ignoring cached namespace '%s' version %s because version %s is already loaded.\"\n",
      "/Applications/anaconda3/envs/NWB-dev/lib/python3.11/site-packages/hdmf/spec/namespace.py:531: UserWarning: Ignoring cached namespace 'hdmf-experimental' version 0.4.0 because version 0.5.0 is already loaded.\n",
      "  warn(\"Ignoring cached namespace '%s' version %s because version %s is already loaded.\"\n",
      "/Applications/anaconda3/envs/NWB-dev/lib/python3.11/site-packages/hdmf/spec/namespace.py:531: UserWarning: Ignoring cached namespace 'ndx-multichannel-volume' version 0.1.7 because version 0.1.9 is already loaded.\n",
      "  warn(\"Ignoring cached namespace '%s' version %s because version %s is already loaded.\"\n"
     ]
    },
    {
     "name": "stdout",
     "output_type": "stream",
     "text": [
      "20230506-14-24-57.nwb\n"
     ]
    },
    {
     "name": "stderr",
     "output_type": "stream",
     "text": [
      "/Applications/anaconda3/envs/NWB-dev/lib/python3.11/site-packages/hdmf/spec/namespace.py:531: UserWarning: Ignoring cached namespace 'hdmf-common' version 1.7.0 because version 1.8.0 is already loaded.\n",
      "  warn(\"Ignoring cached namespace '%s' version %s because version %s is already loaded.\"\n",
      "/Applications/anaconda3/envs/NWB-dev/lib/python3.11/site-packages/hdmf/spec/namespace.py:531: UserWarning: Ignoring cached namespace 'hdmf-experimental' version 0.4.0 because version 0.5.0 is already loaded.\n",
      "  warn(\"Ignoring cached namespace '%s' version %s because version %s is already loaded.\"\n",
      "/Applications/anaconda3/envs/NWB-dev/lib/python3.11/site-packages/hdmf/spec/namespace.py:531: UserWarning: Ignoring cached namespace 'ndx-multichannel-volume' version 0.1.7 because version 0.1.9 is already loaded.\n",
      "  warn(\"Ignoring cached namespace '%s' version %s because version %s is already loaded.\"\n"
     ]
    },
    {
     "name": "stdout",
     "output_type": "stream",
     "text": [
      "20230510-13-25-46.nwb\n"
     ]
    },
    {
     "name": "stderr",
     "output_type": "stream",
     "text": [
      "/Applications/anaconda3/envs/NWB-dev/lib/python3.11/site-packages/hdmf/spec/namespace.py:531: UserWarning: Ignoring cached namespace 'hdmf-common' version 1.7.0 because version 1.8.0 is already loaded.\n",
      "  warn(\"Ignoring cached namespace '%s' version %s because version %s is already loaded.\"\n",
      "/Applications/anaconda3/envs/NWB-dev/lib/python3.11/site-packages/hdmf/spec/namespace.py:531: UserWarning: Ignoring cached namespace 'hdmf-experimental' version 0.4.0 because version 0.5.0 is already loaded.\n",
      "  warn(\"Ignoring cached namespace '%s' version %s because version %s is already loaded.\"\n",
      "/Applications/anaconda3/envs/NWB-dev/lib/python3.11/site-packages/hdmf/spec/namespace.py:531: UserWarning: Ignoring cached namespace 'ndx-multichannel-volume' version 0.1.7 because version 0.1.9 is already loaded.\n",
      "  warn(\"Ignoring cached namespace '%s' version %s because version %s is already loaded.\"\n"
     ]
    },
    {
     "name": "stdout",
     "output_type": "stream",
     "text": [
      "20230322-22-43-03.nwb\n"
     ]
    },
    {
     "name": "stderr",
     "output_type": "stream",
     "text": [
      "/Applications/anaconda3/envs/NWB-dev/lib/python3.11/site-packages/hdmf/spec/namespace.py:531: UserWarning: Ignoring cached namespace 'hdmf-common' version 1.7.0 because version 1.8.0 is already loaded.\n",
      "  warn(\"Ignoring cached namespace '%s' version %s because version %s is already loaded.\"\n",
      "/Applications/anaconda3/envs/NWB-dev/lib/python3.11/site-packages/hdmf/spec/namespace.py:531: UserWarning: Ignoring cached namespace 'hdmf-experimental' version 0.4.0 because version 0.5.0 is already loaded.\n",
      "  warn(\"Ignoring cached namespace '%s' version %s because version %s is already loaded.\"\n",
      "/Applications/anaconda3/envs/NWB-dev/lib/python3.11/site-packages/hdmf/spec/namespace.py:531: UserWarning: Ignoring cached namespace 'ndx-multichannel-volume' version 0.1.7 because version 0.1.9 is already loaded.\n",
      "  warn(\"Ignoring cached namespace '%s' version %s because version %s is already loaded.\"\n"
     ]
    },
    {
     "name": "stdout",
     "output_type": "stream",
     "text": [
      "20221106-21-47-31.nwb\n"
     ]
    },
    {
     "name": "stderr",
     "output_type": "stream",
     "text": [
      "/Applications/anaconda3/envs/NWB-dev/lib/python3.11/site-packages/hdmf/spec/namespace.py:531: UserWarning: Ignoring cached namespace 'hdmf-common' version 1.7.0 because version 1.8.0 is already loaded.\n",
      "  warn(\"Ignoring cached namespace '%s' version %s because version %s is already loaded.\"\n",
      "/Applications/anaconda3/envs/NWB-dev/lib/python3.11/site-packages/hdmf/spec/namespace.py:531: UserWarning: Ignoring cached namespace 'hdmf-experimental' version 0.4.0 because version 0.5.0 is already loaded.\n",
      "  warn(\"Ignoring cached namespace '%s' version %s because version %s is already loaded.\"\n",
      "/Applications/anaconda3/envs/NWB-dev/lib/python3.11/site-packages/hdmf/spec/namespace.py:531: UserWarning: Ignoring cached namespace 'ndx-multichannel-volume' version 0.1.7 because version 0.1.9 is already loaded.\n",
      "  warn(\"Ignoring cached namespace '%s' version %s because version %s is already loaded.\"\n"
     ]
    },
    {
     "name": "stdout",
     "output_type": "stream",
     "text": [
      "20230506-12-56-00.nwb\n"
     ]
    },
    {
     "name": "stderr",
     "output_type": "stream",
     "text": [
      "/Applications/anaconda3/envs/NWB-dev/lib/python3.11/site-packages/hdmf/spec/namespace.py:531: UserWarning: Ignoring cached namespace 'hdmf-common' version 1.7.0 because version 1.8.0 is already loaded.\n",
      "  warn(\"Ignoring cached namespace '%s' version %s because version %s is already loaded.\"\n",
      "/Applications/anaconda3/envs/NWB-dev/lib/python3.11/site-packages/hdmf/spec/namespace.py:531: UserWarning: Ignoring cached namespace 'hdmf-experimental' version 0.4.0 because version 0.5.0 is already loaded.\n",
      "  warn(\"Ignoring cached namespace '%s' version %s because version %s is already loaded.\"\n",
      "/Applications/anaconda3/envs/NWB-dev/lib/python3.11/site-packages/hdmf/spec/namespace.py:531: UserWarning: Ignoring cached namespace 'ndx-multichannel-volume' version 0.1.7 because version 0.1.9 is already loaded.\n",
      "  warn(\"Ignoring cached namespace '%s' version %s because version %s is already loaded.\"\n"
     ]
    },
    {
     "name": "stdout",
     "output_type": "stream",
     "text": [
      "20221106-21-00-09.nwb\n"
     ]
    },
    {
     "name": "stderr",
     "output_type": "stream",
     "text": [
      "/Applications/anaconda3/envs/NWB-dev/lib/python3.11/site-packages/hdmf/spec/namespace.py:531: UserWarning: Ignoring cached namespace 'hdmf-common' version 1.7.0 because version 1.8.0 is already loaded.\n",
      "  warn(\"Ignoring cached namespace '%s' version %s because version %s is already loaded.\"\n",
      "/Applications/anaconda3/envs/NWB-dev/lib/python3.11/site-packages/hdmf/spec/namespace.py:531: UserWarning: Ignoring cached namespace 'hdmf-experimental' version 0.4.0 because version 0.5.0 is already loaded.\n",
      "  warn(\"Ignoring cached namespace '%s' version %s because version %s is already loaded.\"\n",
      "/Applications/anaconda3/envs/NWB-dev/lib/python3.11/site-packages/hdmf/spec/namespace.py:531: UserWarning: Ignoring cached namespace 'ndx-multichannel-volume' version 0.1.7 because version 0.1.9 is already loaded.\n",
      "  warn(\"Ignoring cached namespace '%s' version %s because version %s is already loaded.\"\n"
     ]
    },
    {
     "name": "stdout",
     "output_type": "stream",
     "text": [
      "20230322-20-16-50.nwb\n"
     ]
    },
    {
     "name": "stderr",
     "output_type": "stream",
     "text": [
      "/Applications/anaconda3/envs/NWB-dev/lib/python3.11/site-packages/hdmf/spec/namespace.py:531: UserWarning: Ignoring cached namespace 'hdmf-common' version 1.7.0 because version 1.8.0 is already loaded.\n",
      "  warn(\"Ignoring cached namespace '%s' version %s because version %s is already loaded.\"\n",
      "/Applications/anaconda3/envs/NWB-dev/lib/python3.11/site-packages/hdmf/spec/namespace.py:531: UserWarning: Ignoring cached namespace 'hdmf-experimental' version 0.4.0 because version 0.5.0 is already loaded.\n",
      "  warn(\"Ignoring cached namespace '%s' version %s because version %s is already loaded.\"\n",
      "/Applications/anaconda3/envs/NWB-dev/lib/python3.11/site-packages/hdmf/spec/namespace.py:531: UserWarning: Ignoring cached namespace 'ndx-multichannel-volume' version 0.1.7 because version 0.1.9 is already loaded.\n",
      "  warn(\"Ignoring cached namespace '%s' version %s because version %s is already loaded.\"\n"
     ]
    },
    {
     "name": "stdout",
     "output_type": "stream",
     "text": [
      "20221028-18-48-00.nwb\n"
     ]
    },
    {
     "name": "stderr",
     "output_type": "stream",
     "text": [
      "/Applications/anaconda3/envs/NWB-dev/lib/python3.11/site-packages/hdmf/spec/namespace.py:531: UserWarning: Ignoring cached namespace 'hdmf-common' version 1.7.0 because version 1.8.0 is already loaded.\n",
      "  warn(\"Ignoring cached namespace '%s' version %s because version %s is already loaded.\"\n",
      "/Applications/anaconda3/envs/NWB-dev/lib/python3.11/site-packages/hdmf/spec/namespace.py:531: UserWarning: Ignoring cached namespace 'hdmf-experimental' version 0.4.0 because version 0.5.0 is already loaded.\n",
      "  warn(\"Ignoring cached namespace '%s' version %s because version %s is already loaded.\"\n",
      "/Applications/anaconda3/envs/NWB-dev/lib/python3.11/site-packages/hdmf/spec/namespace.py:531: UserWarning: Ignoring cached namespace 'ndx-multichannel-volume' version 0.1.7 because version 0.1.9 is already loaded.\n",
      "  warn(\"Ignoring cached namespace '%s' version %s because version %s is already loaded.\"\n"
     ]
    },
    {
     "name": "stdout",
     "output_type": "stream",
     "text": [
      "20230506-13-32-08.nwb\n"
     ]
    },
    {
     "name": "stderr",
     "output_type": "stream",
     "text": [
      "/Applications/anaconda3/envs/NWB-dev/lib/python3.11/site-packages/hdmf/spec/namespace.py:531: UserWarning: Ignoring cached namespace 'hdmf-common' version 1.7.0 because version 1.8.0 is already loaded.\n",
      "  warn(\"Ignoring cached namespace '%s' version %s because version %s is already loaded.\"\n",
      "/Applications/anaconda3/envs/NWB-dev/lib/python3.11/site-packages/hdmf/spec/namespace.py:531: UserWarning: Ignoring cached namespace 'hdmf-experimental' version 0.4.0 because version 0.5.0 is already loaded.\n",
      "  warn(\"Ignoring cached namespace '%s' version %s because version %s is already loaded.\"\n",
      "/Applications/anaconda3/envs/NWB-dev/lib/python3.11/site-packages/hdmf/spec/namespace.py:531: UserWarning: Ignoring cached namespace 'ndx-multichannel-volume' version 0.1.7 because version 0.1.9 is already loaded.\n",
      "  warn(\"Ignoring cached namespace '%s' version %s because version %s is already loaded.\"\n"
     ]
    },
    {
     "name": "stdout",
     "output_type": "stream",
     "text": [
      "20230510-16-36-46.nwb\n"
     ]
    },
    {
     "name": "stderr",
     "output_type": "stream",
     "text": [
      "/Applications/anaconda3/envs/NWB-dev/lib/python3.11/site-packages/hdmf/spec/namespace.py:531: UserWarning: Ignoring cached namespace 'hdmf-common' version 1.7.0 because version 1.8.0 is already loaded.\n",
      "  warn(\"Ignoring cached namespace '%s' version %s because version %s is already loaded.\"\n",
      "/Applications/anaconda3/envs/NWB-dev/lib/python3.11/site-packages/hdmf/spec/namespace.py:531: UserWarning: Ignoring cached namespace 'hdmf-experimental' version 0.4.0 because version 0.5.0 is already loaded.\n",
      "  warn(\"Ignoring cached namespace '%s' version %s because version %s is already loaded.\"\n",
      "/Applications/anaconda3/envs/NWB-dev/lib/python3.11/site-packages/hdmf/spec/namespace.py:531: UserWarning: Ignoring cached namespace 'ndx-multichannel-volume' version 0.1.7 because version 0.1.9 is already loaded.\n",
      "  warn(\"Ignoring cached namespace '%s' version %s because version %s is already loaded.\"\n"
     ]
    },
    {
     "name": "stdout",
     "output_type": "stream",
     "text": [
      "20230506-15-33-51.nwb\n"
     ]
    },
    {
     "name": "stderr",
     "output_type": "stream",
     "text": [
      "/Applications/anaconda3/envs/NWB-dev/lib/python3.11/site-packages/hdmf/spec/namespace.py:531: UserWarning: Ignoring cached namespace 'hdmf-common' version 1.7.0 because version 1.8.0 is already loaded.\n",
      "  warn(\"Ignoring cached namespace '%s' version %s because version %s is already loaded.\"\n",
      "/Applications/anaconda3/envs/NWB-dev/lib/python3.11/site-packages/hdmf/spec/namespace.py:531: UserWarning: Ignoring cached namespace 'hdmf-experimental' version 0.4.0 because version 0.5.0 is already loaded.\n",
      "  warn(\"Ignoring cached namespace '%s' version %s because version %s is already loaded.\"\n",
      "/Applications/anaconda3/envs/NWB-dev/lib/python3.11/site-packages/hdmf/spec/namespace.py:531: UserWarning: Ignoring cached namespace 'ndx-multichannel-volume' version 0.1.7 because version 0.1.9 is already loaded.\n",
      "  warn(\"Ignoring cached namespace '%s' version %s because version %s is already loaded.\"\n"
     ]
    },
    {
     "name": "stdout",
     "output_type": "stream",
     "text": [
      "20230510-15-49-47.nwb\n"
     ]
    },
    {
     "name": "stderr",
     "output_type": "stream",
     "text": [
      "/Applications/anaconda3/envs/NWB-dev/lib/python3.11/site-packages/hdmf/spec/namespace.py:531: UserWarning: Ignoring cached namespace 'hdmf-common' version 1.7.0 because version 1.8.0 is already loaded.\n",
      "  warn(\"Ignoring cached namespace '%s' version %s because version %s is already loaded.\"\n",
      "/Applications/anaconda3/envs/NWB-dev/lib/python3.11/site-packages/hdmf/spec/namespace.py:531: UserWarning: Ignoring cached namespace 'hdmf-experimental' version 0.4.0 because version 0.5.0 is already loaded.\n",
      "  warn(\"Ignoring cached namespace '%s' version %s because version %s is already loaded.\"\n",
      "/Applications/anaconda3/envs/NWB-dev/lib/python3.11/site-packages/hdmf/spec/namespace.py:531: UserWarning: Ignoring cached namespace 'ndx-multichannel-volume' version 0.1.7 because version 0.1.9 is already loaded.\n",
      "  warn(\"Ignoring cached namespace '%s' version %s because version %s is already loaded.\"\n"
     ]
    },
    {
     "name": "stdout",
     "output_type": "stream",
     "text": [
      "20221215-20-02-49.nwb\n"
     ]
    },
    {
     "name": "stderr",
     "output_type": "stream",
     "text": [
      "/Applications/anaconda3/envs/NWB-dev/lib/python3.11/site-packages/hdmf/spec/namespace.py:531: UserWarning: Ignoring cached namespace 'hdmf-common' version 1.7.0 because version 1.8.0 is already loaded.\n",
      "  warn(\"Ignoring cached namespace '%s' version %s because version %s is already loaded.\"\n",
      "/Applications/anaconda3/envs/NWB-dev/lib/python3.11/site-packages/hdmf/spec/namespace.py:531: UserWarning: Ignoring cached namespace 'hdmf-experimental' version 0.4.0 because version 0.5.0 is already loaded.\n",
      "  warn(\"Ignoring cached namespace '%s' version %s because version %s is already loaded.\"\n",
      "/Applications/anaconda3/envs/NWB-dev/lib/python3.11/site-packages/hdmf/spec/namespace.py:531: UserWarning: Ignoring cached namespace 'ndx-multichannel-volume' version 0.1.7 because version 0.1.9 is already loaded.\n",
      "  warn(\"Ignoring cached namespace '%s' version %s because version %s is already loaded.\"\n"
     ]
    },
    {
     "name": "stdout",
     "output_type": "stream",
     "text": [
      "20230322-21-41-10.nwb\n"
     ]
    },
    {
     "name": "stderr",
     "output_type": "stream",
     "text": [
      "/Applications/anaconda3/envs/NWB-dev/lib/python3.11/site-packages/hdmf/spec/namespace.py:531: UserWarning: Ignoring cached namespace 'hdmf-common' version 1.7.0 because version 1.8.0 is already loaded.\n",
      "  warn(\"Ignoring cached namespace '%s' version %s because version %s is already loaded.\"\n",
      "/Applications/anaconda3/envs/NWB-dev/lib/python3.11/site-packages/hdmf/spec/namespace.py:531: UserWarning: Ignoring cached namespace 'hdmf-experimental' version 0.4.0 because version 0.5.0 is already loaded.\n",
      "  warn(\"Ignoring cached namespace '%s' version %s because version %s is already loaded.\"\n",
      "/Applications/anaconda3/envs/NWB-dev/lib/python3.11/site-packages/hdmf/spec/namespace.py:531: UserWarning: Ignoring cached namespace 'ndx-multichannel-volume' version 0.1.7 because version 0.1.9 is already loaded.\n",
      "  warn(\"Ignoring cached namespace '%s' version %s because version %s is already loaded.\"\n"
     ]
    },
    {
     "name": "stdout",
     "output_type": "stream",
     "text": [
      "20221106-21-23-19.nwb\n"
     ]
    },
    {
     "name": "stderr",
     "output_type": "stream",
     "text": [
      "/Applications/anaconda3/envs/NWB-dev/lib/python3.11/site-packages/hdmf/spec/namespace.py:531: UserWarning: Ignoring cached namespace 'hdmf-common' version 1.7.0 because version 1.8.0 is already loaded.\n",
      "  warn(\"Ignoring cached namespace '%s' version %s because version %s is already loaded.\"\n",
      "/Applications/anaconda3/envs/NWB-dev/lib/python3.11/site-packages/hdmf/spec/namespace.py:531: UserWarning: Ignoring cached namespace 'hdmf-experimental' version 0.4.0 because version 0.5.0 is already loaded.\n",
      "  warn(\"Ignoring cached namespace '%s' version %s because version %s is already loaded.\"\n",
      "/Applications/anaconda3/envs/NWB-dev/lib/python3.11/site-packages/hdmf/spec/namespace.py:531: UserWarning: Ignoring cached namespace 'ndx-multichannel-volume' version 0.1.7 because version 0.1.9 is already loaded.\n",
      "  warn(\"Ignoring cached namespace '%s' version %s because version %s is already loaded.\"\n"
     ]
    },
    {
     "name": "stdout",
     "output_type": "stream",
     "text": [
      "20230506-15-01-45.nwb\n"
     ]
    },
    {
     "name": "stderr",
     "output_type": "stream",
     "text": [
      "/Applications/anaconda3/envs/NWB-dev/lib/python3.11/site-packages/hdmf/spec/namespace.py:531: UserWarning: Ignoring cached namespace 'hdmf-common' version 1.7.0 because version 1.8.0 is already loaded.\n",
      "  warn(\"Ignoring cached namespace '%s' version %s because version %s is already loaded.\"\n",
      "/Applications/anaconda3/envs/NWB-dev/lib/python3.11/site-packages/hdmf/spec/namespace.py:531: UserWarning: Ignoring cached namespace 'hdmf-experimental' version 0.4.0 because version 0.5.0 is already loaded.\n",
      "  warn(\"Ignoring cached namespace '%s' version %s because version %s is already loaded.\"\n",
      "/Applications/anaconda3/envs/NWB-dev/lib/python3.11/site-packages/hdmf/spec/namespace.py:531: UserWarning: Ignoring cached namespace 'ndx-multichannel-volume' version 0.1.7 because version 0.1.9 is already loaded.\n",
      "  warn(\"Ignoring cached namespace '%s' version %s because version %s is already loaded.\"\n"
     ]
    },
    {
     "name": "stdout",
     "output_type": "stream",
     "text": [
      "20230510-12-53-34.nwb\n"
     ]
    },
    {
     "name": "stderr",
     "output_type": "stream",
     "text": [
      "/Applications/anaconda3/envs/NWB-dev/lib/python3.11/site-packages/hdmf/spec/namespace.py:531: UserWarning: Ignoring cached namespace 'hdmf-common' version 1.7.0 because version 1.8.0 is already loaded.\n",
      "  warn(\"Ignoring cached namespace '%s' version %s because version %s is already loaded.\"\n",
      "/Applications/anaconda3/envs/NWB-dev/lib/python3.11/site-packages/hdmf/spec/namespace.py:531: UserWarning: Ignoring cached namespace 'hdmf-experimental' version 0.4.0 because version 0.5.0 is already loaded.\n",
      "  warn(\"Ignoring cached namespace '%s' version %s because version %s is already loaded.\"\n",
      "/Applications/anaconda3/envs/NWB-dev/lib/python3.11/site-packages/hdmf/spec/namespace.py:531: UserWarning: Ignoring cached namespace 'ndx-multichannel-volume' version 0.1.7 because version 0.1.9 is already loaded.\n",
      "  warn(\"Ignoring cached namespace '%s' version %s because version %s is already loaded.\"\n"
     ]
    },
    {
     "name": "stdout",
     "output_type": "stream",
     "text": [
      "20221215-22-02-55.nwb\n"
     ]
    },
    {
     "name": "stderr",
     "output_type": "stream",
     "text": [
      "/Applications/anaconda3/envs/NWB-dev/lib/python3.11/site-packages/hdmf/spec/namespace.py:531: UserWarning: Ignoring cached namespace 'hdmf-common' version 1.7.0 because version 1.8.0 is already loaded.\n",
      "  warn(\"Ignoring cached namespace '%s' version %s because version %s is already loaded.\"\n",
      "/Applications/anaconda3/envs/NWB-dev/lib/python3.11/site-packages/hdmf/spec/namespace.py:531: UserWarning: Ignoring cached namespace 'hdmf-experimental' version 0.4.0 because version 0.5.0 is already loaded.\n",
      "  warn(\"Ignoring cached namespace '%s' version %s because version %s is already loaded.\"\n",
      "/Applications/anaconda3/envs/NWB-dev/lib/python3.11/site-packages/hdmf/spec/namespace.py:531: UserWarning: Ignoring cached namespace 'ndx-multichannel-volume' version 0.1.7 because version 0.1.9 is already loaded.\n",
      "  warn(\"Ignoring cached namespace '%s' version %s because version %s is already loaded.\"\n"
     ]
    },
    {
     "name": "stdout",
     "output_type": "stream",
     "text": [
      "20230322-18-57-04.nwb\n"
     ]
    },
    {
     "name": "stderr",
     "output_type": "stream",
     "text": [
      "/Applications/anaconda3/envs/NWB-dev/lib/python3.11/site-packages/hdmf/spec/namespace.py:531: UserWarning: Ignoring cached namespace 'hdmf-common' version 1.7.0 because version 1.8.0 is already loaded.\n",
      "  warn(\"Ignoring cached namespace '%s' version %s because version %s is already loaded.\"\n",
      "/Applications/anaconda3/envs/NWB-dev/lib/python3.11/site-packages/hdmf/spec/namespace.py:531: UserWarning: Ignoring cached namespace 'hdmf-experimental' version 0.4.0 because version 0.5.0 is already loaded.\n",
      "  warn(\"Ignoring cached namespace '%s' version %s because version %s is already loaded.\"\n",
      "/Applications/anaconda3/envs/NWB-dev/lib/python3.11/site-packages/hdmf/spec/namespace.py:531: UserWarning: Ignoring cached namespace 'ndx-multichannel-volume' version 0.1.7 because version 0.1.9 is already loaded.\n",
      "  warn(\"Ignoring cached namespace '%s' version %s because version %s is already loaded.\"\n"
     ]
    },
    {
     "name": "stdout",
     "output_type": "stream",
     "text": [
      "20190928_08.nwb\n"
     ]
    },
    {
     "name": "stderr",
     "output_type": "stream",
     "text": [
      "/Applications/anaconda3/envs/NWB-dev/lib/python3.11/site-packages/hdmf/spec/namespace.py:531: UserWarning: Ignoring cached namespace 'hdmf-common' version 1.7.0 because version 1.8.0 is already loaded.\n",
      "  warn(\"Ignoring cached namespace '%s' version %s because version %s is already loaded.\"\n",
      "/Applications/anaconda3/envs/NWB-dev/lib/python3.11/site-packages/hdmf/spec/namespace.py:531: UserWarning: Ignoring cached namespace 'hdmf-experimental' version 0.4.0 because version 0.5.0 is already loaded.\n",
      "  warn(\"Ignoring cached namespace '%s' version %s because version %s is already loaded.\"\n",
      "/Applications/anaconda3/envs/NWB-dev/lib/python3.11/site-packages/hdmf/spec/namespace.py:531: UserWarning: Ignoring cached namespace 'ndx-multichannel-volume' version 0.1.7 because version 0.1.9 is already loaded.\n",
      "  warn(\"Ignoring cached namespace '%s' version %s because version %s is already loaded.\"\n"
     ]
    },
    {
     "name": "stdout",
     "output_type": "stream",
     "text": [
      "20190929_02.nwb\n"
     ]
    },
    {
     "name": "stderr",
     "output_type": "stream",
     "text": [
      "/Applications/anaconda3/envs/NWB-dev/lib/python3.11/site-packages/hdmf/spec/namespace.py:531: UserWarning: Ignoring cached namespace 'hdmf-common' version 1.7.0 because version 1.8.0 is already loaded.\n",
      "  warn(\"Ignoring cached namespace '%s' version %s because version %s is already loaded.\"\n",
      "/Applications/anaconda3/envs/NWB-dev/lib/python3.11/site-packages/hdmf/spec/namespace.py:531: UserWarning: Ignoring cached namespace 'hdmf-experimental' version 0.4.0 because version 0.5.0 is already loaded.\n",
      "  warn(\"Ignoring cached namespace '%s' version %s because version %s is already loaded.\"\n",
      "/Applications/anaconda3/envs/NWB-dev/lib/python3.11/site-packages/hdmf/spec/namespace.py:531: UserWarning: Ignoring cached namespace 'ndx-multichannel-volume' version 0.1.7 because version 0.1.9 is already loaded.\n",
      "  warn(\"Ignoring cached namespace '%s' version %s because version %s is already loaded.\"\n"
     ]
    },
    {
     "name": "stdout",
     "output_type": "stream",
     "text": [
      "20190929_03.nwb\n"
     ]
    },
    {
     "name": "stderr",
     "output_type": "stream",
     "text": [
      "/Applications/anaconda3/envs/NWB-dev/lib/python3.11/site-packages/hdmf/spec/namespace.py:531: UserWarning: Ignoring cached namespace 'hdmf-common' version 1.7.0 because version 1.8.0 is already loaded.\n",
      "  warn(\"Ignoring cached namespace '%s' version %s because version %s is already loaded.\"\n",
      "/Applications/anaconda3/envs/NWB-dev/lib/python3.11/site-packages/hdmf/spec/namespace.py:531: UserWarning: Ignoring cached namespace 'hdmf-experimental' version 0.4.0 because version 0.5.0 is already loaded.\n",
      "  warn(\"Ignoring cached namespace '%s' version %s because version %s is already loaded.\"\n",
      "/Applications/anaconda3/envs/NWB-dev/lib/python3.11/site-packages/hdmf/spec/namespace.py:531: UserWarning: Ignoring cached namespace 'ndx-multichannel-volume' version 0.1.7 because version 0.1.9 is already loaded.\n",
      "  warn(\"Ignoring cached namespace '%s' version %s because version %s is already loaded.\"\n"
     ]
    },
    {
     "name": "stdout",
     "output_type": "stream",
     "text": [
      "20190925_01.nwb\n"
     ]
    },
    {
     "name": "stderr",
     "output_type": "stream",
     "text": [
      "/Applications/anaconda3/envs/NWB-dev/lib/python3.11/site-packages/hdmf/spec/namespace.py:531: UserWarning: Ignoring cached namespace 'hdmf-common' version 1.7.0 because version 1.8.0 is already loaded.\n",
      "  warn(\"Ignoring cached namespace '%s' version %s because version %s is already loaded.\"\n",
      "/Applications/anaconda3/envs/NWB-dev/lib/python3.11/site-packages/hdmf/spec/namespace.py:531: UserWarning: Ignoring cached namespace 'hdmf-experimental' version 0.4.0 because version 0.5.0 is already loaded.\n",
      "  warn(\"Ignoring cached namespace '%s' version %s because version %s is already loaded.\"\n",
      "/Applications/anaconda3/envs/NWB-dev/lib/python3.11/site-packages/hdmf/spec/namespace.py:531: UserWarning: Ignoring cached namespace 'ndx-multichannel-volume' version 0.1.7 because version 0.1.9 is already loaded.\n",
      "  warn(\"Ignoring cached namespace '%s' version %s because version %s is already loaded.\"\n"
     ]
    },
    {
     "name": "stdout",
     "output_type": "stream",
     "text": [
      "20191030_07.nwb\n"
     ]
    },
    {
     "name": "stderr",
     "output_type": "stream",
     "text": [
      "/Applications/anaconda3/envs/NWB-dev/lib/python3.11/site-packages/hdmf/spec/namespace.py:531: UserWarning: Ignoring cached namespace 'hdmf-common' version 1.7.0 because version 1.8.0 is already loaded.\n",
      "  warn(\"Ignoring cached namespace '%s' version %s because version %s is already loaded.\"\n",
      "/Applications/anaconda3/envs/NWB-dev/lib/python3.11/site-packages/hdmf/spec/namespace.py:531: UserWarning: Ignoring cached namespace 'hdmf-experimental' version 0.4.0 because version 0.5.0 is already loaded.\n",
      "  warn(\"Ignoring cached namespace '%s' version %s because version %s is already loaded.\"\n",
      "/Applications/anaconda3/envs/NWB-dev/lib/python3.11/site-packages/hdmf/spec/namespace.py:531: UserWarning: Ignoring cached namespace 'ndx-multichannel-volume' version 0.1.7 because version 0.1.9 is already loaded.\n",
      "  warn(\"Ignoring cached namespace '%s' version %s because version %s is already loaded.\"\n"
     ]
    },
    {
     "name": "stdout",
     "output_type": "stream",
     "text": [
      "20190925_04.nwb\n"
     ]
    },
    {
     "name": "stderr",
     "output_type": "stream",
     "text": [
      "/Applications/anaconda3/envs/NWB-dev/lib/python3.11/site-packages/hdmf/spec/namespace.py:531: UserWarning: Ignoring cached namespace 'hdmf-common' version 1.7.0 because version 1.8.0 is already loaded.\n",
      "  warn(\"Ignoring cached namespace '%s' version %s because version %s is already loaded.\"\n",
      "/Applications/anaconda3/envs/NWB-dev/lib/python3.11/site-packages/hdmf/spec/namespace.py:531: UserWarning: Ignoring cached namespace 'hdmf-experimental' version 0.4.0 because version 0.5.0 is already loaded.\n",
      "  warn(\"Ignoring cached namespace '%s' version %s because version %s is already loaded.\"\n",
      "/Applications/anaconda3/envs/NWB-dev/lib/python3.11/site-packages/hdmf/spec/namespace.py:531: UserWarning: Ignoring cached namespace 'ndx-multichannel-volume' version 0.1.7 because version 0.1.9 is already loaded.\n",
      "  warn(\"Ignoring cached namespace '%s' version %s because version %s is already loaded.\"\n"
     ]
    },
    {
     "name": "stdout",
     "output_type": "stream",
     "text": [
      "20191030_03.nwb\n"
     ]
    },
    {
     "name": "stderr",
     "output_type": "stream",
     "text": [
      "/Applications/anaconda3/envs/NWB-dev/lib/python3.11/site-packages/hdmf/spec/namespace.py:531: UserWarning: Ignoring cached namespace 'hdmf-common' version 1.7.0 because version 1.8.0 is already loaded.\n",
      "  warn(\"Ignoring cached namespace '%s' version %s because version %s is already loaded.\"\n",
      "/Applications/anaconda3/envs/NWB-dev/lib/python3.11/site-packages/hdmf/spec/namespace.py:531: UserWarning: Ignoring cached namespace 'hdmf-experimental' version 0.4.0 because version 0.5.0 is already loaded.\n",
      "  warn(\"Ignoring cached namespace '%s' version %s because version %s is already loaded.\"\n",
      "/Applications/anaconda3/envs/NWB-dev/lib/python3.11/site-packages/hdmf/spec/namespace.py:531: UserWarning: Ignoring cached namespace 'ndx-multichannel-volume' version 0.1.7 because version 0.1.9 is already loaded.\n",
      "  warn(\"Ignoring cached namespace '%s' version %s because version %s is already loaded.\"\n"
     ]
    },
    {
     "name": "stdout",
     "output_type": "stream",
     "text": [
      "20190929_05.nwb\n"
     ]
    },
    {
     "name": "stderr",
     "output_type": "stream",
     "text": [
      "/Applications/anaconda3/envs/NWB-dev/lib/python3.11/site-packages/hdmf/spec/namespace.py:531: UserWarning: Ignoring cached namespace 'hdmf-common' version 1.7.0 because version 1.8.0 is already loaded.\n",
      "  warn(\"Ignoring cached namespace '%s' version %s because version %s is already loaded.\"\n",
      "/Applications/anaconda3/envs/NWB-dev/lib/python3.11/site-packages/hdmf/spec/namespace.py:531: UserWarning: Ignoring cached namespace 'hdmf-experimental' version 0.4.0 because version 0.5.0 is already loaded.\n",
      "  warn(\"Ignoring cached namespace '%s' version %s because version %s is already loaded.\"\n",
      "/Applications/anaconda3/envs/NWB-dev/lib/python3.11/site-packages/hdmf/spec/namespace.py:531: UserWarning: Ignoring cached namespace 'ndx-multichannel-volume' version 0.1.7 because version 0.1.9 is already loaded.\n",
      "  warn(\"Ignoring cached namespace '%s' version %s because version %s is already loaded.\"\n"
     ]
    },
    {
     "name": "stdout",
     "output_type": "stream",
     "text": [
      "20190929_07.nwb\n"
     ]
    },
    {
     "name": "stderr",
     "output_type": "stream",
     "text": [
      "/Applications/anaconda3/envs/NWB-dev/lib/python3.11/site-packages/hdmf/spec/namespace.py:531: UserWarning: Ignoring cached namespace 'hdmf-common' version 1.7.0 because version 1.8.0 is already loaded.\n",
      "  warn(\"Ignoring cached namespace '%s' version %s because version %s is already loaded.\"\n",
      "/Applications/anaconda3/envs/NWB-dev/lib/python3.11/site-packages/hdmf/spec/namespace.py:531: UserWarning: Ignoring cached namespace 'hdmf-experimental' version 0.4.0 because version 0.5.0 is already loaded.\n",
      "  warn(\"Ignoring cached namespace '%s' version %s because version %s is already loaded.\"\n",
      "/Applications/anaconda3/envs/NWB-dev/lib/python3.11/site-packages/hdmf/spec/namespace.py:531: UserWarning: Ignoring cached namespace 'ndx-multichannel-volume' version 0.1.7 because version 0.1.9 is already loaded.\n",
      "  warn(\"Ignoring cached namespace '%s' version %s because version %s is already loaded.\"\n"
     ]
    },
    {
     "name": "stdout",
     "output_type": "stream",
     "text": [
      "20190929_06.nwb\n"
     ]
    },
    {
     "name": "stderr",
     "output_type": "stream",
     "text": [
      "/Applications/anaconda3/envs/NWB-dev/lib/python3.11/site-packages/hdmf/spec/namespace.py:531: UserWarning: Ignoring cached namespace 'hdmf-common' version 1.7.0 because version 1.8.0 is already loaded.\n",
      "  warn(\"Ignoring cached namespace '%s' version %s because version %s is already loaded.\"\n",
      "/Applications/anaconda3/envs/NWB-dev/lib/python3.11/site-packages/hdmf/spec/namespace.py:531: UserWarning: Ignoring cached namespace 'hdmf-experimental' version 0.4.0 because version 0.5.0 is already loaded.\n",
      "  warn(\"Ignoring cached namespace '%s' version %s because version %s is already loaded.\"\n",
      "/Applications/anaconda3/envs/NWB-dev/lib/python3.11/site-packages/hdmf/spec/namespace.py:531: UserWarning: Ignoring cached namespace 'ndx-multichannel-volume' version 0.1.7 because version 0.1.9 is already loaded.\n",
      "  warn(\"Ignoring cached namespace '%s' version %s because version %s is already loaded.\"\n"
     ]
    },
    {
     "name": "stdout",
     "output_type": "stream",
     "text": [
      "20191104_10.nwb\n"
     ]
    },
    {
     "name": "stderr",
     "output_type": "stream",
     "text": [
      "/Applications/anaconda3/envs/NWB-dev/lib/python3.11/site-packages/hdmf/spec/namespace.py:531: UserWarning: Ignoring cached namespace 'hdmf-common' version 1.7.0 because version 1.8.0 is already loaded.\n",
      "  warn(\"Ignoring cached namespace '%s' version %s because version %s is already loaded.\"\n",
      "/Applications/anaconda3/envs/NWB-dev/lib/python3.11/site-packages/hdmf/spec/namespace.py:531: UserWarning: Ignoring cached namespace 'hdmf-experimental' version 0.4.0 because version 0.5.0 is already loaded.\n",
      "  warn(\"Ignoring cached namespace '%s' version %s because version %s is already loaded.\"\n",
      "/Applications/anaconda3/envs/NWB-dev/lib/python3.11/site-packages/hdmf/spec/namespace.py:531: UserWarning: Ignoring cached namespace 'ndx-multichannel-volume' version 0.1.7 because version 0.1.9 is already loaded.\n",
      "  warn(\"Ignoring cached namespace '%s' version %s because version %s is already loaded.\"\n"
     ]
    },
    {
     "name": "stdout",
     "output_type": "stream",
     "text": [
      "20191104_08.nwb\n"
     ]
    },
    {
     "name": "stderr",
     "output_type": "stream",
     "text": [
      "/Applications/anaconda3/envs/NWB-dev/lib/python3.11/site-packages/hdmf/spec/namespace.py:531: UserWarning: Ignoring cached namespace 'hdmf-common' version 1.7.0 because version 1.8.0 is already loaded.\n",
      "  warn(\"Ignoring cached namespace '%s' version %s because version %s is already loaded.\"\n",
      "/Applications/anaconda3/envs/NWB-dev/lib/python3.11/site-packages/hdmf/spec/namespace.py:531: UserWarning: Ignoring cached namespace 'hdmf-experimental' version 0.4.0 because version 0.5.0 is already loaded.\n",
      "  warn(\"Ignoring cached namespace '%s' version %s because version %s is already loaded.\"\n",
      "/Applications/anaconda3/envs/NWB-dev/lib/python3.11/site-packages/hdmf/spec/namespace.py:531: UserWarning: Ignoring cached namespace 'ndx-multichannel-volume' version 0.1.7 because version 0.1.9 is already loaded.\n",
      "  warn(\"Ignoring cached namespace '%s' version %s because version %s is already loaded.\"\n"
     ]
    },
    {
     "name": "stdout",
     "output_type": "stream",
     "text": [
      "20190924_01.nwb\n"
     ]
    },
    {
     "name": "stderr",
     "output_type": "stream",
     "text": [
      "/Applications/anaconda3/envs/NWB-dev/lib/python3.11/site-packages/hdmf/spec/namespace.py:531: UserWarning: Ignoring cached namespace 'hdmf-common' version 1.7.0 because version 1.8.0 is already loaded.\n",
      "  warn(\"Ignoring cached namespace '%s' version %s because version %s is already loaded.\"\n",
      "/Applications/anaconda3/envs/NWB-dev/lib/python3.11/site-packages/hdmf/spec/namespace.py:531: UserWarning: Ignoring cached namespace 'hdmf-experimental' version 0.4.0 because version 0.5.0 is already loaded.\n",
      "  warn(\"Ignoring cached namespace '%s' version %s because version %s is already loaded.\"\n",
      "/Applications/anaconda3/envs/NWB-dev/lib/python3.11/site-packages/hdmf/spec/namespace.py:531: UserWarning: Ignoring cached namespace 'ndx-multichannel-volume' version 0.1.7 because version 0.1.9 is already loaded.\n",
      "  warn(\"Ignoring cached namespace '%s' version %s because version %s is already loaded.\"\n"
     ]
    },
    {
     "name": "stdout",
     "output_type": "stream",
     "text": [
      "20190928_01.nwb\n"
     ]
    },
    {
     "name": "stderr",
     "output_type": "stream",
     "text": [
      "/Applications/anaconda3/envs/NWB-dev/lib/python3.11/site-packages/hdmf/spec/namespace.py:531: UserWarning: Ignoring cached namespace 'hdmf-common' version 1.7.0 because version 1.8.0 is already loaded.\n",
      "  warn(\"Ignoring cached namespace '%s' version %s because version %s is already loaded.\"\n",
      "/Applications/anaconda3/envs/NWB-dev/lib/python3.11/site-packages/hdmf/spec/namespace.py:531: UserWarning: Ignoring cached namespace 'hdmf-experimental' version 0.4.0 because version 0.5.0 is already loaded.\n",
      "  warn(\"Ignoring cached namespace '%s' version %s because version %s is already loaded.\"\n",
      "/Applications/anaconda3/envs/NWB-dev/lib/python3.11/site-packages/hdmf/spec/namespace.py:531: UserWarning: Ignoring cached namespace 'ndx-multichannel-volume' version 0.1.7 because version 0.1.9 is already loaded.\n",
      "  warn(\"Ignoring cached namespace '%s' version %s because version %s is already loaded.\"\n"
     ]
    },
    {
     "name": "stdout",
     "output_type": "stream",
     "text": [
      "20190928_03.nwb\n"
     ]
    },
    {
     "name": "stderr",
     "output_type": "stream",
     "text": [
      "/Applications/anaconda3/envs/NWB-dev/lib/python3.11/site-packages/hdmf/spec/namespace.py:531: UserWarning: Ignoring cached namespace 'hdmf-common' version 1.7.0 because version 1.8.0 is already loaded.\n",
      "  warn(\"Ignoring cached namespace '%s' version %s because version %s is already loaded.\"\n",
      "/Applications/anaconda3/envs/NWB-dev/lib/python3.11/site-packages/hdmf/spec/namespace.py:531: UserWarning: Ignoring cached namespace 'hdmf-experimental' version 0.4.0 because version 0.5.0 is already loaded.\n",
      "  warn(\"Ignoring cached namespace '%s' version %s because version %s is already loaded.\"\n",
      "/Applications/anaconda3/envs/NWB-dev/lib/python3.11/site-packages/hdmf/spec/namespace.py:531: UserWarning: Ignoring cached namespace 'ndx-multichannel-volume' version 0.1.7 because version 0.1.9 is already loaded.\n",
      "  warn(\"Ignoring cached namespace '%s' version %s because version %s is already loaded.\"\n"
     ]
    },
    {
     "name": "stdout",
     "output_type": "stream",
     "text": [
      "20190924_03.nwb\n"
     ]
    },
    {
     "name": "stderr",
     "output_type": "stream",
     "text": [
      "/Applications/anaconda3/envs/NWB-dev/lib/python3.11/site-packages/hdmf/spec/namespace.py:531: UserWarning: Ignoring cached namespace 'hdmf-common' version 1.7.0 because version 1.8.0 is already loaded.\n",
      "  warn(\"Ignoring cached namespace '%s' version %s because version %s is already loaded.\"\n",
      "/Applications/anaconda3/envs/NWB-dev/lib/python3.11/site-packages/hdmf/spec/namespace.py:531: UserWarning: Ignoring cached namespace 'hdmf-experimental' version 0.4.0 because version 0.5.0 is already loaded.\n",
      "  warn(\"Ignoring cached namespace '%s' version %s because version %s is already loaded.\"\n",
      "/Applications/anaconda3/envs/NWB-dev/lib/python3.11/site-packages/hdmf/spec/namespace.py:531: UserWarning: Ignoring cached namespace 'ndx-multichannel-volume' version 0.1.7 because version 0.1.9 is already loaded.\n",
      "  warn(\"Ignoring cached namespace '%s' version %s because version %s is already loaded.\"\n"
     ]
    },
    {
     "name": "stdout",
     "output_type": "stream",
     "text": [
      "20190924_02.nwb\n"
     ]
    },
    {
     "name": "stderr",
     "output_type": "stream",
     "text": [
      "/Applications/anaconda3/envs/NWB-dev/lib/python3.11/site-packages/hdmf/spec/namespace.py:531: UserWarning: Ignoring cached namespace 'hdmf-common' version 1.7.0 because version 1.8.0 is already loaded.\n",
      "  warn(\"Ignoring cached namespace '%s' version %s because version %s is already loaded.\"\n",
      "/Applications/anaconda3/envs/NWB-dev/lib/python3.11/site-packages/hdmf/spec/namespace.py:531: UserWarning: Ignoring cached namespace 'hdmf-experimental' version 0.4.0 because version 0.5.0 is already loaded.\n",
      "  warn(\"Ignoring cached namespace '%s' version %s because version %s is already loaded.\"\n",
      "/Applications/anaconda3/envs/NWB-dev/lib/python3.11/site-packages/hdmf/spec/namespace.py:531: UserWarning: Ignoring cached namespace 'ndx-multichannel-volume' version 0.1.7 because version 0.1.9 is already loaded.\n",
      "  warn(\"Ignoring cached namespace '%s' version %s because version %s is already loaded.\"\n"
     ]
    },
    {
     "name": "stdout",
     "output_type": "stream",
     "text": [
      "20190928_13.nwb\n"
     ]
    },
    {
     "name": "stderr",
     "output_type": "stream",
     "text": [
      "/Applications/anaconda3/envs/NWB-dev/lib/python3.11/site-packages/hdmf/spec/namespace.py:531: UserWarning: Ignoring cached namespace 'hdmf-common' version 1.7.0 because version 1.8.0 is already loaded.\n",
      "  warn(\"Ignoring cached namespace '%s' version %s because version %s is already loaded.\"\n",
      "/Applications/anaconda3/envs/NWB-dev/lib/python3.11/site-packages/hdmf/spec/namespace.py:531: UserWarning: Ignoring cached namespace 'hdmf-experimental' version 0.4.0 because version 0.5.0 is already loaded.\n",
      "  warn(\"Ignoring cached namespace '%s' version %s because version %s is already loaded.\"\n",
      "/Applications/anaconda3/envs/NWB-dev/lib/python3.11/site-packages/hdmf/spec/namespace.py:531: UserWarning: Ignoring cached namespace 'ndx-multichannel-volume' version 0.1.7 because version 0.1.9 is already loaded.\n",
      "  warn(\"Ignoring cached namespace '%s' version %s because version %s is already loaded.\"\n"
     ]
    },
    {
     "name": "stdout",
     "output_type": "stream",
     "text": [
      "20190928_07.nwb\n"
     ]
    },
    {
     "name": "stderr",
     "output_type": "stream",
     "text": [
      "/Applications/anaconda3/envs/NWB-dev/lib/python3.11/site-packages/hdmf/spec/namespace.py:531: UserWarning: Ignoring cached namespace 'hdmf-common' version 1.7.0 because version 1.8.0 is already loaded.\n",
      "  warn(\"Ignoring cached namespace '%s' version %s because version %s is already loaded.\"\n",
      "/Applications/anaconda3/envs/NWB-dev/lib/python3.11/site-packages/hdmf/spec/namespace.py:531: UserWarning: Ignoring cached namespace 'hdmf-experimental' version 0.4.0 because version 0.5.0 is already loaded.\n",
      "  warn(\"Ignoring cached namespace '%s' version %s because version %s is already loaded.\"\n",
      "/Applications/anaconda3/envs/NWB-dev/lib/python3.11/site-packages/hdmf/spec/namespace.py:531: UserWarning: Ignoring cached namespace 'ndx-multichannel-volume' version 0.1.7 because version 0.1.9 is already loaded.\n",
      "  warn(\"Ignoring cached namespace '%s' version %s because version %s is already loaded.\"\n"
     ]
    },
    {
     "name": "stdout",
     "output_type": "stream",
     "text": [
      "20190928_11.nwb\n"
     ]
    },
    {
     "name": "stderr",
     "output_type": "stream",
     "text": [
      "/Applications/anaconda3/envs/NWB-dev/lib/python3.11/site-packages/hdmf/spec/namespace.py:531: UserWarning: Ignoring cached namespace 'hdmf-common' version 1.7.0 because version 1.8.0 is already loaded.\n",
      "  warn(\"Ignoring cached namespace '%s' version %s because version %s is already loaded.\"\n",
      "/Applications/anaconda3/envs/NWB-dev/lib/python3.11/site-packages/hdmf/spec/namespace.py:531: UserWarning: Ignoring cached namespace 'hdmf-experimental' version 0.4.0 because version 0.5.0 is already loaded.\n",
      "  warn(\"Ignoring cached namespace '%s' version %s because version %s is already loaded.\"\n",
      "/Applications/anaconda3/envs/NWB-dev/lib/python3.11/site-packages/hdmf/spec/namespace.py:531: UserWarning: Ignoring cached namespace 'ndx-multichannel-volume' version 0.1.7 because version 0.1.9 is already loaded.\n",
      "  warn(\"Ignoring cached namespace '%s' version %s because version %s is already loaded.\"\n"
     ]
    },
    {
     "name": "stdout",
     "output_type": "stream",
     "text": [
      "20190928_05.nwb\n"
     ]
    },
    {
     "name": "stderr",
     "output_type": "stream",
     "text": [
      "/Applications/anaconda3/envs/NWB-dev/lib/python3.11/site-packages/hdmf/spec/namespace.py:531: UserWarning: Ignoring cached namespace 'hdmf-common' version 1.7.0 because version 1.8.0 is already loaded.\n",
      "  warn(\"Ignoring cached namespace '%s' version %s because version %s is already loaded.\"\n",
      "/Applications/anaconda3/envs/NWB-dev/lib/python3.11/site-packages/hdmf/spec/namespace.py:531: UserWarning: Ignoring cached namespace 'hdmf-experimental' version 0.4.0 because version 0.5.0 is already loaded.\n",
      "  warn(\"Ignoring cached namespace '%s' version %s because version %s is already loaded.\"\n",
      "/Applications/anaconda3/envs/NWB-dev/lib/python3.11/site-packages/hdmf/spec/namespace.py:531: UserWarning: Ignoring cached namespace 'ndx-multichannel-volume' version 0.1.7 because version 0.1.9 is already loaded.\n",
      "  warn(\"Ignoring cached namespace '%s' version %s because version %s is already loaded.\"\n"
     ]
    }
   ],
   "source": [
    "foco_rgb, foco_colors = get_color_stats('/Users/danielysprague/foco_lab/data/NWB_Ray')\n",
    "yem_rgb, yem_colors = get_color_stats('/Users/danielysprague/foco_lab/data/Yemini_NWB')\n",
    "foco_og_rgb, foco_og_colors = get_color_stats('/Users/danielysprague/foco_lab/data/')\n"
   ]
  },
  {
   "cell_type": "code",
   "execution_count": 29,
   "metadata": {},
   "outputs": [
    {
     "data": {
      "image/png": "[encoded data removed]",
      "text/plain": [
       "<Figure size 640x480 with 3 Axes>"
      ]
     },
     "metadata": {},
     "output_type": "display_data"
    }
   ],
   "source": [
    "def plot_histograms(dataset_rgbs, labels):\n",
    "\n",
    "    sns.set(style=\"white\")\n",
    "    fig, axs = plt.subplots(1,3, sharey=True)\n",
    "\n",
    "    # Plot the bars using Matplotlib\n",
    "\n",
    "    bin_edges = np.arange(32)/32\n",
    "\n",
    "    for i, ax in enumerate(axs):\n",
    "        #ax.hist(im_flat[:,i], bins= np.arange(32)/32, color= 'red')\n",
    "        for j, dataset in enumerate(dataset_rgbs):\n",
    "            ax.bar(bin_edges[:], dataset[:,i], alpha=0.5, align='center', width=1/32, color=sns.color_palette(\"pastel\")[j], log=True, label=labels[j])\n",
    "            #ax.bar(bin_edges[:], yem_rgb[:,0], alpha=0.5, align='center', width=1/32, color=sns.color_palette(\"pastel\")[1], log=True, label='Yemini')\n",
    "        ax.legend()\n",
    "        #sns.histplot(ax=ax, data=np.ones(32),weights=np.transpose(foco_rgb[:,i]), bins= np.arange(32)/32, alpha=0.3, stat = 'probability', log_scale=(False,True), label='FOCO')\n",
    "        #sns.histplot(ax=ax, data=np.ones(32),weights=np.transpose(yem_rgb[:,i]), bins=np.arange(32)/32, alpha=0.3, stat = 'probability',log_scale=(False,True), label='Yemini')\n",
    "\n",
    "    axs[0].set_title('Red histogram')\n",
    "    axs[0].set_xlabel('Normalized color')\n",
    "    axs[0].set_ylabel('log probability')\n",
    "    axs[1].set_title('Green histogram')\n",
    "    axs[1].set_xlabel('Normalized color')\n",
    "    axs[2].set_title('Blue histogram')\n",
    "    axs[2].set_xlabel('Normalized color')\n",
    "\n",
    "    plt.tight_layout()\n",
    "    plt.show()\n",
    "\n",
    "plot_histograms([foco_rgb, yem_rgb], ['FOCO', 'Yemini'])"
   ]
  },
  {
   "cell_type": "code",
   "execution_count": 30,
   "metadata": {},
   "outputs": [
    {
     "name": "stdout",
     "output_type": "stream",
     "text": [
      "20230412-20-15-17.nwb\n"
     ]
    },
    {
     "name": "stderr",
     "output_type": "stream",
     "text": [
      "/Applications/anaconda3/envs/NWB-dev/lib/python3.11/site-packages/hdmf/spec/namespace.py:531: UserWarning: Ignoring cached namespace 'hdmf-common' version 1.7.0 because version 1.8.0 is already loaded.\n",
      "  warn(\"Ignoring cached namespace '%s' version %s because version %s is already loaded.\"\n",
      "/Applications/anaconda3/envs/NWB-dev/lib/python3.11/site-packages/hdmf/spec/namespace.py:531: UserWarning: Ignoring cached namespace 'hdmf-experimental' version 0.4.0 because version 0.5.0 is already loaded.\n",
      "  warn(\"Ignoring cached namespace '%s' version %s because version %s is already loaded.\"\n",
      "/Applications/anaconda3/envs/NWB-dev/lib/python3.11/site-packages/hdmf/spec/namespace.py:531: UserWarning: Ignoring cached namespace 'ndx-multichannel-volume' version 0.1.7 because version 0.1.9 is already loaded.\n",
      "  warn(\"Ignoring cached namespace '%s' version %s because version %s is already loaded.\"\n"
     ]
    },
    {
     "name": "stdout",
     "output_type": "stream",
     "text": [
      "20230506-14-24-57.nwb\n"
     ]
    },
    {
     "name": "stderr",
     "output_type": "stream",
     "text": [
      "/Applications/anaconda3/envs/NWB-dev/lib/python3.11/site-packages/hdmf/spec/namespace.py:531: UserWarning: Ignoring cached namespace 'hdmf-common' version 1.7.0 because version 1.8.0 is already loaded.\n",
      "  warn(\"Ignoring cached namespace '%s' version %s because version %s is already loaded.\"\n",
      "/Applications/anaconda3/envs/NWB-dev/lib/python3.11/site-packages/hdmf/spec/namespace.py:531: UserWarning: Ignoring cached namespace 'hdmf-experimental' version 0.4.0 because version 0.5.0 is already loaded.\n",
      "  warn(\"Ignoring cached namespace '%s' version %s because version %s is already loaded.\"\n",
      "/Applications/anaconda3/envs/NWB-dev/lib/python3.11/site-packages/hdmf/spec/namespace.py:531: UserWarning: Ignoring cached namespace 'ndx-multichannel-volume' version 0.1.7 because version 0.1.9 is already loaded.\n",
      "  warn(\"Ignoring cached namespace '%s' version %s because version %s is already loaded.\"\n"
     ]
    },
    {
     "name": "stdout",
     "output_type": "stream",
     "text": [
      "20230510-13-25-46.nwb\n"
     ]
    },
    {
     "name": "stderr",
     "output_type": "stream",
     "text": [
      "/Applications/anaconda3/envs/NWB-dev/lib/python3.11/site-packages/hdmf/spec/namespace.py:531: UserWarning: Ignoring cached namespace 'hdmf-common' version 1.7.0 because version 1.8.0 is already loaded.\n",
      "  warn(\"Ignoring cached namespace '%s' version %s because version %s is already loaded.\"\n",
      "/Applications/anaconda3/envs/NWB-dev/lib/python3.11/site-packages/hdmf/spec/namespace.py:531: UserWarning: Ignoring cached namespace 'hdmf-experimental' version 0.4.0 because version 0.5.0 is already loaded.\n",
      "  warn(\"Ignoring cached namespace '%s' version %s because version %s is already loaded.\"\n",
      "/Applications/anaconda3/envs/NWB-dev/lib/python3.11/site-packages/hdmf/spec/namespace.py:531: UserWarning: Ignoring cached namespace 'ndx-multichannel-volume' version 0.1.7 because version 0.1.9 is already loaded.\n",
      "  warn(\"Ignoring cached namespace '%s' version %s because version %s is already loaded.\"\n"
     ]
    },
    {
     "name": "stdout",
     "output_type": "stream",
     "text": [
      "20230322-22-43-03.nwb\n"
     ]
    },
    {
     "name": "stderr",
     "output_type": "stream",
     "text": [
      "/Applications/anaconda3/envs/NWB-dev/lib/python3.11/site-packages/hdmf/spec/namespace.py:531: UserWarning: Ignoring cached namespace 'hdmf-common' version 1.7.0 because version 1.8.0 is already loaded.\n",
      "  warn(\"Ignoring cached namespace '%s' version %s because version %s is already loaded.\"\n",
      "/Applications/anaconda3/envs/NWB-dev/lib/python3.11/site-packages/hdmf/spec/namespace.py:531: UserWarning: Ignoring cached namespace 'hdmf-experimental' version 0.4.0 because version 0.5.0 is already loaded.\n",
      "  warn(\"Ignoring cached namespace '%s' version %s because version %s is already loaded.\"\n",
      "/Applications/anaconda3/envs/NWB-dev/lib/python3.11/site-packages/hdmf/spec/namespace.py:531: UserWarning: Ignoring cached namespace 'ndx-multichannel-volume' version 0.1.7 because version 0.1.9 is already loaded.\n",
      "  warn(\"Ignoring cached namespace '%s' version %s because version %s is already loaded.\"\n"
     ]
    },
    {
     "name": "stdout",
     "output_type": "stream",
     "text": [
      "20221106-21-47-31.nwb\n"
     ]
    },
    {
     "name": "stderr",
     "output_type": "stream",
     "text": [
      "/Applications/anaconda3/envs/NWB-dev/lib/python3.11/site-packages/hdmf/spec/namespace.py:531: UserWarning: Ignoring cached namespace 'hdmf-common' version 1.7.0 because version 1.8.0 is already loaded.\n",
      "  warn(\"Ignoring cached namespace '%s' version %s because version %s is already loaded.\"\n",
      "/Applications/anaconda3/envs/NWB-dev/lib/python3.11/site-packages/hdmf/spec/namespace.py:531: UserWarning: Ignoring cached namespace 'hdmf-experimental' version 0.4.0 because version 0.5.0 is already loaded.\n",
      "  warn(\"Ignoring cached namespace '%s' version %s because version %s is already loaded.\"\n",
      "/Applications/anaconda3/envs/NWB-dev/lib/python3.11/site-packages/hdmf/spec/namespace.py:531: UserWarning: Ignoring cached namespace 'ndx-multichannel-volume' version 0.1.7 because version 0.1.9 is already loaded.\n",
      "  warn(\"Ignoring cached namespace '%s' version %s because version %s is already loaded.\"\n"
     ]
    },
    {
     "name": "stdout",
     "output_type": "stream",
     "text": [
      "20230506-12-56-00.nwb\n"
     ]
    },
    {
     "name": "stderr",
     "output_type": "stream",
     "text": [
      "/Applications/anaconda3/envs/NWB-dev/lib/python3.11/site-packages/hdmf/spec/namespace.py:531: UserWarning: Ignoring cached namespace 'hdmf-common' version 1.7.0 because version 1.8.0 is already loaded.\n",
      "  warn(\"Ignoring cached namespace '%s' version %s because version %s is already loaded.\"\n",
      "/Applications/anaconda3/envs/NWB-dev/lib/python3.11/site-packages/hdmf/spec/namespace.py:531: UserWarning: Ignoring cached namespace 'hdmf-experimental' version 0.4.0 because version 0.5.0 is already loaded.\n",
      "  warn(\"Ignoring cached namespace '%s' version %s because version %s is already loaded.\"\n",
      "/Applications/anaconda3/envs/NWB-dev/lib/python3.11/site-packages/hdmf/spec/namespace.py:531: UserWarning: Ignoring cached namespace 'ndx-multichannel-volume' version 0.1.7 because version 0.1.9 is already loaded.\n",
      "  warn(\"Ignoring cached namespace '%s' version %s because version %s is already loaded.\"\n"
     ]
    },
    {
     "name": "stdout",
     "output_type": "stream",
     "text": [
      "20221106-21-00-09.nwb\n"
     ]
    },
    {
     "name": "stderr",
     "output_type": "stream",
     "text": [
      "/Applications/anaconda3/envs/NWB-dev/lib/python3.11/site-packages/hdmf/spec/namespace.py:531: UserWarning: Ignoring cached namespace 'hdmf-common' version 1.7.0 because version 1.8.0 is already loaded.\n",
      "  warn(\"Ignoring cached namespace '%s' version %s because version %s is already loaded.\"\n",
      "/Applications/anaconda3/envs/NWB-dev/lib/python3.11/site-packages/hdmf/spec/namespace.py:531: UserWarning: Ignoring cached namespace 'hdmf-experimental' version 0.4.0 because version 0.5.0 is already loaded.\n",
      "  warn(\"Ignoring cached namespace '%s' version %s because version %s is already loaded.\"\n",
      "/Applications/anaconda3/envs/NWB-dev/lib/python3.11/site-packages/hdmf/spec/namespace.py:531: UserWarning: Ignoring cached namespace 'ndx-multichannel-volume' version 0.1.7 because version 0.1.9 is already loaded.\n",
      "  warn(\"Ignoring cached namespace '%s' version %s because version %s is already loaded.\"\n"
     ]
    },
    {
     "name": "stdout",
     "output_type": "stream",
     "text": [
      "20230322-20-16-50.nwb\n"
     ]
    },
    {
     "name": "stderr",
     "output_type": "stream",
     "text": [
      "/Applications/anaconda3/envs/NWB-dev/lib/python3.11/site-packages/hdmf/spec/namespace.py:531: UserWarning: Ignoring cached namespace 'hdmf-common' version 1.7.0 because version 1.8.0 is already loaded.\n",
      "  warn(\"Ignoring cached namespace '%s' version %s because version %s is already loaded.\"\n",
      "/Applications/anaconda3/envs/NWB-dev/lib/python3.11/site-packages/hdmf/spec/namespace.py:531: UserWarning: Ignoring cached namespace 'hdmf-experimental' version 0.4.0 because version 0.5.0 is already loaded.\n",
      "  warn(\"Ignoring cached namespace '%s' version %s because version %s is already loaded.\"\n",
      "/Applications/anaconda3/envs/NWB-dev/lib/python3.11/site-packages/hdmf/spec/namespace.py:531: UserWarning: Ignoring cached namespace 'ndx-multichannel-volume' version 0.1.7 because version 0.1.9 is already loaded.\n",
      "  warn(\"Ignoring cached namespace '%s' version %s because version %s is already loaded.\"\n"
     ]
    },
    {
     "name": "stdout",
     "output_type": "stream",
     "text": [
      "20221028-18-48-00.nwb\n"
     ]
    },
    {
     "name": "stderr",
     "output_type": "stream",
     "text": [
      "/Applications/anaconda3/envs/NWB-dev/lib/python3.11/site-packages/hdmf/spec/namespace.py:531: UserWarning: Ignoring cached namespace 'hdmf-common' version 1.7.0 because version 1.8.0 is already loaded.\n",
      "  warn(\"Ignoring cached namespace '%s' version %s because version %s is already loaded.\"\n",
      "/Applications/anaconda3/envs/NWB-dev/lib/python3.11/site-packages/hdmf/spec/namespace.py:531: UserWarning: Ignoring cached namespace 'hdmf-experimental' version 0.4.0 because version 0.5.0 is already loaded.\n",
      "  warn(\"Ignoring cached namespace '%s' version %s because version %s is already loaded.\"\n",
      "/Applications/anaconda3/envs/NWB-dev/lib/python3.11/site-packages/hdmf/spec/namespace.py:531: UserWarning: Ignoring cached namespace 'ndx-multichannel-volume' version 0.1.7 because version 0.1.9 is already loaded.\n",
      "  warn(\"Ignoring cached namespace '%s' version %s because version %s is already loaded.\"\n"
     ]
    },
    {
     "name": "stdout",
     "output_type": "stream",
     "text": [
      "20230506-13-32-08.nwb\n"
     ]
    },
    {
     "name": "stderr",
     "output_type": "stream",
     "text": [
      "/Applications/anaconda3/envs/NWB-dev/lib/python3.11/site-packages/hdmf/spec/namespace.py:531: UserWarning: Ignoring cached namespace 'hdmf-common' version 1.7.0 because version 1.8.0 is already loaded.\n",
      "  warn(\"Ignoring cached namespace '%s' version %s because version %s is already loaded.\"\n",
      "/Applications/anaconda3/envs/NWB-dev/lib/python3.11/site-packages/hdmf/spec/namespace.py:531: UserWarning: Ignoring cached namespace 'hdmf-experimental' version 0.4.0 because version 0.5.0 is already loaded.\n",
      "  warn(\"Ignoring cached namespace '%s' version %s because version %s is already loaded.\"\n",
      "/Applications/anaconda3/envs/NWB-dev/lib/python3.11/site-packages/hdmf/spec/namespace.py:531: UserWarning: Ignoring cached namespace 'ndx-multichannel-volume' version 0.1.7 because version 0.1.9 is already loaded.\n",
      "  warn(\"Ignoring cached namespace '%s' version %s because version %s is already loaded.\"\n"
     ]
    },
    {
     "name": "stdout",
     "output_type": "stream",
     "text": [
      "20230510-16-36-46.nwb\n"
     ]
    },
    {
     "name": "stderr",
     "output_type": "stream",
     "text": [
      "/Applications/anaconda3/envs/NWB-dev/lib/python3.11/site-packages/hdmf/spec/namespace.py:531: UserWarning: Ignoring cached namespace 'hdmf-common' version 1.7.0 because version 1.8.0 is already loaded.\n",
      "  warn(\"Ignoring cached namespace '%s' version %s because version %s is already loaded.\"\n",
      "/Applications/anaconda3/envs/NWB-dev/lib/python3.11/site-packages/hdmf/spec/namespace.py:531: UserWarning: Ignoring cached namespace 'hdmf-experimental' version 0.4.0 because version 0.5.0 is already loaded.\n",
      "  warn(\"Ignoring cached namespace '%s' version %s because version %s is already loaded.\"\n",
      "/Applications/anaconda3/envs/NWB-dev/lib/python3.11/site-packages/hdmf/spec/namespace.py:531: UserWarning: Ignoring cached namespace 'ndx-multichannel-volume' version 0.1.7 because version 0.1.9 is already loaded.\n",
      "  warn(\"Ignoring cached namespace '%s' version %s because version %s is already loaded.\"\n"
     ]
    },
    {
     "name": "stdout",
     "output_type": "stream",
     "text": [
      "20230506-15-33-51.nwb\n"
     ]
    },
    {
     "name": "stderr",
     "output_type": "stream",
     "text": [
      "/Applications/anaconda3/envs/NWB-dev/lib/python3.11/site-packages/hdmf/spec/namespace.py:531: UserWarning: Ignoring cached namespace 'hdmf-common' version 1.7.0 because version 1.8.0 is already loaded.\n",
      "  warn(\"Ignoring cached namespace '%s' version %s because version %s is already loaded.\"\n",
      "/Applications/anaconda3/envs/NWB-dev/lib/python3.11/site-packages/hdmf/spec/namespace.py:531: UserWarning: Ignoring cached namespace 'hdmf-experimental' version 0.4.0 because version 0.5.0 is already loaded.\n",
      "  warn(\"Ignoring cached namespace '%s' version %s because version %s is already loaded.\"\n",
      "/Applications/anaconda3/envs/NWB-dev/lib/python3.11/site-packages/hdmf/spec/namespace.py:531: UserWarning: Ignoring cached namespace 'ndx-multichannel-volume' version 0.1.7 because version 0.1.9 is already loaded.\n",
      "  warn(\"Ignoring cached namespace '%s' version %s because version %s is already loaded.\"\n"
     ]
    },
    {
     "name": "stdout",
     "output_type": "stream",
     "text": [
      "20230510-15-49-47.nwb\n"
     ]
    },
    {
     "name": "stderr",
     "output_type": "stream",
     "text": [
      "/Applications/anaconda3/envs/NWB-dev/lib/python3.11/site-packages/hdmf/spec/namespace.py:531: UserWarning: Ignoring cached namespace 'hdmf-common' version 1.7.0 because version 1.8.0 is already loaded.\n",
      "  warn(\"Ignoring cached namespace '%s' version %s because version %s is already loaded.\"\n",
      "/Applications/anaconda3/envs/NWB-dev/lib/python3.11/site-packages/hdmf/spec/namespace.py:531: UserWarning: Ignoring cached namespace 'hdmf-experimental' version 0.4.0 because version 0.5.0 is already loaded.\n",
      "  warn(\"Ignoring cached namespace '%s' version %s because version %s is already loaded.\"\n",
      "/Applications/anaconda3/envs/NWB-dev/lib/python3.11/site-packages/hdmf/spec/namespace.py:531: UserWarning: Ignoring cached namespace 'ndx-multichannel-volume' version 0.1.7 because version 0.1.9 is already loaded.\n",
      "  warn(\"Ignoring cached namespace '%s' version %s because version %s is already loaded.\"\n"
     ]
    },
    {
     "name": "stdout",
     "output_type": "stream",
     "text": [
      "20221215-20-02-49.nwb\n"
     ]
    },
    {
     "name": "stderr",
     "output_type": "stream",
     "text": [
      "/Applications/anaconda3/envs/NWB-dev/lib/python3.11/site-packages/hdmf/spec/namespace.py:531: UserWarning: Ignoring cached namespace 'hdmf-common' version 1.7.0 because version 1.8.0 is already loaded.\n",
      "  warn(\"Ignoring cached namespace '%s' version %s because version %s is already loaded.\"\n",
      "/Applications/anaconda3/envs/NWB-dev/lib/python3.11/site-packages/hdmf/spec/namespace.py:531: UserWarning: Ignoring cached namespace 'hdmf-experimental' version 0.4.0 because version 0.5.0 is already loaded.\n",
      "  warn(\"Ignoring cached namespace '%s' version %s because version %s is already loaded.\"\n",
      "/Applications/anaconda3/envs/NWB-dev/lib/python3.11/site-packages/hdmf/spec/namespace.py:531: UserWarning: Ignoring cached namespace 'ndx-multichannel-volume' version 0.1.7 because version 0.1.9 is already loaded.\n",
      "  warn(\"Ignoring cached namespace '%s' version %s because version %s is already loaded.\"\n"
     ]
    },
    {
     "name": "stdout",
     "output_type": "stream",
     "text": [
      "20230322-21-41-10.nwb\n"
     ]
    },
    {
     "name": "stderr",
     "output_type": "stream",
     "text": [
      "/Applications/anaconda3/envs/NWB-dev/lib/python3.11/site-packages/hdmf/spec/namespace.py:531: UserWarning: Ignoring cached namespace 'hdmf-common' version 1.7.0 because version 1.8.0 is already loaded.\n",
      "  warn(\"Ignoring cached namespace '%s' version %s because version %s is already loaded.\"\n",
      "/Applications/anaconda3/envs/NWB-dev/lib/python3.11/site-packages/hdmf/spec/namespace.py:531: UserWarning: Ignoring cached namespace 'hdmf-experimental' version 0.4.0 because version 0.5.0 is already loaded.\n",
      "  warn(\"Ignoring cached namespace '%s' version %s because version %s is already loaded.\"\n",
      "/Applications/anaconda3/envs/NWB-dev/lib/python3.11/site-packages/hdmf/spec/namespace.py:531: UserWarning: Ignoring cached namespace 'ndx-multichannel-volume' version 0.1.7 because version 0.1.9 is already loaded.\n",
      "  warn(\"Ignoring cached namespace '%s' version %s because version %s is already loaded.\"\n"
     ]
    },
    {
     "name": "stdout",
     "output_type": "stream",
     "text": [
      "20221106-21-23-19.nwb\n"
     ]
    },
    {
     "name": "stderr",
     "output_type": "stream",
     "text": [
      "/Applications/anaconda3/envs/NWB-dev/lib/python3.11/site-packages/hdmf/spec/namespace.py:531: UserWarning: Ignoring cached namespace 'hdmf-common' version 1.7.0 because version 1.8.0 is already loaded.\n",
      "  warn(\"Ignoring cached namespace '%s' version %s because version %s is already loaded.\"\n",
      "/Applications/anaconda3/envs/NWB-dev/lib/python3.11/site-packages/hdmf/spec/namespace.py:531: UserWarning: Ignoring cached namespace 'hdmf-experimental' version 0.4.0 because version 0.5.0 is already loaded.\n",
      "  warn(\"Ignoring cached namespace '%s' version %s because version %s is already loaded.\"\n",
      "/Applications/anaconda3/envs/NWB-dev/lib/python3.11/site-packages/hdmf/spec/namespace.py:531: UserWarning: Ignoring cached namespace 'ndx-multichannel-volume' version 0.1.7 because version 0.1.9 is already loaded.\n",
      "  warn(\"Ignoring cached namespace '%s' version %s because version %s is already loaded.\"\n"
     ]
    },
    {
     "name": "stdout",
     "output_type": "stream",
     "text": [
      "20230506-15-01-45.nwb\n"
     ]
    },
    {
     "name": "stderr",
     "output_type": "stream",
     "text": [
      "/Applications/anaconda3/envs/NWB-dev/lib/python3.11/site-packages/hdmf/spec/namespace.py:531: UserWarning: Ignoring cached namespace 'hdmf-common' version 1.7.0 because version 1.8.0 is already loaded.\n",
      "  warn(\"Ignoring cached namespace '%s' version %s because version %s is already loaded.\"\n",
      "/Applications/anaconda3/envs/NWB-dev/lib/python3.11/site-packages/hdmf/spec/namespace.py:531: UserWarning: Ignoring cached namespace 'hdmf-experimental' version 0.4.0 because version 0.5.0 is already loaded.\n",
      "  warn(\"Ignoring cached namespace '%s' version %s because version %s is already loaded.\"\n",
      "/Applications/anaconda3/envs/NWB-dev/lib/python3.11/site-packages/hdmf/spec/namespace.py:531: UserWarning: Ignoring cached namespace 'ndx-multichannel-volume' version 0.1.7 because version 0.1.9 is already loaded.\n",
      "  warn(\"Ignoring cached namespace '%s' version %s because version %s is already loaded.\"\n"
     ]
    },
    {
     "name": "stdout",
     "output_type": "stream",
     "text": [
      "20230510-12-53-34.nwb\n"
     ]
    },
    {
     "name": "stderr",
     "output_type": "stream",
     "text": [
      "/Applications/anaconda3/envs/NWB-dev/lib/python3.11/site-packages/hdmf/spec/namespace.py:531: UserWarning: Ignoring cached namespace 'hdmf-common' version 1.7.0 because version 1.8.0 is already loaded.\n",
      "  warn(\"Ignoring cached namespace '%s' version %s because version %s is already loaded.\"\n",
      "/Applications/anaconda3/envs/NWB-dev/lib/python3.11/site-packages/hdmf/spec/namespace.py:531: UserWarning: Ignoring cached namespace 'hdmf-experimental' version 0.4.0 because version 0.5.0 is already loaded.\n",
      "  warn(\"Ignoring cached namespace '%s' version %s because version %s is already loaded.\"\n",
      "/Applications/anaconda3/envs/NWB-dev/lib/python3.11/site-packages/hdmf/spec/namespace.py:531: UserWarning: Ignoring cached namespace 'ndx-multichannel-volume' version 0.1.7 because version 0.1.9 is already loaded.\n",
      "  warn(\"Ignoring cached namespace '%s' version %s because version %s is already loaded.\"\n"
     ]
    },
    {
     "name": "stdout",
     "output_type": "stream",
     "text": [
      "20221215-22-02-55.nwb\n"
     ]
    },
    {
     "name": "stderr",
     "output_type": "stream",
     "text": [
      "/Applications/anaconda3/envs/NWB-dev/lib/python3.11/site-packages/hdmf/spec/namespace.py:531: UserWarning: Ignoring cached namespace 'hdmf-common' version 1.7.0 because version 1.8.0 is already loaded.\n",
      "  warn(\"Ignoring cached namespace '%s' version %s because version %s is already loaded.\"\n",
      "/Applications/anaconda3/envs/NWB-dev/lib/python3.11/site-packages/hdmf/spec/namespace.py:531: UserWarning: Ignoring cached namespace 'hdmf-experimental' version 0.4.0 because version 0.5.0 is already loaded.\n",
      "  warn(\"Ignoring cached namespace '%s' version %s because version %s is already loaded.\"\n",
      "/Applications/anaconda3/envs/NWB-dev/lib/python3.11/site-packages/hdmf/spec/namespace.py:531: UserWarning: Ignoring cached namespace 'ndx-multichannel-volume' version 0.1.7 because version 0.1.9 is already loaded.\n",
      "  warn(\"Ignoring cached namespace '%s' version %s because version %s is already loaded.\"\n"
     ]
    },
    {
     "name": "stdout",
     "output_type": "stream",
     "text": [
      "20230322-18-57-04.nwb\n"
     ]
    },
    {
     "name": "stderr",
     "output_type": "stream",
     "text": [
      "/Applications/anaconda3/envs/NWB-dev/lib/python3.11/site-packages/hdmf/spec/namespace.py:531: UserWarning: Ignoring cached namespace 'hdmf-common' version 1.7.0 because version 1.8.0 is already loaded.\n",
      "  warn(\"Ignoring cached namespace '%s' version %s because version %s is already loaded.\"\n",
      "/Applications/anaconda3/envs/NWB-dev/lib/python3.11/site-packages/hdmf/spec/namespace.py:531: UserWarning: Ignoring cached namespace 'hdmf-experimental' version 0.4.0 because version 0.5.0 is already loaded.\n",
      "  warn(\"Ignoring cached namespace '%s' version %s because version %s is already loaded.\"\n",
      "/Applications/anaconda3/envs/NWB-dev/lib/python3.11/site-packages/hdmf/spec/namespace.py:531: UserWarning: Ignoring cached namespace 'ndx-multichannel-volume' version 0.1.7 because version 0.1.9 is already loaded.\n",
      "  warn(\"Ignoring cached namespace '%s' version %s because version %s is already loaded.\"\n"
     ]
    },
    {
     "name": "stdout",
     "output_type": "stream",
     "text": [
      "20190928_08.nwb\n"
     ]
    },
    {
     "name": "stderr",
     "output_type": "stream",
     "text": [
      "/Applications/anaconda3/envs/NWB-dev/lib/python3.11/site-packages/hdmf/spec/namespace.py:531: UserWarning: Ignoring cached namespace 'hdmf-common' version 1.7.0 because version 1.8.0 is already loaded.\n",
      "  warn(\"Ignoring cached namespace '%s' version %s because version %s is already loaded.\"\n",
      "/Applications/anaconda3/envs/NWB-dev/lib/python3.11/site-packages/hdmf/spec/namespace.py:531: UserWarning: Ignoring cached namespace 'hdmf-experimental' version 0.4.0 because version 0.5.0 is already loaded.\n",
      "  warn(\"Ignoring cached namespace '%s' version %s because version %s is already loaded.\"\n",
      "/Applications/anaconda3/envs/NWB-dev/lib/python3.11/site-packages/hdmf/spec/namespace.py:531: UserWarning: Ignoring cached namespace 'ndx-multichannel-volume' version 0.1.7 because version 0.1.9 is already loaded.\n",
      "  warn(\"Ignoring cached namespace '%s' version %s because version %s is already loaded.\"\n"
     ]
    },
    {
     "name": "stdout",
     "output_type": "stream",
     "text": [
      "20190929_02.nwb\n"
     ]
    },
    {
     "name": "stderr",
     "output_type": "stream",
     "text": [
      "/Applications/anaconda3/envs/NWB-dev/lib/python3.11/site-packages/hdmf/spec/namespace.py:531: UserWarning: Ignoring cached namespace 'hdmf-common' version 1.7.0 because version 1.8.0 is already loaded.\n",
      "  warn(\"Ignoring cached namespace '%s' version %s because version %s is already loaded.\"\n",
      "/Applications/anaconda3/envs/NWB-dev/lib/python3.11/site-packages/hdmf/spec/namespace.py:531: UserWarning: Ignoring cached namespace 'hdmf-experimental' version 0.4.0 because version 0.5.0 is already loaded.\n",
      "  warn(\"Ignoring cached namespace '%s' version %s because version %s is already loaded.\"\n",
      "/Applications/anaconda3/envs/NWB-dev/lib/python3.11/site-packages/hdmf/spec/namespace.py:531: UserWarning: Ignoring cached namespace 'ndx-multichannel-volume' version 0.1.7 because version 0.1.9 is already loaded.\n",
      "  warn(\"Ignoring cached namespace '%s' version %s because version %s is already loaded.\"\n"
     ]
    },
    {
     "name": "stdout",
     "output_type": "stream",
     "text": [
      "20190929_03.nwb\n"
     ]
    },
    {
     "name": "stderr",
     "output_type": "stream",
     "text": [
      "/Applications/anaconda3/envs/NWB-dev/lib/python3.11/site-packages/hdmf/spec/namespace.py:531: UserWarning: Ignoring cached namespace 'hdmf-common' version 1.7.0 because version 1.8.0 is already loaded.\n",
      "  warn(\"Ignoring cached namespace '%s' version %s because version %s is already loaded.\"\n",
      "/Applications/anaconda3/envs/NWB-dev/lib/python3.11/site-packages/hdmf/spec/namespace.py:531: UserWarning: Ignoring cached namespace 'hdmf-experimental' version 0.4.0 because version 0.5.0 is already loaded.\n",
      "  warn(\"Ignoring cached namespace '%s' version %s because version %s is already loaded.\"\n",
      "/Applications/anaconda3/envs/NWB-dev/lib/python3.11/site-packages/hdmf/spec/namespace.py:531: UserWarning: Ignoring cached namespace 'ndx-multichannel-volume' version 0.1.7 because version 0.1.9 is already loaded.\n",
      "  warn(\"Ignoring cached namespace '%s' version %s because version %s is already loaded.\"\n"
     ]
    },
    {
     "name": "stdout",
     "output_type": "stream",
     "text": [
      "20190925_01.nwb\n"
     ]
    },
    {
     "name": "stderr",
     "output_type": "stream",
     "text": [
      "/Applications/anaconda3/envs/NWB-dev/lib/python3.11/site-packages/hdmf/spec/namespace.py:531: UserWarning: Ignoring cached namespace 'hdmf-common' version 1.7.0 because version 1.8.0 is already loaded.\n",
      "  warn(\"Ignoring cached namespace '%s' version %s because version %s is already loaded.\"\n",
      "/Applications/anaconda3/envs/NWB-dev/lib/python3.11/site-packages/hdmf/spec/namespace.py:531: UserWarning: Ignoring cached namespace 'hdmf-experimental' version 0.4.0 because version 0.5.0 is already loaded.\n",
      "  warn(\"Ignoring cached namespace '%s' version %s because version %s is already loaded.\"\n",
      "/Applications/anaconda3/envs/NWB-dev/lib/python3.11/site-packages/hdmf/spec/namespace.py:531: UserWarning: Ignoring cached namespace 'ndx-multichannel-volume' version 0.1.7 because version 0.1.9 is already loaded.\n",
      "  warn(\"Ignoring cached namespace '%s' version %s because version %s is already loaded.\"\n"
     ]
    },
    {
     "name": "stdout",
     "output_type": "stream",
     "text": [
      "20191030_07.nwb\n"
     ]
    },
    {
     "name": "stderr",
     "output_type": "stream",
     "text": [
      "/Applications/anaconda3/envs/NWB-dev/lib/python3.11/site-packages/hdmf/spec/namespace.py:531: UserWarning: Ignoring cached namespace 'hdmf-common' version 1.7.0 because version 1.8.0 is already loaded.\n",
      "  warn(\"Ignoring cached namespace '%s' version %s because version %s is already loaded.\"\n",
      "/Applications/anaconda3/envs/NWB-dev/lib/python3.11/site-packages/hdmf/spec/namespace.py:531: UserWarning: Ignoring cached namespace 'hdmf-experimental' version 0.4.0 because version 0.5.0 is already loaded.\n",
      "  warn(\"Ignoring cached namespace '%s' version %s because version %s is already loaded.\"\n",
      "/Applications/anaconda3/envs/NWB-dev/lib/python3.11/site-packages/hdmf/spec/namespace.py:531: UserWarning: Ignoring cached namespace 'ndx-multichannel-volume' version 0.1.7 because version 0.1.9 is already loaded.\n",
      "  warn(\"Ignoring cached namespace '%s' version %s because version %s is already loaded.\"\n"
     ]
    },
    {
     "name": "stdout",
     "output_type": "stream",
     "text": [
      "20190925_04.nwb\n"
     ]
    },
    {
     "name": "stderr",
     "output_type": "stream",
     "text": [
      "/Applications/anaconda3/envs/NWB-dev/lib/python3.11/site-packages/hdmf/spec/namespace.py:531: UserWarning: Ignoring cached namespace 'hdmf-common' version 1.7.0 because version 1.8.0 is already loaded.\n",
      "  warn(\"Ignoring cached namespace '%s' version %s because version %s is already loaded.\"\n",
      "/Applications/anaconda3/envs/NWB-dev/lib/python3.11/site-packages/hdmf/spec/namespace.py:531: UserWarning: Ignoring cached namespace 'hdmf-experimental' version 0.4.0 because version 0.5.0 is already loaded.\n",
      "  warn(\"Ignoring cached namespace '%s' version %s because version %s is already loaded.\"\n",
      "/Applications/anaconda3/envs/NWB-dev/lib/python3.11/site-packages/hdmf/spec/namespace.py:531: UserWarning: Ignoring cached namespace 'ndx-multichannel-volume' version 0.1.7 because version 0.1.9 is already loaded.\n",
      "  warn(\"Ignoring cached namespace '%s' version %s because version %s is already loaded.\"\n"
     ]
    },
    {
     "name": "stdout",
     "output_type": "stream",
     "text": [
      "20191030_03.nwb\n"
     ]
    },
    {
     "name": "stderr",
     "output_type": "stream",
     "text": [
      "/Applications/anaconda3/envs/NWB-dev/lib/python3.11/site-packages/hdmf/spec/namespace.py:531: UserWarning: Ignoring cached namespace 'hdmf-common' version 1.7.0 because version 1.8.0 is already loaded.\n",
      "  warn(\"Ignoring cached namespace '%s' version %s because version %s is already loaded.\"\n",
      "/Applications/anaconda3/envs/NWB-dev/lib/python3.11/site-packages/hdmf/spec/namespace.py:531: UserWarning: Ignoring cached namespace 'hdmf-experimental' version 0.4.0 because version 0.5.0 is already loaded.\n",
      "  warn(\"Ignoring cached namespace '%s' version %s because version %s is already loaded.\"\n",
      "/Applications/anaconda3/envs/NWB-dev/lib/python3.11/site-packages/hdmf/spec/namespace.py:531: UserWarning: Ignoring cached namespace 'ndx-multichannel-volume' version 0.1.7 because version 0.1.9 is already loaded.\n",
      "  warn(\"Ignoring cached namespace '%s' version %s because version %s is already loaded.\"\n"
     ]
    },
    {
     "name": "stdout",
     "output_type": "stream",
     "text": [
      "20190929_05.nwb\n"
     ]
    },
    {
     "name": "stderr",
     "output_type": "stream",
     "text": [
      "/Applications/anaconda3/envs/NWB-dev/lib/python3.11/site-packages/hdmf/spec/namespace.py:531: UserWarning: Ignoring cached namespace 'hdmf-common' version 1.7.0 because version 1.8.0 is already loaded.\n",
      "  warn(\"Ignoring cached namespace '%s' version %s because version %s is already loaded.\"\n",
      "/Applications/anaconda3/envs/NWB-dev/lib/python3.11/site-packages/hdmf/spec/namespace.py:531: UserWarning: Ignoring cached namespace 'hdmf-experimental' version 0.4.0 because version 0.5.0 is already loaded.\n",
      "  warn(\"Ignoring cached namespace '%s' version %s because version %s is already loaded.\"\n",
      "/Applications/anaconda3/envs/NWB-dev/lib/python3.11/site-packages/hdmf/spec/namespace.py:531: UserWarning: Ignoring cached namespace 'ndx-multichannel-volume' version 0.1.7 because version 0.1.9 is already loaded.\n",
      "  warn(\"Ignoring cached namespace '%s' version %s because version %s is already loaded.\"\n"
     ]
    },
    {
     "name": "stdout",
     "output_type": "stream",
     "text": [
      "20190929_07.nwb\n"
     ]
    },
    {
     "name": "stderr",
     "output_type": "stream",
     "text": [
      "/Applications/anaconda3/envs/NWB-dev/lib/python3.11/site-packages/hdmf/spec/namespace.py:531: UserWarning: Ignoring cached namespace 'hdmf-common' version 1.7.0 because version 1.8.0 is already loaded.\n",
      "  warn(\"Ignoring cached namespace '%s' version %s because version %s is already loaded.\"\n",
      "/Applications/anaconda3/envs/NWB-dev/lib/python3.11/site-packages/hdmf/spec/namespace.py:531: UserWarning: Ignoring cached namespace 'hdmf-experimental' version 0.4.0 because version 0.5.0 is already loaded.\n",
      "  warn(\"Ignoring cached namespace '%s' version %s because version %s is already loaded.\"\n",
      "/Applications/anaconda3/envs/NWB-dev/lib/python3.11/site-packages/hdmf/spec/namespace.py:531: UserWarning: Ignoring cached namespace 'ndx-multichannel-volume' version 0.1.7 because version 0.1.9 is already loaded.\n",
      "  warn(\"Ignoring cached namespace '%s' version %s because version %s is already loaded.\"\n"
     ]
    },
    {
     "name": "stdout",
     "output_type": "stream",
     "text": [
      "20190929_06.nwb\n"
     ]
    },
    {
     "name": "stderr",
     "output_type": "stream",
     "text": [
      "/Applications/anaconda3/envs/NWB-dev/lib/python3.11/site-packages/hdmf/spec/namespace.py:531: UserWarning: Ignoring cached namespace 'hdmf-common' version 1.7.0 because version 1.8.0 is already loaded.\n",
      "  warn(\"Ignoring cached namespace '%s' version %s because version %s is already loaded.\"\n",
      "/Applications/anaconda3/envs/NWB-dev/lib/python3.11/site-packages/hdmf/spec/namespace.py:531: UserWarning: Ignoring cached namespace 'hdmf-experimental' version 0.4.0 because version 0.5.0 is already loaded.\n",
      "  warn(\"Ignoring cached namespace '%s' version %s because version %s is already loaded.\"\n",
      "/Applications/anaconda3/envs/NWB-dev/lib/python3.11/site-packages/hdmf/spec/namespace.py:531: UserWarning: Ignoring cached namespace 'ndx-multichannel-volume' version 0.1.7 because version 0.1.9 is already loaded.\n",
      "  warn(\"Ignoring cached namespace '%s' version %s because version %s is already loaded.\"\n"
     ]
    },
    {
     "name": "stdout",
     "output_type": "stream",
     "text": [
      "20191104_10.nwb\n"
     ]
    },
    {
     "name": "stderr",
     "output_type": "stream",
     "text": [
      "/Applications/anaconda3/envs/NWB-dev/lib/python3.11/site-packages/hdmf/spec/namespace.py:531: UserWarning: Ignoring cached namespace 'hdmf-common' version 1.7.0 because version 1.8.0 is already loaded.\n",
      "  warn(\"Ignoring cached namespace '%s' version %s because version %s is already loaded.\"\n",
      "/Applications/anaconda3/envs/NWB-dev/lib/python3.11/site-packages/hdmf/spec/namespace.py:531: UserWarning: Ignoring cached namespace 'hdmf-experimental' version 0.4.0 because version 0.5.0 is already loaded.\n",
      "  warn(\"Ignoring cached namespace '%s' version %s because version %s is already loaded.\"\n",
      "/Applications/anaconda3/envs/NWB-dev/lib/python3.11/site-packages/hdmf/spec/namespace.py:531: UserWarning: Ignoring cached namespace 'ndx-multichannel-volume' version 0.1.7 because version 0.1.9 is already loaded.\n",
      "  warn(\"Ignoring cached namespace '%s' version %s because version %s is already loaded.\"\n"
     ]
    },
    {
     "name": "stdout",
     "output_type": "stream",
     "text": [
      "20191104_08.nwb\n"
     ]
    },
    {
     "name": "stderr",
     "output_type": "stream",
     "text": [
      "/Applications/anaconda3/envs/NWB-dev/lib/python3.11/site-packages/hdmf/spec/namespace.py:531: UserWarning: Ignoring cached namespace 'hdmf-common' version 1.7.0 because version 1.8.0 is already loaded.\n",
      "  warn(\"Ignoring cached namespace '%s' version %s because version %s is already loaded.\"\n",
      "/Applications/anaconda3/envs/NWB-dev/lib/python3.11/site-packages/hdmf/spec/namespace.py:531: UserWarning: Ignoring cached namespace 'hdmf-experimental' version 0.4.0 because version 0.5.0 is already loaded.\n",
      "  warn(\"Ignoring cached namespace '%s' version %s because version %s is already loaded.\"\n",
      "/Applications/anaconda3/envs/NWB-dev/lib/python3.11/site-packages/hdmf/spec/namespace.py:531: UserWarning: Ignoring cached namespace 'ndx-multichannel-volume' version 0.1.7 because version 0.1.9 is already loaded.\n",
      "  warn(\"Ignoring cached namespace '%s' version %s because version %s is already loaded.\"\n"
     ]
    },
    {
     "name": "stdout",
     "output_type": "stream",
     "text": [
      "20190924_01.nwb\n"
     ]
    },
    {
     "name": "stderr",
     "output_type": "stream",
     "text": [
      "/Applications/anaconda3/envs/NWB-dev/lib/python3.11/site-packages/hdmf/spec/namespace.py:531: UserWarning: Ignoring cached namespace 'hdmf-common' version 1.7.0 because version 1.8.0 is already loaded.\n",
      "  warn(\"Ignoring cached namespace '%s' version %s because version %s is already loaded.\"\n",
      "/Applications/anaconda3/envs/NWB-dev/lib/python3.11/site-packages/hdmf/spec/namespace.py:531: UserWarning: Ignoring cached namespace 'hdmf-experimental' version 0.4.0 because version 0.5.0 is already loaded.\n",
      "  warn(\"Ignoring cached namespace '%s' version %s because version %s is already loaded.\"\n",
      "/Applications/anaconda3/envs/NWB-dev/lib/python3.11/site-packages/hdmf/spec/namespace.py:531: UserWarning: Ignoring cached namespace 'ndx-multichannel-volume' version 0.1.7 because version 0.1.9 is already loaded.\n",
      "  warn(\"Ignoring cached namespace '%s' version %s because version %s is already loaded.\"\n"
     ]
    },
    {
     "name": "stdout",
     "output_type": "stream",
     "text": [
      "20190928_01.nwb\n"
     ]
    },
    {
     "name": "stderr",
     "output_type": "stream",
     "text": [
      "/Applications/anaconda3/envs/NWB-dev/lib/python3.11/site-packages/hdmf/spec/namespace.py:531: UserWarning: Ignoring cached namespace 'hdmf-common' version 1.7.0 because version 1.8.0 is already loaded.\n",
      "  warn(\"Ignoring cached namespace '%s' version %s because version %s is already loaded.\"\n",
      "/Applications/anaconda3/envs/NWB-dev/lib/python3.11/site-packages/hdmf/spec/namespace.py:531: UserWarning: Ignoring cached namespace 'hdmf-experimental' version 0.4.0 because version 0.5.0 is already loaded.\n",
      "  warn(\"Ignoring cached namespace '%s' version %s because version %s is already loaded.\"\n",
      "/Applications/anaconda3/envs/NWB-dev/lib/python3.11/site-packages/hdmf/spec/namespace.py:531: UserWarning: Ignoring cached namespace 'ndx-multichannel-volume' version 0.1.7 because version 0.1.9 is already loaded.\n",
      "  warn(\"Ignoring cached namespace '%s' version %s because version %s is already loaded.\"\n"
     ]
    },
    {
     "name": "stdout",
     "output_type": "stream",
     "text": [
      "20190928_03.nwb\n"
     ]
    },
    {
     "name": "stderr",
     "output_type": "stream",
     "text": [
      "/Applications/anaconda3/envs/NWB-dev/lib/python3.11/site-packages/hdmf/spec/namespace.py:531: UserWarning: Ignoring cached namespace 'hdmf-common' version 1.7.0 because version 1.8.0 is already loaded.\n",
      "  warn(\"Ignoring cached namespace '%s' version %s because version %s is already loaded.\"\n",
      "/Applications/anaconda3/envs/NWB-dev/lib/python3.11/site-packages/hdmf/spec/namespace.py:531: UserWarning: Ignoring cached namespace 'hdmf-experimental' version 0.4.0 because version 0.5.0 is already loaded.\n",
      "  warn(\"Ignoring cached namespace '%s' version %s because version %s is already loaded.\"\n",
      "/Applications/anaconda3/envs/NWB-dev/lib/python3.11/site-packages/hdmf/spec/namespace.py:531: UserWarning: Ignoring cached namespace 'ndx-multichannel-volume' version 0.1.7 because version 0.1.9 is already loaded.\n",
      "  warn(\"Ignoring cached namespace '%s' version %s because version %s is already loaded.\"\n"
     ]
    },
    {
     "name": "stdout",
     "output_type": "stream",
     "text": [
      "20190924_03.nwb\n"
     ]
    },
    {
     "name": "stderr",
     "output_type": "stream",
     "text": [
      "/Applications/anaconda3/envs/NWB-dev/lib/python3.11/site-packages/hdmf/spec/namespace.py:531: UserWarning: Ignoring cached namespace 'hdmf-common' version 1.7.0 because version 1.8.0 is already loaded.\n",
      "  warn(\"Ignoring cached namespace '%s' version %s because version %s is already loaded.\"\n",
      "/Applications/anaconda3/envs/NWB-dev/lib/python3.11/site-packages/hdmf/spec/namespace.py:531: UserWarning: Ignoring cached namespace 'hdmf-experimental' version 0.4.0 because version 0.5.0 is already loaded.\n",
      "  warn(\"Ignoring cached namespace '%s' version %s because version %s is already loaded.\"\n",
      "/Applications/anaconda3/envs/NWB-dev/lib/python3.11/site-packages/hdmf/spec/namespace.py:531: UserWarning: Ignoring cached namespace 'ndx-multichannel-volume' version 0.1.7 because version 0.1.9 is already loaded.\n",
      "  warn(\"Ignoring cached namespace '%s' version %s because version %s is already loaded.\"\n"
     ]
    },
    {
     "name": "stdout",
     "output_type": "stream",
     "text": [
      "20190924_02.nwb\n"
     ]
    },
    {
     "name": "stderr",
     "output_type": "stream",
     "text": [
      "/Applications/anaconda3/envs/NWB-dev/lib/python3.11/site-packages/hdmf/spec/namespace.py:531: UserWarning: Ignoring cached namespace 'hdmf-common' version 1.7.0 because version 1.8.0 is already loaded.\n",
      "  warn(\"Ignoring cached namespace '%s' version %s because version %s is already loaded.\"\n",
      "/Applications/anaconda3/envs/NWB-dev/lib/python3.11/site-packages/hdmf/spec/namespace.py:531: UserWarning: Ignoring cached namespace 'hdmf-experimental' version 0.4.0 because version 0.5.0 is already loaded.\n",
      "  warn(\"Ignoring cached namespace '%s' version %s because version %s is already loaded.\"\n",
      "/Applications/anaconda3/envs/NWB-dev/lib/python3.11/site-packages/hdmf/spec/namespace.py:531: UserWarning: Ignoring cached namespace 'ndx-multichannel-volume' version 0.1.7 because version 0.1.9 is already loaded.\n",
      "  warn(\"Ignoring cached namespace '%s' version %s because version %s is already loaded.\"\n"
     ]
    },
    {
     "name": "stdout",
     "output_type": "stream",
     "text": [
      "20190928_13.nwb\n"
     ]
    },
    {
     "name": "stderr",
     "output_type": "stream",
     "text": [
      "/Applications/anaconda3/envs/NWB-dev/lib/python3.11/site-packages/hdmf/spec/namespace.py:531: UserWarning: Ignoring cached namespace 'hdmf-common' version 1.7.0 because version 1.8.0 is already loaded.\n",
      "  warn(\"Ignoring cached namespace '%s' version %s because version %s is already loaded.\"\n",
      "/Applications/anaconda3/envs/NWB-dev/lib/python3.11/site-packages/hdmf/spec/namespace.py:531: UserWarning: Ignoring cached namespace 'hdmf-experimental' version 0.4.0 because version 0.5.0 is already loaded.\n",
      "  warn(\"Ignoring cached namespace '%s' version %s because version %s is already loaded.\"\n",
      "/Applications/anaconda3/envs/NWB-dev/lib/python3.11/site-packages/hdmf/spec/namespace.py:531: UserWarning: Ignoring cached namespace 'ndx-multichannel-volume' version 0.1.7 because version 0.1.9 is already loaded.\n",
      "  warn(\"Ignoring cached namespace '%s' version %s because version %s is already loaded.\"\n"
     ]
    },
    {
     "name": "stdout",
     "output_type": "stream",
     "text": [
      "20190928_07.nwb\n"
     ]
    },
    {
     "name": "stderr",
     "output_type": "stream",
     "text": [
      "/Applications/anaconda3/envs/NWB-dev/lib/python3.11/site-packages/hdmf/spec/namespace.py:531: UserWarning: Ignoring cached namespace 'hdmf-common' version 1.7.0 because version 1.8.0 is already loaded.\n",
      "  warn(\"Ignoring cached namespace '%s' version %s because version %s is already loaded.\"\n",
      "/Applications/anaconda3/envs/NWB-dev/lib/python3.11/site-packages/hdmf/spec/namespace.py:531: UserWarning: Ignoring cached namespace 'hdmf-experimental' version 0.4.0 because version 0.5.0 is already loaded.\n",
      "  warn(\"Ignoring cached namespace '%s' version %s because version %s is already loaded.\"\n",
      "/Applications/anaconda3/envs/NWB-dev/lib/python3.11/site-packages/hdmf/spec/namespace.py:531: UserWarning: Ignoring cached namespace 'ndx-multichannel-volume' version 0.1.7 because version 0.1.9 is already loaded.\n",
      "  warn(\"Ignoring cached namespace '%s' version %s because version %s is already loaded.\"\n"
     ]
    },
    {
     "name": "stdout",
     "output_type": "stream",
     "text": [
      "20190928_11.nwb\n"
     ]
    },
    {
     "name": "stderr",
     "output_type": "stream",
     "text": [
      "/Applications/anaconda3/envs/NWB-dev/lib/python3.11/site-packages/hdmf/spec/namespace.py:531: UserWarning: Ignoring cached namespace 'hdmf-common' version 1.7.0 because version 1.8.0 is already loaded.\n",
      "  warn(\"Ignoring cached namespace '%s' version %s because version %s is already loaded.\"\n",
      "/Applications/anaconda3/envs/NWB-dev/lib/python3.11/site-packages/hdmf/spec/namespace.py:531: UserWarning: Ignoring cached namespace 'hdmf-experimental' version 0.4.0 because version 0.5.0 is already loaded.\n",
      "  warn(\"Ignoring cached namespace '%s' version %s because version %s is already loaded.\"\n",
      "/Applications/anaconda3/envs/NWB-dev/lib/python3.11/site-packages/hdmf/spec/namespace.py:531: UserWarning: Ignoring cached namespace 'ndx-multichannel-volume' version 0.1.7 because version 0.1.9 is already loaded.\n",
      "  warn(\"Ignoring cached namespace '%s' version %s because version %s is already loaded.\"\n"
     ]
    },
    {
     "name": "stdout",
     "output_type": "stream",
     "text": [
      "20190928_05.nwb\n"
     ]
    },
    {
     "name": "stderr",
     "output_type": "stream",
     "text": [
      "/Applications/anaconda3/envs/NWB-dev/lib/python3.11/site-packages/hdmf/spec/namespace.py:531: UserWarning: Ignoring cached namespace 'hdmf-common' version 1.7.0 because version 1.8.0 is already loaded.\n",
      "  warn(\"Ignoring cached namespace '%s' version %s because version %s is already loaded.\"\n",
      "/Applications/anaconda3/envs/NWB-dev/lib/python3.11/site-packages/hdmf/spec/namespace.py:531: UserWarning: Ignoring cached namespace 'hdmf-experimental' version 0.4.0 because version 0.5.0 is already loaded.\n",
      "  warn(\"Ignoring cached namespace '%s' version %s because version %s is already loaded.\"\n",
      "/Applications/anaconda3/envs/NWB-dev/lib/python3.11/site-packages/hdmf/spec/namespace.py:531: UserWarning: Ignoring cached namespace 'ndx-multichannel-volume' version 0.1.7 because version 0.1.9 is already loaded.\n",
      "  warn(\"Ignoring cached namespace '%s' version %s because version %s is already loaded.\"\n"
     ]
    }
   ],
   "source": [
    "color_discrim_FOCO = get_color_discrim('/Users/danielysprague/foco_lab/data/NWB_Ray', 6)\n",
    "color_discrim_Yemini = get_color_discrim('/Users/danielysprague/foco_lab/data/Yemini_NWB', 6)\n"
   ]
  },
  {
   "cell_type": "code",
   "execution_count": 64,
   "metadata": {},
   "outputs": [
    {
     "name": "stdout",
     "output_type": "stream",
     "text": [
      "2021-12-03-w00-NP1.nwb\n",
      "2022-03-05-w00-NP1.nwb\n",
      "2022-02-12-w00-NP1.nwb\n",
      "2022-02-22-w04-NP1.nwb\n",
      "2022-02-11-w03-NP1.nwb\n",
      "2022-02-12-w01-NP1.nwb\n",
      "2022-01-22-w04-NP1.nwb\n",
      "2022-04-26-w01-NP1.nwb\n",
      "2022-04-26-w00-NP1.nwb\n",
      "2022-04-01-w00-NP1.nwb\n",
      "56_YAaDV.nwb\n",
      "38_YAaDV.nwb\n",
      "76_YAaDV.nwb\n",
      "11_YAaLR.nwb\n",
      "64_YAaDV.nwb\n",
      "70_YAaLR.nwb\n",
      "55_YAaDV.nwb\n",
      "7_YAaLR.nwb\n",
      "62_YAaLR.nwb\n",
      "20_YAaLR.nwb\n"
     ]
    }
   ],
   "source": [
    "color_discrim_FOCO_og = get_color_discrim('/Users/danielysprague/foco_lab/data/NWB_foco', 6)\n",
    "color_discrim_NP = get_color_discrim('/Users/danielysprague/foco_lab/data/NP_nwb', 6)"
   ]
  },
  {
   "cell_type": "code",
   "execution_count": 73,
   "metadata": {},
   "outputs": [
    {
     "ename": "ValueError",
     "evalue": "If using all scalar values, you must pass an index",
     "output_type": "error",
     "traceback": [
      "\u001b[0;31m---------------------------------------------------------------------------\u001b[0m",
      "\u001b[0;31mValueError\u001b[0m                                Traceback (most recent call last)",
      "Cell \u001b[0;32mIn[73], line 1\u001b[0m\n\u001b[0;32m----> 1\u001b[0m df \u001b[39m=\u001b[39m pd\u001b[39m.\u001b[39;49mDataFrame({\u001b[39m'\u001b[39;49m\u001b[39mavg_col_discrim\u001b[39;49m\u001b[39m'\u001b[39;49m: \u001b[39m5.3\u001b[39;49m, \u001b[39m'\u001b[39;49m\u001b[39midentifier\u001b[39;49m\u001b[39m'\u001b[39;49m:\u001b[39m'\u001b[39;49m\u001b[39masdf\u001b[39;49m\u001b[39m'\u001b[39;49m})\n\u001b[1;32m      3\u001b[0m \u001b[39mprint\u001b[39m(df)\n",
      "File \u001b[0;32m/Applications/anaconda3/envs/NWB-dev/lib/python3.11/site-packages/pandas/core/frame.py:709\u001b[0m, in \u001b[0;36mDataFrame.__init__\u001b[0;34m(self, data, index, columns, dtype, copy)\u001b[0m\n\u001b[1;32m    703\u001b[0m     mgr \u001b[39m=\u001b[39m \u001b[39mself\u001b[39m\u001b[39m.\u001b[39m_init_mgr(\n\u001b[1;32m    704\u001b[0m         data, axes\u001b[39m=\u001b[39m{\u001b[39m\"\u001b[39m\u001b[39mindex\u001b[39m\u001b[39m\"\u001b[39m: index, \u001b[39m\"\u001b[39m\u001b[39mcolumns\u001b[39m\u001b[39m\"\u001b[39m: columns}, dtype\u001b[39m=\u001b[39mdtype, copy\u001b[39m=\u001b[39mcopy\n\u001b[1;32m    705\u001b[0m     )\n\u001b[1;32m    707\u001b[0m \u001b[39melif\u001b[39;00m \u001b[39misinstance\u001b[39m(data, \u001b[39mdict\u001b[39m):\n\u001b[1;32m    708\u001b[0m     \u001b[39m# GH#38939 de facto copy defaults to False only in non-dict cases\u001b[39;00m\n\u001b[0;32m--> 709\u001b[0m     mgr \u001b[39m=\u001b[39m dict_to_mgr(data, index, columns, dtype\u001b[39m=\u001b[39;49mdtype, copy\u001b[39m=\u001b[39;49mcopy, typ\u001b[39m=\u001b[39;49mmanager)\n\u001b[1;32m    710\u001b[0m \u001b[39melif\u001b[39;00m \u001b[39misinstance\u001b[39m(data, ma\u001b[39m.\u001b[39mMaskedArray):\n\u001b[1;32m    711\u001b[0m     \u001b[39mfrom\u001b[39;00m \u001b[39mnumpy\u001b[39;00m\u001b[39m.\u001b[39;00m\u001b[39mma\u001b[39;00m \u001b[39mimport\u001b[39;00m mrecords\n",
      "File \u001b[0;32m/Applications/anaconda3/envs/NWB-dev/lib/python3.11/site-packages/pandas/core/internals/construction.py:481\u001b[0m, in \u001b[0;36mdict_to_mgr\u001b[0;34m(data, index, columns, dtype, typ, copy)\u001b[0m\n\u001b[1;32m    477\u001b[0m     \u001b[39melse\u001b[39;00m:\n\u001b[1;32m    478\u001b[0m         \u001b[39m# dtype check to exclude e.g. range objects, scalars\u001b[39;00m\n\u001b[1;32m    479\u001b[0m         arrays \u001b[39m=\u001b[39m [x\u001b[39m.\u001b[39mcopy() \u001b[39mif\u001b[39;00m \u001b[39mhasattr\u001b[39m(x, \u001b[39m\"\u001b[39m\u001b[39mdtype\u001b[39m\u001b[39m\"\u001b[39m) \u001b[39melse\u001b[39;00m x \u001b[39mfor\u001b[39;00m x \u001b[39min\u001b[39;00m arrays]\n\u001b[0;32m--> 481\u001b[0m \u001b[39mreturn\u001b[39;00m arrays_to_mgr(arrays, columns, index, dtype\u001b[39m=\u001b[39;49mdtype, typ\u001b[39m=\u001b[39;49mtyp, consolidate\u001b[39m=\u001b[39;49mcopy)\n",
      "File \u001b[0;32m/Applications/anaconda3/envs/NWB-dev/lib/python3.11/site-packages/pandas/core/internals/construction.py:115\u001b[0m, in \u001b[0;36marrays_to_mgr\u001b[0;34m(arrays, columns, index, dtype, verify_integrity, typ, consolidate)\u001b[0m\n\u001b[1;32m    112\u001b[0m \u001b[39mif\u001b[39;00m verify_integrity:\n\u001b[1;32m    113\u001b[0m     \u001b[39m# figure out the index, if necessary\u001b[39;00m\n\u001b[1;32m    114\u001b[0m     \u001b[39mif\u001b[39;00m index \u001b[39mis\u001b[39;00m \u001b[39mNone\u001b[39;00m:\n\u001b[0;32m--> 115\u001b[0m         index \u001b[39m=\u001b[39m _extract_index(arrays)\n\u001b[1;32m    116\u001b[0m     \u001b[39melse\u001b[39;00m:\n\u001b[1;32m    117\u001b[0m         index \u001b[39m=\u001b[39m ensure_index(index)\n",
      "File \u001b[0;32m/Applications/anaconda3/envs/NWB-dev/lib/python3.11/site-packages/pandas/core/internals/construction.py:645\u001b[0m, in \u001b[0;36m_extract_index\u001b[0;34m(data)\u001b[0m\n\u001b[1;32m    642\u001b[0m         \u001b[39mraise\u001b[39;00m \u001b[39mValueError\u001b[39;00m(\u001b[39m\"\u001b[39m\u001b[39mPer-column arrays must each be 1-dimensional\u001b[39m\u001b[39m\"\u001b[39m)\n\u001b[1;32m    644\u001b[0m \u001b[39mif\u001b[39;00m \u001b[39mnot\u001b[39;00m indexes \u001b[39mand\u001b[39;00m \u001b[39mnot\u001b[39;00m raw_lengths:\n\u001b[0;32m--> 645\u001b[0m     \u001b[39mraise\u001b[39;00m \u001b[39mValueError\u001b[39;00m(\u001b[39m\"\u001b[39m\u001b[39mIf using all scalar values, you must pass an index\u001b[39m\u001b[39m\"\u001b[39m)\n\u001b[1;32m    647\u001b[0m \u001b[39mif\u001b[39;00m have_series:\n\u001b[1;32m    648\u001b[0m     index \u001b[39m=\u001b[39m union_indexes(indexes)\n",
      "\u001b[0;31mValueError\u001b[0m: If using all scalar values, you must pass an index"
     ]
    }
   ],
   "source": [
    "df = pd.DataFrame({'avg_col_discrim': 5.3, 'identifier':'asdf'})\n",
    "\n",
    "print(df)\n"
   ]
  },
  {
   "cell_type": "code",
   "execution_count": 78,
   "metadata": {},
   "outputs": [
    {
     "name": "stdout",
     "output_type": "stream",
     "text": [
      "    avg_col_discrim         identifier\n",
      "0          0.233278  20230412-20-15-17\n",
      "1          0.182110  20230506-14-24-57\n",
      "2          0.275786  20230510-13-25-46\n",
      "3          0.145156  20230322-22-43-03\n",
      "4          0.163429  20221106-21-47-31\n",
      "..              ...                ...\n",
      "56         1.837451           70_YAaLR\n",
      "57         2.101219           55_YAaDV\n",
      "58         1.792815            7_YAaLR\n",
      "59         1.785512           62_YAaLR\n",
      "60         2.016502           20_YAaLR\n",
      "\n",
      "[61 rows x 2 columns]\n"
     ]
    }
   ],
   "source": [
    "color_df = pd.DataFrame(columns=['avg_col_discrim', 'identifier'])\n",
    "\n",
    "datasets= [color_discrim_FOCO, color_discrim_Yemini, color_discrim_FOCO_og, color_discrim_NP]\n",
    "\n",
    "for dataset in datasets:\n",
    "    for key, value in dataset.items():\n",
    "        color_df = pd.concat([color_df, pd.DataFrame({'avg_col_discrim': np.mean(value), 'identifier':key[:-4]}, index=[0])], ignore_index=True)\n",
    "\n",
    "print(color_df)"
   ]
  },
  {
   "cell_type": "code",
   "execution_count": 65,
   "metadata": {},
   "outputs": [
    {
     "name": "stderr",
     "output_type": "stream",
     "text": [
      "/Applications/anaconda3/envs/NWB-dev/lib/python3.11/site-packages/seaborn/axisgrid.py:118: UserWarning: The figure layout has changed to tight\n",
      "  self._figure.tight_layout(*args, **kwargs)\n"
     ]
    }
   ],
   "source": [
    "plot_color_discrim([color_discrim_FOCO, color_discrim_Yemini, color_discrim_FOCO_og, color_discrim_NP], ['FOCO', 'Yemini', 'FOCO_og', 'NP'])"
   ]
  },
  {
   "attachments": {},
   "cell_type": "markdown",
   "metadata": {},
   "source": [
    "## Figure 4: Benchmarking performance of consolidated datasets \n",
    "\n",
    "All experiments run using consolidated dataset, different image processing approaches, box-whisker plot similar to above"
   ]
  },
  {
   "cell_type": "code",
   "execution_count": 32,
   "metadata": {},
   "outputs": [
    {
     "data": {
      "text/html": [
       "<div>\n",
       "<style scoped>\n",
       "    .dataframe tbody tr th:only-of-type {\n",
       "        vertical-align: middle;\n",
       "    }\n",
       "\n",
       "    .dataframe tbody tr th {\n",
       "        vertical-align: top;\n",
       "    }\n",
       "\n",
       "    .dataframe thead th {\n",
       "        text-align: right;\n",
       "    }\n",
       "</style>\n",
       "<table border=\"1\" class=\"dataframe\">\n",
       "  <thead>\n",
       "    <tr style=\"text-align: right;\">\n",
       "      <th></th>\n",
       "      <th>ID</th>\n",
       "      <th>User Confidence</th>\n",
       "      <th>Emphasized?</th>\n",
       "      <th>Auto ID</th>\n",
       "      <th>Auto Confidence</th>\n",
       "      <th>Unnamed: 5</th>\n",
       "      <th>Real X (um)</th>\n",
       "      <th>Real Y (um)</th>\n",
       "      <th>Real Z (um)</th>\n",
       "      <th>Unnamed: 9</th>\n",
       "      <th>Z-Scored Red</th>\n",
       "      <th>Z-Scored Green</th>\n",
       "      <th>Z-Scored Blue</th>\n",
       "      <th>Z-Scored White</th>\n",
       "      <th>Unnamed: 14</th>\n",
       "      <th>Estimated GFP</th>\n",
       "      <th>Max GFP</th>\n",
       "      <th>Normalized GFP</th>\n",
       "      <th>Unnamed: 18</th>\n",
       "      <th>neuron_class</th>\n",
       "    </tr>\n",
       "  </thead>\n",
       "  <tbody>\n",
       "    <tr>\n",
       "      <th>0</th>\n",
       "      <td>I1R</td>\n",
       "      <td>1.0</td>\n",
       "      <td>0</td>\n",
       "      <td>NaN</td>\n",
       "      <td>NaN</td>\n",
       "      <td>NaN</td>\n",
       "      <td>18.336782</td>\n",
       "      <td>20.794996</td>\n",
       "      <td>15.750000</td>\n",
       "      <td>NaN</td>\n",
       "      <td>6.044556</td>\n",
       "      <td>7.954885</td>\n",
       "      <td>10.833543</td>\n",
       "      <td>12.396418</td>\n",
       "      <td>NaN</td>\n",
       "      <td>21554.384615</td>\n",
       "      <td>22530.0</td>\n",
       "      <td>1738.759089</td>\n",
       "      <td>NaN</td>\n",
       "      <td>I1</td>\n",
       "    </tr>\n",
       "    <tr>\n",
       "      <th>1</th>\n",
       "      <td>I1L</td>\n",
       "      <td>1.0</td>\n",
       "      <td>0</td>\n",
       "      <td>NaN</td>\n",
       "      <td>NaN</td>\n",
       "      <td>NaN</td>\n",
       "      <td>21.379345</td>\n",
       "      <td>20.341513</td>\n",
       "      <td>21.750000</td>\n",
       "      <td>NaN</td>\n",
       "      <td>9.740729</td>\n",
       "      <td>18.229802</td>\n",
       "      <td>18.862395</td>\n",
       "      <td>12.439850</td>\n",
       "      <td>NaN</td>\n",
       "      <td>19731.692308</td>\n",
       "      <td>21061.0</td>\n",
       "      <td>1586.167972</td>\n",
       "      <td>NaN</td>\n",
       "      <td>I1</td>\n",
       "    </tr>\n",
       "    <tr>\n",
       "      <th>2</th>\n",
       "      <td>AMSOL</td>\n",
       "      <td>1.0</td>\n",
       "      <td>0</td>\n",
       "      <td>NaN</td>\n",
       "      <td>NaN</td>\n",
       "      <td>NaN</td>\n",
       "      <td>24.907975</td>\n",
       "      <td>9.963190</td>\n",
       "      <td>24.750000</td>\n",
       "      <td>NaN</td>\n",
       "      <td>2.982248</td>\n",
       "      <td>14.802994</td>\n",
       "      <td>0.359120</td>\n",
       "      <td>9.707879</td>\n",
       "      <td>NaN</td>\n",
       "      <td>20621.846154</td>\n",
       "      <td>21386.0</td>\n",
       "      <td>2124.238120</td>\n",
       "      <td>NaN</td>\n",
       "      <td>AMSO</td>\n",
       "    </tr>\n",
       "    <tr>\n",
       "      <th>3</th>\n",
       "      <td>I2R</td>\n",
       "      <td>1.0</td>\n",
       "      <td>0</td>\n",
       "      <td>NaN</td>\n",
       "      <td>NaN</td>\n",
       "      <td>NaN</td>\n",
       "      <td>33.666744</td>\n",
       "      <td>24.509281</td>\n",
       "      <td>11.683901</td>\n",
       "      <td>NaN</td>\n",
       "      <td>12.925403</td>\n",
       "      <td>2.693210</td>\n",
       "      <td>3.037950</td>\n",
       "      <td>12.439850</td>\n",
       "      <td>NaN</td>\n",
       "      <td>18596.692308</td>\n",
       "      <td>19243.0</td>\n",
       "      <td>1494.928932</td>\n",
       "      <td>NaN</td>\n",
       "      <td>I2</td>\n",
       "    </tr>\n",
       "    <tr>\n",
       "      <th>4</th>\n",
       "      <td>I2L</td>\n",
       "      <td>1.0</td>\n",
       "      <td>0</td>\n",
       "      <td>NaN</td>\n",
       "      <td>NaN</td>\n",
       "      <td>NaN</td>\n",
       "      <td>33.956429</td>\n",
       "      <td>22.916969</td>\n",
       "      <td>24.353949</td>\n",
       "      <td>NaN</td>\n",
       "      <td>17.382137</td>\n",
       "      <td>3.397190</td>\n",
       "      <td>7.285318</td>\n",
       "      <td>12.439850</td>\n",
       "      <td>NaN</td>\n",
       "      <td>20084.538462</td>\n",
       "      <td>20771.0</td>\n",
       "      <td>1614.532151</td>\n",
       "      <td>NaN</td>\n",
       "      <td>I2</td>\n",
       "    </tr>\n",
       "  </tbody>\n",
       "</table>\n",
       "</div>"
      ],
      "text/plain": [
       "      ID  User Confidence  Emphasized?  Auto ID  Auto Confidence  Unnamed: 5  \\\n",
       "0    I1R              1.0            0      NaN              NaN         NaN   \n",
       "1    I1L              1.0            0      NaN              NaN         NaN   \n",
       "2  AMSOL              1.0            0      NaN              NaN         NaN   \n",
       "3    I2R              1.0            0      NaN              NaN         NaN   \n",
       "4    I2L              1.0            0      NaN              NaN         NaN   \n",
       "\n",
       "   Real X (um)  Real Y (um)  Real Z (um)  Unnamed: 9  Z-Scored Red  \\\n",
       "0    18.336782    20.794996    15.750000         NaN      6.044556   \n",
       "1    21.379345    20.341513    21.750000         NaN      9.740729   \n",
       "2    24.907975     9.963190    24.750000         NaN      2.982248   \n",
       "3    33.666744    24.509281    11.683901         NaN     12.925403   \n",
       "4    33.956429    22.916969    24.353949         NaN     17.382137   \n",
       "\n",
       "   Z-Scored Green  Z-Scored Blue  Z-Scored White  Unnamed: 14  Estimated GFP  \\\n",
       "0        7.954885      10.833543       12.396418          NaN   21554.384615   \n",
       "1       18.229802      18.862395       12.439850          NaN   19731.692308   \n",
       "2       14.802994       0.359120        9.707879          NaN   20621.846154   \n",
       "3        2.693210       3.037950       12.439850          NaN   18596.692308   \n",
       "4        3.397190       7.285318       12.439850          NaN   20084.538462   \n",
       "\n",
       "   Max GFP  Normalized GFP  Unnamed: 18 neuron_class  \n",
       "0  22530.0     1738.759089          NaN           I1  \n",
       "1  21061.0     1586.167972          NaN           I1  \n",
       "2  21386.0     2124.238120          NaN         AMSO  \n",
       "3  19243.0     1494.928932          NaN           I2  \n",
       "4  20771.0     1614.532151          NaN           I2  "
      ]
     },
     "execution_count": 32,
     "metadata": {},
     "output_type": "execute_result"
    }
   ],
   "source": [
    "atlas_df = atlas.get_df()\n",
    "atlas_df\n",
    "\n",
    "gt = pd.read_csv('/Users/danielysprague/foco_lab/data/NP_paper/all/11_YAaLR.csv', skiprows=7)\n",
    "gt = gt.rename(columns={'User ID':'ID'})\n",
    "autID = pd.read_csv('/Users/danielysprague/foco_lab/data/Yemini_paper_results/11_YAaLR.csv')\n",
    "\n",
    "merged_df = pd.merge(gt, atlas_df[['ID', 'neuron_class']], on='ID', how='left')\n",
    "\n",
    "merged_df.head()"
   ]
  },
  {
   "cell_type": "code",
   "execution_count": 34,
   "metadata": {},
   "outputs": [
    {
     "name": "stdout",
     "output_type": "stream",
     "text": [
      "[0.0, 0.0, 0.0, 0.0]\n"
     ]
    }
   ],
   "source": [
    "gt = pd.read_csv('/Users/danielysprague/foco_lab/data/NP_paper/all/70_YApLR.csv', skiprows=7)\n",
    "gt = gt.rename(columns={'User ID':'ID'})\n",
    "autID = pd.read_csv('/Users/danielysprague/foco_lab/data/Yemini_paper_results/70_YApLR.csv')\n",
    "\n",
    "IDd, per_ID, accs = get_accuracy(gt, autID, LR=True, atlas=atlas)\n",
    "print(accs)"
   ]
  },
  {
   "cell_type": "code",
   "execution_count": 35,
   "metadata": {},
   "outputs": [
    {
     "name": "stdout",
     "output_type": "stream",
     "text": [
      "38_YAaDV.csv\n",
      "0.9081632653061225\n",
      "56_YAaDV.csv\n",
      "0.8928571428571429\n",
      "64_YAaDV.csv\n",
      "0.8958333333333334\n",
      "11_YAaLR.csv\n",
      "0.8969072164948454\n",
      "76_YAaDV.csv\n",
      "0.9067357512953368\n",
      "20_YAaLR.csv\n",
      "0.8298969072164949\n",
      "62_YAaLR.csv\n",
      "0.38095238095238093\n",
      "7_YAaLR.csv\n",
      "0.8802083333333334\n",
      "55_YAaDV.csv\n",
      "0.953125\n",
      "70_YAaLR.csv\n",
      "0.9481865284974094\n"
     ]
    },
    {
     "data": {
      "image/png": "[encoded data removed]",
      "text/plain": [
       "<Figure size 640x480 with 1 Axes>"
      ]
     },
     "metadata": {},
     "output_type": "display_data"
    }
   ],
   "source": [
    "def plot_accuracy_paper(folder,atlas):\n",
    "\n",
    "    all_accs = None\n",
    "\n",
    "    for file in os.listdir(folder):\n",
    "\n",
    "        if file[-4:]=='.csv' and file[-7]=='a':\n",
    "            gt = pd.read_csv(folder+'/'+file, skiprows=7)\n",
    "            gt = gt.rename(columns={'User ID':'ID'})\n",
    "            autID = pd.read_csv('/Users/danielysprague/foco_lab/data/Yemini_paper_results/'+file)\n",
    "\n",
    "            IDd, per_ID, accs = get_accuracy(gt, autID, LR=True, atlas=atlas)\n",
    "\n",
    "            print(file)\n",
    "            print(accs[0])\n",
    "\n",
    "            if all_accs is None:\n",
    "                all_accs = np.asarray(accs)\n",
    "\n",
    "            else:\n",
    "                all_accs = np.vstack((all_accs, accs))\n",
    "\n",
    "        else:\n",
    "            continue\n",
    "\n",
    "    df = pd.DataFrame(all_accs, columns=['Top_acc', 'Top_2_acc', 'Top_3_acc', 'Top_4_acc'])\n",
    "\n",
    "    sns.boxplot(data=df, orient='v')\n",
    "\n",
    "    plt.ylim((0,1))\n",
    "\n",
    "    plt.show()\n",
    "\n",
    "    return df\n",
    "\n",
    "\n",
    "df = plot_accuracy_paper('/Users/danielysprague/foco_lab/data/NP_paper/all', atlas)"
   ]
  },
  {
   "cell_type": "code",
   "execution_count": 49,
   "metadata": {},
   "outputs": [],
   "source": [
    "old_FOCO_dataset = get_dataset_neurons('/Users/danielysprague/foco_lab/data/NWB_foco')"
   ]
  },
  {
   "cell_type": "code",
   "execution_count": 56,
   "metadata": {},
   "outputs": [
    {
     "data": {
      "image/png": "[encoded data removed]",
      "text/plain": [
       "<Figure size 640x480 with 1 Axes>"
      ]
     },
     "metadata": {},
     "output_type": "display_data"
    },
    {
     "data": {
      "image/png": "[encoded data removed]",
      "text/plain": [
       "<Figure size 640x480 with 1 Axes>"
      ]
     },
     "metadata": {},
     "output_type": "display_data"
    }
   ],
   "source": [
    "%matplotlib inline\n",
    "\n",
    "def plot_accuracy(dataset, csv_folder, atlas):\n",
    "\n",
    "    all_accs = np.zeros((len(dataset), 4))\n",
    "\n",
    "    for i, key in enumerate(dataset.keys()):\n",
    "        csv_nwb = csv_folder+key+'.csv'\n",
    "        IDd, per_ID, accs = get_accuracy(dataset[key], pd.read_csv(csv_nwb), LR=True, atlas=atlas)\n",
    "\n",
    "        all_accs[i,:4] = np.transpose(np.asarray(accs))\n",
    "\n",
    "    df = pd.DataFrame(all_accs, columns=['Top_acc', 'Top_2_acc', 'Top_3_acc', 'Top_4_acc'])\n",
    "\n",
    "    sns.boxplot(data=df, orient='v')\n",
    "\n",
    "    plt.ylim((0,1))\n",
    "\n",
    "    plt.show()\n",
    "\n",
    "    return df\n",
    "\n",
    "\n",
    "\n",
    "df = plot_accuracy(chaud_dataset, '/Users/danielysprague/foco_lab/data/NWB_chaudhary_results_match/', atlas)\n",
    "df = plot_accuracy(chaud_dataset, '/Users/danielysprague/foco_lab/data/NWB_chaudhary_results/', atlas)\n",
    "\n",
    "    \n",
    "        "
   ]
  },
  {
   "cell_type": "code",
   "execution_count": 57,
   "metadata": {},
   "outputs": [
    {
     "data": {
      "image/png": "[encoded data removed]",
      "text/plain": [
       "<Figure size 640x480 with 1 Axes>"
      ]
     },
     "metadata": {},
     "output_type": "display_data"
    },
    {
     "data": {
      "image/png": "[encoded data removed]",
      "text/plain": [
       "<Figure size 640x480 with 1 Axes>"
      ]
     },
     "metadata": {},
     "output_type": "display_data"
    }
   ],
   "source": [
    "df = plot_accuracy(old_FOCO_dataset, '/Users/danielysprague/foco_lab/data/NWB_foco_results_match/', atlas)\n",
    "df = plot_accuracy(old_FOCO_dataset, '/Users/danielysprague/foco_lab/data/NWB_foco_results/', atlas)"
   ]
  },
  {
   "cell_type": "code",
   "execution_count": 58,
   "metadata": {},
   "outputs": [
    {
     "data": {
      "image/png": "[encoded data removed]",
      "text/plain": [
       "<Figure size 640x480 with 1 Axes>"
      ]
     },
     "metadata": {},
     "output_type": "display_data"
    },
    {
     "data": {
      "image/png": "[encoded data removed]",
      "text/plain": [
       "<Figure size 640x480 with 1 Axes>"
      ]
     },
     "metadata": {},
     "output_type": "display_data"
    }
   ],
   "source": [
    "df = plot_accuracy(FOCO_dataset, '/Users/danielysprague/foco_lab/data/NWB_Ray_results_match/', atlas)\n",
    "df = plot_accuracy(FOCO_dataset, '/Users/danielysprague/foco_lab/data/NWB_Ray_results/', atlas)"
   ]
  },
  {
   "cell_type": "code",
   "execution_count": 69,
   "metadata": {},
   "outputs": [
    {
     "name": "stderr",
     "output_type": "stream",
     "text": [
      "/Applications/anaconda3/envs/NWB-dev/lib/python3.11/site-packages/seaborn/axisgrid.py:118: UserWarning: The figure layout has changed to tight\n",
      "  self._figure.tight_layout(*args, **kwargs)\n",
      "/Applications/anaconda3/envs/NWB-dev/lib/python3.11/site-packages/seaborn/axisgrid.py:118: UserWarning: The figure layout has changed to tight\n",
      "  self._figure.tight_layout(*args, **kwargs)\n",
      "/Applications/anaconda3/envs/NWB-dev/lib/python3.11/site-packages/seaborn/axisgrid.py:118: UserWarning: The figure layout has changed to tight\n",
      "  self._figure.tight_layout(*args, **kwargs)\n"
     ]
    }
   ],
   "source": [
    "%matplotlib qt\n",
    "acc_df = plot_accuracies([NP_dataset, Yem_dataset, FOCO_dataset, old_FOCO_dataset, chaud_dataset], ['/Users/danielysprague/foco_lab/data/NP_nwb_results/','/Users/danielysprague/foco_lab/data/Yemini_NWB_results/', '/Users/danielysprague/foco_lab/data/NWB_Ray_results/', '/Users/danielysprague/foco_lab/data/NWB_foco_results/', '/Users/danielysprague/foco_lab/data/NWB_chaudhary_results/'], ['NP','Yemini', 'FOCO', 'FOCO_old', 'chaudhary'], LR=True, atlas=atlas)\n",
    "acc_df = plot_accuracies([NP_dataset, Yem_dataset, FOCO_dataset, old_FOCO_dataset, chaud_dataset], ['/Users/danielysprague/foco_lab/data/NP_nwb_results/','/Users/danielysprague/foco_lab/data/Yemini_NWB_results_match/', '/Users/danielysprague/foco_lab/data/NWB_Ray_results_match/', '/Users/danielysprague/foco_lab/data/NWB_foco_results_match/', '/Users/danielysprague/foco_lab/data/NWB_chaudhary_results_match/'], ['NP','Yemini', 'FOCO', 'FOCO_old', 'chaudhary'], LR=True, atlas=atlas)\n",
    "acc_matched_df = plot_accuracies([NP_dataset, Yem_dataset, FOCO_dataset, old_FOCO_dataset, chaud_dataset], ['/Users/danielysprague/foco_lab/data/NP_nwb_results/','/Users/danielysprague/foco_lab/data/Yemini_NWB_results_match_new/', '/Users/danielysprague/foco_lab/data/NWB_Ray_results_match_new/', '/Users/danielysprague/foco_lab/data/NWB_foco_results_match_new/', '/Users/danielysprague/foco_lab/data/NWB_chaudhary_results_match_new/'], ['NP','Yemini', 'FOCO', 'FOCO_old', 'chaudhary'], LR=True, atlas=atlas)\n",
    "    "
   ]
  },
  {
   "cell_type": "code",
   "execution_count": 60,
   "metadata": {},
   "outputs": [
    {
     "data": {
      "text/html": [
       "<div>\n",
       "<style scoped>\n",
       "    .dataframe tbody tr th:only-of-type {\n",
       "        vertical-align: middle;\n",
       "    }\n",
       "\n",
       "    .dataframe tbody tr th {\n",
       "        vertical-align: top;\n",
       "    }\n",
       "\n",
       "    .dataframe thead th {\n",
       "        text-align: right;\n",
       "    }\n",
       "</style>\n",
       "<table border=\"1\" class=\"dataframe\">\n",
       "  <thead>\n",
       "    <tr style=\"text-align: right;\">\n",
       "      <th></th>\n",
       "      <th>top_acc</th>\n",
       "      <th>top_2_acc</th>\n",
       "      <th>top_3_acc</th>\n",
       "      <th>top_4_acc</th>\n",
       "      <th>dataset</th>\n",
       "      <th>identifier</th>\n",
       "    </tr>\n",
       "  </thead>\n",
       "  <tbody>\n",
       "    <tr>\n",
       "      <th>0</th>\n",
       "      <td>0.910995</td>\n",
       "      <td>0.947644</td>\n",
       "      <td>0.958115</td>\n",
       "      <td>0.968586</td>\n",
       "      <td>NP</td>\n",
       "      <td>56_YAaDV</td>\n",
       "    </tr>\n",
       "    <tr>\n",
       "      <th>1</th>\n",
       "      <td>0.905263</td>\n",
       "      <td>0.978947</td>\n",
       "      <td>0.984211</td>\n",
       "      <td>0.984211</td>\n",
       "      <td>NP</td>\n",
       "      <td>38_YAaDV</td>\n",
       "    </tr>\n",
       "    <tr>\n",
       "      <th>2</th>\n",
       "      <td>0.920213</td>\n",
       "      <td>0.962766</td>\n",
       "      <td>0.973404</td>\n",
       "      <td>0.978723</td>\n",
       "      <td>NP</td>\n",
       "      <td>76_YAaDV</td>\n",
       "    </tr>\n",
       "    <tr>\n",
       "      <th>3</th>\n",
       "      <td>0.896373</td>\n",
       "      <td>0.958549</td>\n",
       "      <td>0.974093</td>\n",
       "      <td>0.989637</td>\n",
       "      <td>NP</td>\n",
       "      <td>11_YAaLR</td>\n",
       "    </tr>\n",
       "    <tr>\n",
       "      <th>4</th>\n",
       "      <td>0.878307</td>\n",
       "      <td>0.957672</td>\n",
       "      <td>0.962963</td>\n",
       "      <td>0.973545</td>\n",
       "      <td>NP</td>\n",
       "      <td>64_YAaDV</td>\n",
       "    </tr>\n",
       "    <tr>\n",
       "      <th>...</th>\n",
       "      <td>...</td>\n",
       "      <td>...</td>\n",
       "      <td>...</td>\n",
       "      <td>...</td>\n",
       "      <td>...</td>\n",
       "      <td>...</td>\n",
       "    </tr>\n",
       "    <tr>\n",
       "      <th>56</th>\n",
       "      <td>0.365079</td>\n",
       "      <td>0.52381</td>\n",
       "      <td>0.634921</td>\n",
       "      <td>0.666667</td>\n",
       "      <td>FOCO_old</td>\n",
       "      <td>2022-02-12-w01-NP1</td>\n",
       "    </tr>\n",
       "    <tr>\n",
       "      <th>57</th>\n",
       "      <td>0.6875</td>\n",
       "      <td>0.8125</td>\n",
       "      <td>0.854167</td>\n",
       "      <td>0.854167</td>\n",
       "      <td>FOCO_old</td>\n",
       "      <td>2022-01-22-w04-NP1</td>\n",
       "    </tr>\n",
       "    <tr>\n",
       "      <th>58</th>\n",
       "      <td>0.6</td>\n",
       "      <td>0.7</td>\n",
       "      <td>0.725</td>\n",
       "      <td>0.725</td>\n",
       "      <td>FOCO_old</td>\n",
       "      <td>2022-04-26-w01-NP1</td>\n",
       "    </tr>\n",
       "    <tr>\n",
       "      <th>59</th>\n",
       "      <td>0.5</td>\n",
       "      <td>0.657895</td>\n",
       "      <td>0.736842</td>\n",
       "      <td>0.789474</td>\n",
       "      <td>FOCO_old</td>\n",
       "      <td>2022-04-26-w00-NP1</td>\n",
       "    </tr>\n",
       "    <tr>\n",
       "      <th>60</th>\n",
       "      <td>0.204545</td>\n",
       "      <td>0.409091</td>\n",
       "      <td>0.522727</td>\n",
       "      <td>0.568182</td>\n",
       "      <td>FOCO_old</td>\n",
       "      <td>2022-04-01-w00-NP1</td>\n",
       "    </tr>\n",
       "  </tbody>\n",
       "</table>\n",
       "<p>61 rows × 6 columns</p>\n",
       "</div>"
      ],
      "text/plain": [
       "     top_acc top_2_acc top_3_acc top_4_acc   dataset          identifier\n",
       "0   0.910995  0.947644  0.958115  0.968586        NP            56_YAaDV\n",
       "1   0.905263  0.978947  0.984211  0.984211        NP            38_YAaDV\n",
       "2   0.920213  0.962766  0.973404  0.978723        NP            76_YAaDV\n",
       "3   0.896373  0.958549  0.974093  0.989637        NP            11_YAaLR\n",
       "4   0.878307  0.957672  0.962963  0.973545        NP            64_YAaDV\n",
       "..       ...       ...       ...       ...       ...                 ...\n",
       "56  0.365079   0.52381  0.634921  0.666667  FOCO_old  2022-02-12-w01-NP1\n",
       "57    0.6875    0.8125  0.854167  0.854167  FOCO_old  2022-01-22-w04-NP1\n",
       "58       0.6       0.7     0.725     0.725  FOCO_old  2022-04-26-w01-NP1\n",
       "59       0.5  0.657895  0.736842  0.789474  FOCO_old  2022-04-26-w00-NP1\n",
       "60  0.204545  0.409091  0.522727  0.568182  FOCO_old  2022-04-01-w00-NP1\n",
       "\n",
       "[61 rows x 6 columns]"
      ]
     },
     "execution_count": 60,
     "metadata": {},
     "output_type": "execute_result"
    }
   ],
   "source": [
    "acc_df"
   ]
  },
  {
   "cell_type": "code",
   "execution_count": 380,
   "metadata": {},
   "outputs": [],
   "source": [
    "acc_df.to_csv('/Users/danielysprague/foco_lab/data/acc_results.csv')"
   ]
  },
  {
   "cell_type": "code",
   "execution_count": 83,
   "metadata": {},
   "outputs": [],
   "source": [
    "def get_accuracies_newatlas(folder, atlas):\n",
    "    accs = {}\n",
    "    for file in os.listdir(folder):\n",
    "        filename = file[:-4]\n",
    "        if not file[-4:] == '.csv':\n",
    "            continue\n",
    "\n",
    "        df_data = pd.read_csv(folder + '/'+file)\n",
    "        df_data = df_data.rename(columns={\"aligned_x\":\"X\",\"aligned_y\":\"Y\",\"aligned_z\":\"Z\", \"aligned_R\":\"R\", \"aligned_G\":\"G\", \"aligned_B\":\"B\"})\n",
    "\n",
    "        per_ID, per_corr, df_assigns = run_linear_assignment(df_data, atlas)\n",
    "\n",
    "        accs[filename] = per_corr\n",
    "    \n",
    "    return accs\n",
    "\n",
    "accs_NP = get_accuracies_newatlas('/Users/danielysprague/foco_lab/data/aligned_NP', NP_atlas)\n",
    "accs_full = get_accuracies_newatlas('/Users/danielysprague/foco_lab/data/aligned_full', NWB_atlas)"
   ]
  },
  {
   "cell_type": "code",
   "execution_count": 91,
   "metadata": {},
   "outputs": [],
   "source": [
    "def plot_accuracies_newatlas(datasets, accs_NP, accs_full, labels):\n",
    "\n",
    "    df = pd.DataFrame(columns=['acc_NP','acc_full', 'dataset'])\n",
    "\n",
    "    for i, dataset in enumerate(datasets):\n",
    "        for key in dataset.keys():\n",
    "            acc_NP = accs_NP[key]\n",
    "            acc_full = accs_full[key]\n",
    "\n",
    "            df.loc[len(df.index)] = [acc_NP, acc_full, labels[i]]\n",
    "\n",
    "    fig, axs = plt.subplots(1,2)\n",
    "\n",
    "    sns.boxplot(ax= axs[0], data = df, x = 'dataset', y='acc_NP', hue='dataset', orient='v',dodge=False) \n",
    "    sns.boxplot(ax= axs[1], data = df, x = 'dataset', y='acc_full', hue='dataset', orient='v',dodge=False) \n",
    "    sns.scatterplot(ax= axs[0], data = df, x = 'dataset', y='acc_NP', hue='dataset') \n",
    "    sns.scatterplot(ax= axs[1], data = df, x = 'dataset', y='acc_full', hue='dataset') \n",
    "    axs[0].set_ylim((0,1))\n",
    "    axs[1].set_ylim((0,1))\n",
    "    \n",
    "    for ax in axs:\n",
    "        ax.legend([],[], frameon=False)\n",
    "    \n",
    "plot_accuracies_newatlas([NP_dataset, chaud_dataset, Yem_dataset, old_FOCO_dataset, FOCO_dataset], accs_NP, accs_full, ['NP', 'Chaudhary', 'Yemini', 'Old FOCO', 'New FOCO'])"
   ]
  },
  {
   "cell_type": "code",
   "execution_count": 108,
   "metadata": {},
   "outputs": [
    {
     "name": "stdout",
     "output_type": "stream",
     "text": [
      "-8.681597328887555\n",
      "1.1349352314164558e-12\n"
     ]
    },
    {
     "data": {
      "image/png": "[encoded data removed]",
      "text/plain": [
       "<Figure size 800x600 with 1 Axes>"
      ]
     },
     "metadata": {},
     "output_type": "display_data"
    }
   ],
   "source": [
    "%matplotlib inline\n",
    "import scipy.stats as stats\n",
    "\n",
    "def plot_accuracies_atlas_compare(datasets, accs_NP, accs_full):\n",
    "\n",
    "    df = pd.DataFrame(columns=['NeuroPAL','Consolidated', 'dataset'])\n",
    "\n",
    "    for i, dataset in enumerate(datasets):\n",
    "        for key in dataset.keys():\n",
    "            acc_NP = accs_NP[key]\n",
    "            acc_full = accs_full[key]\n",
    "\n",
    "            df.loc[len(df.index)] = [acc_NP, acc_full, key]\n",
    "    \n",
    "    df_long = pd.melt(df, id_vars='dataset', value_vars=['NeuroPAL', 'Consolidated'], var_name='Accuracy', value_name='Value')\n",
    "\n",
    "    plt.figure(figsize=(8, 6))\n",
    "    sns.boxplot(x='Accuracy', y='Value', data=df_long, color='skyblue', width=0.4)\n",
    "    sns.boxplot(x='Accuracy', y='Value', data=df_long, color='lightcoral', width=0.4)\n",
    "    sns.scatterplot(x='Accuracy', y='Value', data=df_long, color='skyblue')\n",
    "    sns.scatterplot(x='Accuracy', y='Value', data=df_long, color='lightcoral')\n",
    "\n",
    "    t, prob = stats.ttest_rel(np.asarray(df['NeuroPAL']), np.asarray(df['Consolidated']))\n",
    "\n",
    "    plt.ylabel('Assignment accuracy')\n",
    "    plt.xlabel('Atlas used')\n",
    "    plt.ylim((0,1))\n",
    "\n",
    "    print(t)\n",
    "    print(prob)\n",
    "    # Add lines connecting data points from the same dataset\n",
    "    #for i in range(len(df)):\n",
    "    #    plt.plot([i, i], [df['acc_NP'][i], df['acc_full'][i]], color='gray', linestyle='-', linewidth=1, alpha=0.7)\n",
    "\n",
    "    plt.show()\n",
    "\n",
    "plot_accuracies_atlas_compare([NP_dataset, chaud_dataset, Yem_dataset, old_FOCO_dataset, FOCO_dataset], accs_NP, accs_full)"
   ]
  },
  {
   "cell_type": "code",
   "execution_count": 109,
   "metadata": {},
   "outputs": [
    {
     "name": "stdout",
     "output_type": "stream",
     "text": [
      "{'6': 0.336283185840708, '7': 0.27350427350427353, '20221106-21-00-09': 0.10344827586206896, '20230322-20-16-50': 0.11382113821138211, '5': 0.25203252032520324, '4': 0.29508196721311475, '2021-12-03-w00-NP1': 0.2558139534883721, '20221106-21-47-31': 0.16379310344827586, '20230322-22-43-03': 0.13445378151260504, '20230506-12-56-00': 0.2376237623762376, '20230506-14-24-57': 0.2980769230769231, '1': 0.18584070796460178, '38_YAaDV': 0.9333333333333333, '20230510-13-25-46': 0.15178571428571427, '20230412-20-15-17': 0.10752688172043011, '56_YAaDV': 0.8717948717948718, '20190928_08': 0.5683060109289617, '3': 0.1794871794871795, '2': 0.19834710743801653, '20191104_10': 0.5172413793103449, '20190929_06': 0.5168539325842697, '64_YAaDV': 0.8958333333333334, '20190929_07': 0.5988700564971752, '20230510-16-36-46': 0.12195121951219512, '20191030_03': 0.6378378378378379, '20190929_05': 0.4176470588235294, '2022-03-05-w00-NP1': 0.17857142857142858, '20190925_04': 0.6101694915254238, '11_YAaLR': 0.8711340206185567, '76_YAaDV': 0.8808290155440415, '20191030_07': 0.46111111111111114, '20190925_01': 0.5271739130434783, '20230506-13-32-08': 0.07692307692307693, '20190929_03': 0.4438202247191011, '20190929_02': 0.3072289156626506, '20221028-18-48-00': 0.16981132075471697, '2022-02-12-w01-NP1': 0.25139664804469275, '20221215-20-02-49': 0.2748091603053435, '2022-02-11-w03-NP1': 0.21428571428571427, '20230510-15-49-47': 0.11214953271028037, '2022-02-22-w04-NP1': 0.20689655172413793, '20191104_08': 0.659217877094972, '2022-02-12-w00-NP1': 0.26857142857142857, '20230506-15-33-51': 0.24271844660194175, '20230322-18-57-04': 0.18333333333333332, '20_YAaLR': 0.8290155440414507, '2022-04-01-w00-NP1': 0.1746987951807229, '20190928_05': 0.5232558139534884, '20190928_11': 0.6243093922651933, '20190928_07': 0.5833333333333334, '20190928_13': 0.5257142857142857, '62_YAaLR': 0.91005291005291, '20221215-22-02-55': 0.01652892561983471, '20230510-12-53-34': 0.09565217391304348, '7_YAaLR': 0.8645833333333334, '20230506-15-01-45': 0.09090909090909091, '2022-04-26-w00-NP1': 0.1388888888888889, '55_YAaDV': 0.9427083333333334, '9': 0.24, '20190924_02': 0.5617977528089888, '20221106-21-23-19': 0.20353982300884957, '20190924_03': 0.5851063829787234, '8': 0.2627118644067797, '2022-04-26-w01-NP1': 0.17777777777777778, '20190928_03': 0.5, '20190928_01': 0.5523255813953488, '20230322-21-41-10': 0.2169811320754717, '20190924_01': 0.6022099447513812, '70_YAaLR': 0.917098445595855, '2022-01-22-w04-NP1': 0.22941176470588234}\n",
      "{'6': 0.504424778761062, '7': 0.4358974358974359, '20221106-21-00-09': 0.16379310344827586, '20230322-20-16-50': 0.21138211382113822, '5': 0.43089430894308944, '4': 0.4180327868852459, '2021-12-03-w00-NP1': 0.313953488372093, '20221106-21-47-31': 0.25862068965517243, '20230322-22-43-03': 0.21008403361344538, '20230506-12-56-00': 0.297029702970297, '20230506-14-24-57': 0.3942307692307692, '1': 0.37168141592920356, '38_YAaDV': 0.8461538461538461, '20230510-13-25-46': 0.21428571428571427, '20230412-20-15-17': 0.10752688172043011, '56_YAaDV': 0.8512820512820513, '20190928_08': 0.7814207650273224, '3': 0.358974358974359, '2': 0.35537190082644626, '20191104_10': 0.8563218390804598, '20190929_06': 0.7921348314606742, '64_YAaDV': 0.8489583333333334, '20190929_07': 0.8022598870056498, '20230510-16-36-46': 0.17073170731707318, '20191030_03': 0.8054054054054054, '20190929_05': 0.7647058823529411, '2022-03-05-w00-NP1': 0.2976190476190476, '20190925_04': 0.7740112994350282, '11_YAaLR': 0.7938144329896907, '76_YAaDV': 0.8704663212435233, '20191030_07': 0.7444444444444445, '20190925_01': 0.6847826086956522, '20230506-13-32-08': 0.14285714285714285, '20190929_03': 0.8089887640449438, '20190929_02': 0.5903614457831325, '20221028-18-48-00': 0.2169811320754717, '2022-02-12-w01-NP1': 0.33519553072625696, '20221215-20-02-49': 0.37404580152671757, '2022-02-11-w03-NP1': 0.25, '20230510-15-49-47': 0.11214953271028037, '2022-02-22-w04-NP1': 0.26436781609195403, '20191104_08': 0.7877094972067039, '2022-02-12-w00-NP1': 0.3142857142857143, '20230506-15-33-51': 0.3106796116504854, '20230322-18-57-04': 0.3, '20_YAaLR': 0.7875647668393783, '2022-04-01-w00-NP1': 0.2289156626506024, '20190928_05': 0.6976744186046512, '20190928_11': 0.8232044198895028, '20190928_07': 0.8333333333333334, '20190928_13': 0.8171428571428572, '62_YAaLR': 0.8624338624338624, '20221215-22-02-55': 0.0, '20230510-12-53-34': 0.16521739130434782, '7_YAaLR': 0.8385416666666666, '20230506-15-01-45': 0.21212121212121213, '2022-04-26-w00-NP1': 0.19444444444444445, '55_YAaDV': 0.8854166666666666, '9': 0.408, '20190924_02': 0.7640449438202247, '20221106-21-23-19': 0.2743362831858407, '20190924_03': 0.7021276595744681, '8': 0.3728813559322034, '2022-04-26-w01-NP1': 0.20555555555555555, '20190928_03': 0.7738095238095238, '20190928_01': 0.8023255813953488, '20230322-21-41-10': 0.29245283018867924, '20190924_01': 0.7790055248618785, '70_YAaLR': 0.8860103626943006, '2022-01-22-w04-NP1': 0.27058823529411763}\n"
     ]
    }
   ],
   "source": [
    "print(accs_NP)\n",
    "print(accs_full)"
   ]
  },
  {
   "cell_type": "code",
   "execution_count": 80,
   "metadata": {},
   "outputs": [
    {
     "name": "stdout",
     "output_type": "stream",
     "text": [
      "NP\n",
      "10\n",
      "Chaudhary\n",
      "9\n",
      "Yemini\n",
      "21\n",
      "Old FOCO\n",
      "10\n",
      "New FOCO\n",
      "20\n"
     ]
    }
   ],
   "source": [
    "datasets = [NP_dataset, chaud_dataset, Yem_dataset, old_FOCO_dataset, FOCO_dataset]\n",
    "names = ['NP', 'Chaudhary', 'Yemini', 'Old FOCO', 'New FOCO']\n",
    "for i, dataset in enumerate(datasets):\n",
    "    print(names[i])\n",
    "    print(len(dataset.keys()))\n"
   ]
  },
  {
   "cell_type": "code",
   "execution_count": 82,
   "metadata": {},
   "outputs": [
    {
     "name": "stdout",
     "output_type": "stream",
     "text": [
      "[0.336283185840708, 0.27350427350427353, 0.10344827586206896, 0.11382113821138211, 0.25203252032520324, 0.29508196721311475, 0.2558139534883721, 0.16379310344827586, 0.13445378151260504, 0.2376237623762376, 0.2980769230769231, 0.18584070796460178, 0.9333333333333333, 0.15178571428571427, 0.10752688172043011, 0.8717948717948718, 0.5683060109289617, 0.1794871794871795, 0.19834710743801653, 0.5172413793103449, 0.5168539325842697, 0.8958333333333334, 0.5988700564971752, 0.12195121951219512, 0.6378378378378379, 0.4176470588235294, 0.17857142857142858, 0.6101694915254238, 0.8711340206185567, 0.8808290155440415, 0.46111111111111114, 0.5271739130434783, 0.07692307692307693, 0.4438202247191011, 0.3072289156626506, 0.16981132075471697, 0.25139664804469275, 0.2748091603053435, 0.21428571428571427, 0.11214953271028037, 0.20689655172413793, 0.659217877094972, 0.26857142857142857, 0.24271844660194175, 0.18333333333333332, 0.8290155440414507, 0.1746987951807229, 0.5232558139534884, 0.6243093922651933, 0.5833333333333334, 0.5257142857142857, 0.91005291005291, 0.01652892561983471, 0.09565217391304348, 0.8645833333333334, 0.09090909090909091, 0.1388888888888889, 0.9427083333333334, 0.24, 0.5617977528089888, 0.20353982300884957, 0.5851063829787234, 0.2627118644067797, 0.17777777777777778, 0.5, 0.5523255813953488, 0.2169811320754717, 0.6022099447513812, 0.917098445595855, 0.22941176470588234]\n",
      "[0.504424778761062, 0.4358974358974359, 0.16379310344827586, 0.21138211382113822, 0.43089430894308944, 0.4180327868852459, 0.313953488372093, 0.25862068965517243, 0.21008403361344538, 0.297029702970297, 0.3942307692307692, 0.37168141592920356, 0.8461538461538461, 0.21428571428571427, 0.10752688172043011, 0.8512820512820513, 0.7814207650273224, 0.358974358974359, 0.35537190082644626, 0.8563218390804598, 0.7921348314606742, 0.8489583333333334, 0.8022598870056498, 0.17073170731707318, 0.8054054054054054, 0.7647058823529411, 0.2976190476190476, 0.7740112994350282, 0.7938144329896907, 0.8704663212435233, 0.7444444444444445, 0.6847826086956522, 0.14285714285714285, 0.8089887640449438, 0.5903614457831325, 0.2169811320754717, 0.33519553072625696, 0.37404580152671757, 0.25, 0.11214953271028037, 0.26436781609195403, 0.7877094972067039, 0.3142857142857143, 0.3106796116504854, 0.3, 0.7875647668393783, 0.2289156626506024, 0.6976744186046512, 0.8232044198895028, 0.8333333333333334, 0.8171428571428572, 0.8624338624338624, 0.0, 0.16521739130434782, 0.8385416666666666, 0.21212121212121213, 0.19444444444444445, 0.8854166666666666, 0.408, 0.7640449438202247, 0.2743362831858407, 0.7021276595744681, 0.3728813559322034, 0.20555555555555555, 0.7738095238095238, 0.8023255813953488, 0.29245283018867924, 0.7790055248618785, 0.8860103626943006, 0.27058823529411763]\n"
     ]
    }
   ],
   "source": [
    "print(accs_NP)\n",
    "print(accs_full)"
   ]
  },
  {
   "cell_type": "code",
   "execution_count": null,
   "metadata": {},
   "outputs": [],
   "source": []
  },
  {
   "cell_type": "code",
   "execution_count": 77,
   "metadata": {},
   "outputs": [],
   "source": [
    "def plot_accuracies(datasets, csv_folders, labels, LR=False, atlas=None, title = 'Accuracy by dataset'):\n",
    "\n",
    "    num_data_total = np.sum([len(dataset.keys()) for dataset in datasets])\n",
    "\n",
    "    accs = np.empty((num_data_total, 6), dtype='O')\n",
    "\n",
    "    k=0\n",
    "\n",
    "    for i, dataset in enumerate(datasets):\n",
    "        csv_folder = csv_folders[i]\n",
    "        label = labels[i]\n",
    "        for j, key in enumerate(dataset.keys()):\n",
    "            csv = csv_folder + key +'.csv'\n",
    "            IDd, per_ID, acc = get_accuracy(dataset[key], pd.read_csv(csv), LR=LR, atlas=atlas)\n",
    "            acc.append(label)\n",
    "            acc.append(key)\n",
    "            accs[k,:] = acc\n",
    "            k+=1\n",
    "\n",
    "    df = pd.DataFrame(accs, columns = ['top_acc', 'top_2_acc', 'top_3_acc', 'top_4_acc', 'dataset', 'identifier'])\n",
    "\n",
    "    sns.boxplot(data=df, x = 'dataset', y='top_acc', hue='dataset', orient='v', dodge=False)\n",
    "\n",
    "    plt.ylabel('Percent autoID accuracy')\n",
    "    plt.ylim((0,1))\n",
    "\n",
    "    plt.title('NeuroPAL AutoID accuracy by dataset')\n",
    "\n",
    "    plt.show()\n",
    "\n",
    "    return df\n",
    "\n",
    "acc_df = plot_accuracies([NP_dataset, Yem_dataset, FOCO_dataset, old_FOCO_dataset, chaud_dataset], ['/Users/danielysprague/foco_lab/data/NP_nwb_results/','/Users/danielysprague/foco_lab/data/Yemini_NWB_results_match/', '/Users/danielysprague/foco_lab/data/NWB_Ray_results_match/', '/Users/danielysprague/foco_lab/data/NWB_foco_results_match/','/Users/danielysprague/foco_lab/data/NWB_chaudhary_results_match/'], ['NP','Yemini', 'FOCO', 'FOCO_old', 'Chaudhary'], LR=True, atlas=atlas)\n",
    "\n",
    "    "
   ]
  },
  {
   "cell_type": "code",
   "execution_count": 77,
   "metadata": {},
   "outputs": [
    {
     "data": {
      "text/html": [
       "<div>\n",
       "<style scoped>\n",
       "    .dataframe tbody tr th:only-of-type {\n",
       "        vertical-align: middle;\n",
       "    }\n",
       "\n",
       "    .dataframe tbody tr th {\n",
       "        vertical-align: top;\n",
       "    }\n",
       "\n",
       "    .dataframe thead th {\n",
       "        text-align: right;\n",
       "    }\n",
       "</style>\n",
       "<table border=\"1\" class=\"dataframe\">\n",
       "  <thead>\n",
       "    <tr style=\"text-align: right;\">\n",
       "      <th></th>\n",
       "      <th>avg_col_discrim</th>\n",
       "      <th>identifier</th>\n",
       "    </tr>\n",
       "  </thead>\n",
       "  <tbody>\n",
       "    <tr>\n",
       "      <th>0</th>\n",
       "      <td>0.233278</td>\n",
       "      <td>20230412-20-15-17.nwb</td>\n",
       "    </tr>\n",
       "    <tr>\n",
       "      <th>1</th>\n",
       "      <td>0.182110</td>\n",
       "      <td>20230506-14-24-57.nwb</td>\n",
       "    </tr>\n",
       "    <tr>\n",
       "      <th>2</th>\n",
       "      <td>0.275786</td>\n",
       "      <td>20230510-13-25-46.nwb</td>\n",
       "    </tr>\n",
       "    <tr>\n",
       "      <th>3</th>\n",
       "      <td>0.145156</td>\n",
       "      <td>20230322-22-43-03.nwb</td>\n",
       "    </tr>\n",
       "    <tr>\n",
       "      <th>4</th>\n",
       "      <td>0.163429</td>\n",
       "      <td>20221106-21-47-31.nwb</td>\n",
       "    </tr>\n",
       "    <tr>\n",
       "      <th>...</th>\n",
       "      <td>...</td>\n",
       "      <td>...</td>\n",
       "    </tr>\n",
       "    <tr>\n",
       "      <th>56</th>\n",
       "      <td>1.837451</td>\n",
       "      <td>70_YAaLR.nwb</td>\n",
       "    </tr>\n",
       "    <tr>\n",
       "      <th>57</th>\n",
       "      <td>2.101219</td>\n",
       "      <td>55_YAaDV.nwb</td>\n",
       "    </tr>\n",
       "    <tr>\n",
       "      <th>58</th>\n",
       "      <td>1.792815</td>\n",
       "      <td>7_YAaLR.nwb</td>\n",
       "    </tr>\n",
       "    <tr>\n",
       "      <th>59</th>\n",
       "      <td>1.785512</td>\n",
       "      <td>62_YAaLR.nwb</td>\n",
       "    </tr>\n",
       "    <tr>\n",
       "      <th>60</th>\n",
       "      <td>2.016502</td>\n",
       "      <td>20_YAaLR.nwb</td>\n",
       "    </tr>\n",
       "  </tbody>\n",
       "</table>\n",
       "<p>61 rows × 2 columns</p>\n",
       "</div>"
      ],
      "text/plain": [
       "    avg_col_discrim             identifier\n",
       "0          0.233278  20230412-20-15-17.nwb\n",
       "1          0.182110  20230506-14-24-57.nwb\n",
       "2          0.275786  20230510-13-25-46.nwb\n",
       "3          0.145156  20230322-22-43-03.nwb\n",
       "4          0.163429  20221106-21-47-31.nwb\n",
       "..              ...                    ...\n",
       "56         1.837451           70_YAaLR.nwb\n",
       "57         2.101219           55_YAaDV.nwb\n",
       "58         1.792815            7_YAaLR.nwb\n",
       "59         1.785512           62_YAaLR.nwb\n",
       "60         2.016502           20_YAaLR.nwb\n",
       "\n",
       "[61 rows x 2 columns]"
      ]
     },
     "execution_count": 77,
     "metadata": {},
     "output_type": "execute_result"
    }
   ],
   "source": [
    "color_df"
   ]
  },
  {
   "cell_type": "code",
   "execution_count": 79,
   "metadata": {},
   "outputs": [],
   "source": [
    "color_acc = acc_df.merge(color_df, on='identifier')"
   ]
  },
  {
   "cell_type": "code",
   "execution_count": 80,
   "metadata": {},
   "outputs": [
    {
     "data": {
      "text/html": [
       "<div>\n",
       "<style scoped>\n",
       "    .dataframe tbody tr th:only-of-type {\n",
       "        vertical-align: middle;\n",
       "    }\n",
       "\n",
       "    .dataframe tbody tr th {\n",
       "        vertical-align: top;\n",
       "    }\n",
       "\n",
       "    .dataframe thead th {\n",
       "        text-align: right;\n",
       "    }\n",
       "</style>\n",
       "<table border=\"1\" class=\"dataframe\">\n",
       "  <thead>\n",
       "    <tr style=\"text-align: right;\">\n",
       "      <th></th>\n",
       "      <th>top_acc</th>\n",
       "      <th>top_2_acc</th>\n",
       "      <th>top_3_acc</th>\n",
       "      <th>top_4_acc</th>\n",
       "      <th>dataset</th>\n",
       "      <th>identifier</th>\n",
       "      <th>avg_col_discrim</th>\n",
       "    </tr>\n",
       "  </thead>\n",
       "  <tbody>\n",
       "    <tr>\n",
       "      <th>0</th>\n",
       "      <td>0.910995</td>\n",
       "      <td>0.947644</td>\n",
       "      <td>0.958115</td>\n",
       "      <td>0.968586</td>\n",
       "      <td>NP</td>\n",
       "      <td>56_YAaDV</td>\n",
       "      <td>1.807562</td>\n",
       "    </tr>\n",
       "    <tr>\n",
       "      <th>1</th>\n",
       "      <td>0.905263</td>\n",
       "      <td>0.978947</td>\n",
       "      <td>0.984211</td>\n",
       "      <td>0.984211</td>\n",
       "      <td>NP</td>\n",
       "      <td>38_YAaDV</td>\n",
       "      <td>1.991833</td>\n",
       "    </tr>\n",
       "    <tr>\n",
       "      <th>2</th>\n",
       "      <td>0.920213</td>\n",
       "      <td>0.962766</td>\n",
       "      <td>0.973404</td>\n",
       "      <td>0.978723</td>\n",
       "      <td>NP</td>\n",
       "      <td>76_YAaDV</td>\n",
       "      <td>1.799838</td>\n",
       "    </tr>\n",
       "    <tr>\n",
       "      <th>3</th>\n",
       "      <td>0.896373</td>\n",
       "      <td>0.958549</td>\n",
       "      <td>0.974093</td>\n",
       "      <td>0.989637</td>\n",
       "      <td>NP</td>\n",
       "      <td>11_YAaLR</td>\n",
       "      <td>1.905245</td>\n",
       "    </tr>\n",
       "    <tr>\n",
       "      <th>4</th>\n",
       "      <td>0.878307</td>\n",
       "      <td>0.957672</td>\n",
       "      <td>0.962963</td>\n",
       "      <td>0.973545</td>\n",
       "      <td>NP</td>\n",
       "      <td>64_YAaDV</td>\n",
       "      <td>2.160154</td>\n",
       "    </tr>\n",
       "    <tr>\n",
       "      <th>...</th>\n",
       "      <td>...</td>\n",
       "      <td>...</td>\n",
       "      <td>...</td>\n",
       "      <td>...</td>\n",
       "      <td>...</td>\n",
       "      <td>...</td>\n",
       "      <td>...</td>\n",
       "    </tr>\n",
       "    <tr>\n",
       "      <th>56</th>\n",
       "      <td>0.365079</td>\n",
       "      <td>0.52381</td>\n",
       "      <td>0.634921</td>\n",
       "      <td>0.666667</td>\n",
       "      <td>FOCO_old</td>\n",
       "      <td>2022-02-12-w01-NP1</td>\n",
       "      <td>0.468498</td>\n",
       "    </tr>\n",
       "    <tr>\n",
       "      <th>57</th>\n",
       "      <td>0.6875</td>\n",
       "      <td>0.8125</td>\n",
       "      <td>0.854167</td>\n",
       "      <td>0.854167</td>\n",
       "      <td>FOCO_old</td>\n",
       "      <td>2022-01-22-w04-NP1</td>\n",
       "      <td>0.307903</td>\n",
       "    </tr>\n",
       "    <tr>\n",
       "      <th>58</th>\n",
       "      <td>0.6</td>\n",
       "      <td>0.7</td>\n",
       "      <td>0.725</td>\n",
       "      <td>0.725</td>\n",
       "      <td>FOCO_old</td>\n",
       "      <td>2022-04-26-w01-NP1</td>\n",
       "      <td>0.267753</td>\n",
       "    </tr>\n",
       "    <tr>\n",
       "      <th>59</th>\n",
       "      <td>0.5</td>\n",
       "      <td>0.657895</td>\n",
       "      <td>0.736842</td>\n",
       "      <td>0.789474</td>\n",
       "      <td>FOCO_old</td>\n",
       "      <td>2022-04-26-w00-NP1</td>\n",
       "      <td>0.569796</td>\n",
       "    </tr>\n",
       "    <tr>\n",
       "      <th>60</th>\n",
       "      <td>0.204545</td>\n",
       "      <td>0.409091</td>\n",
       "      <td>0.522727</td>\n",
       "      <td>0.568182</td>\n",
       "      <td>FOCO_old</td>\n",
       "      <td>2022-04-01-w00-NP1</td>\n",
       "      <td>0.464199</td>\n",
       "    </tr>\n",
       "  </tbody>\n",
       "</table>\n",
       "<p>61 rows × 7 columns</p>\n",
       "</div>"
      ],
      "text/plain": [
       "     top_acc top_2_acc top_3_acc top_4_acc   dataset          identifier  \\\n",
       "0   0.910995  0.947644  0.958115  0.968586        NP            56_YAaDV   \n",
       "1   0.905263  0.978947  0.984211  0.984211        NP            38_YAaDV   \n",
       "2   0.920213  0.962766  0.973404  0.978723        NP            76_YAaDV   \n",
       "3   0.896373  0.958549  0.974093  0.989637        NP            11_YAaLR   \n",
       "4   0.878307  0.957672  0.962963  0.973545        NP            64_YAaDV   \n",
       "..       ...       ...       ...       ...       ...                 ...   \n",
       "56  0.365079   0.52381  0.634921  0.666667  FOCO_old  2022-02-12-w01-NP1   \n",
       "57    0.6875    0.8125  0.854167  0.854167  FOCO_old  2022-01-22-w04-NP1   \n",
       "58       0.6       0.7     0.725     0.725  FOCO_old  2022-04-26-w01-NP1   \n",
       "59       0.5  0.657895  0.736842  0.789474  FOCO_old  2022-04-26-w00-NP1   \n",
       "60  0.204545  0.409091  0.522727  0.568182  FOCO_old  2022-04-01-w00-NP1   \n",
       "\n",
       "    avg_col_discrim  \n",
       "0          1.807562  \n",
       "1          1.991833  \n",
       "2          1.799838  \n",
       "3          1.905245  \n",
       "4          2.160154  \n",
       "..              ...  \n",
       "56         0.468498  \n",
       "57         0.307903  \n",
       "58         0.267753  \n",
       "59         0.569796  \n",
       "60         0.464199  \n",
       "\n",
       "[61 rows x 7 columns]"
      ]
     },
     "execution_count": 80,
     "metadata": {},
     "output_type": "execute_result"
    }
   ],
   "source": [
    "color_acc"
   ]
  },
  {
   "attachments": {},
   "cell_type": "markdown",
   "metadata": {},
   "source": [
    "## Figure 5: Atlas visualizations - projected color space visualization, unrollled butterfly visualization"
   ]
  },
  {
   "cell_type": "markdown",
   "metadata": {},
   "source": []
  }
 ],
 "metadata": {
  "kernelspec": {
   "display_name": "NWB-dev",
   "language": "python",
   "name": "python3"
  },
  "language_info": {
   "codemirror_mode": {
    "name": "ipython",
    "version": 3
   },
   "file_extension": ".py",
   "mimetype": "text/x-python",
   "name": "python",
   "nbconvert_exporter": "python",
   "pygments_lexer": "ipython3",
   "version": "3.11.4"
  },
  "orig_nbformat": 4
 },
 "nbformat": 4,
 "nbformat_minor": 2
}
